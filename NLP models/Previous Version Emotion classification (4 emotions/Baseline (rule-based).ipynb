{
  "nbformat": 4,
  "nbformat_minor": 0,
  "metadata": {
    "colab": {
      "name": "Baseline (rule-based model)",
      "provenance": [],
      "collapsed_sections": []
    },
    "kernelspec": {
      "name": "python3",
      "display_name": "Python 3"
    },
    "language_info": {
      "name": "python"
    }
  },
  "cells": [
    {
      "cell_type": "code",
      "metadata": {
        "id": "PJX4vkjj6wYz"
      },
      "source": [
        "#recommend mounting to drive to save train, val, test splits, for easy recovery later\n",
        "from google.colab import drive\n",
        "drive.mount('/content/drive')"
      ],
      "execution_count": null,
      "outputs": []
    },
    {
      "cell_type": "code",
      "metadata": {
        "id": "2Np2tf9D-IBA"
      },
      "source": [
        "%%capture \n",
        "import numpy as np\n",
        "import pandas as pd\n",
        "import nltk\n",
        "nltk.download(\"wordnet\")\n",
        "from nltk.corpus import wordnet\n",
        "import re\n",
        "from sklearn import metrics\n",
        "from sklearn.metrics import classification_report\n",
        "from sklearn.metrics import confusion_matrix\n",
        "from sklearn.model_selection import train_test_split"
      ],
      "execution_count": null,
      "outputs": []
    },
    {
      "cell_type": "markdown",
      "metadata": {
        "id": "LReMXB5LAeRP"
      },
      "source": [
        "##Dataset, data analysis and manipulation"
      ]
    },
    {
      "cell_type": "code",
      "metadata": {
        "id": "EKoAv5lWZ2Ql"
      },
      "source": [
        "#import empatheticPersonas dataset\n",
        "data = pd.read_csv('drive/MyDrive/empatheticPersonas.csv') #put dataset in Drive root folder or change path"
      ],
      "execution_count": null,
      "outputs": []
    },
    {
      "cell_type": "code",
      "metadata": {
        "id": "970S5rYfdZha"
      },
      "source": [
        "#extract sad patient response columns\n",
        "sad_df = data[['Sad - Patient response 1', 'Sad - Patient response 2', 'Sad - Patient response 3']]"
      ],
      "execution_count": null,
      "outputs": []
    },
    {
      "cell_type": "code",
      "metadata": {
        "id": "akJPZLoejc3c"
      },
      "source": [
        "#extract each column as series\n",
        "sad1 = sad_df['Sad - Patient response 1']\n",
        "sad2 = sad_df['Sad - Patient response 2']\n",
        "sad3 = sad_df['Sad - Patient response 3']"
      ],
      "execution_count": null,
      "outputs": []
    },
    {
      "cell_type": "code",
      "metadata": {
        "id": "sVQ2u44xjmYq"
      },
      "source": [
        "#concatenate series\n",
        "sad12 = sad1.append(sad2)\n",
        "sad = sad12.append(sad3)"
      ],
      "execution_count": null,
      "outputs": []
    },
    {
      "cell_type": "code",
      "metadata": {
        "id": "vsQEq6Vnm3Xy",
        "colab": {
          "base_uri": "https://localhost:8080/"
        },
        "outputId": "a1c18d12-7e64-46aa-dc2b-eadd2308b49a"
      },
      "source": [
        "#convert result to dataframe and drop rows with null values\n",
        "sad_df = sad.to_frame()\n",
        "sad_df = sad_df.dropna()"
      ],
      "execution_count": null,
      "outputs": [
        {
          "output_type": "stream",
          "text": [
            "INFO:numexpr.utils:NumExpr defaulting to 4 threads.\n"
          ],
          "name": "stderr"
        }
      ]
    },
    {
      "cell_type": "code",
      "metadata": {
        "id": "x4OPEjPgolx0"
      },
      "source": [
        "#insert class column with all values set to sadness and rename columns\n",
        "sad_df.insert(1, 'class', 'sadness')\n",
        "sad_df.columns = ['text', 'class']"
      ],
      "execution_count": null,
      "outputs": []
    },
    {
      "cell_type": "code",
      "metadata": {
        "id": "lBpKi41weI9z"
      },
      "source": [
        "#extract angry patient response columns\n",
        "angry_df = data[['Angry - Patient response 1', 'Angry - Patient response 2', 'Angry - Patient response 3']]"
      ],
      "execution_count": null,
      "outputs": []
    },
    {
      "cell_type": "code",
      "metadata": {
        "id": "_VSXPhZeqQzo"
      },
      "source": [
        "#extract each angry column as series\n",
        "angry1 = angry_df['Angry - Patient response 1']\n",
        "angry2 = angry_df['Angry - Patient response 2']\n",
        "angry3 = angry_df['Angry - Patient response 3']"
      ],
      "execution_count": null,
      "outputs": []
    },
    {
      "cell_type": "code",
      "metadata": {
        "id": "D8lh3xjDqgLS"
      },
      "source": [
        "#concatenate series\n",
        "angry12 = angry1.append(angry2)\n",
        "angry = angry12.append(angry3)"
      ],
      "execution_count": null,
      "outputs": []
    },
    {
      "cell_type": "code",
      "metadata": {
        "id": "CfWjB4ROqmt6"
      },
      "source": [
        "#convert angry series to dataframe and drop rows with null values\n",
        "angry_df = angry.to_frame()\n",
        "angry_df = angry_df.dropna()"
      ],
      "execution_count": null,
      "outputs": []
    },
    {
      "cell_type": "code",
      "metadata": {
        "id": "cQzwFuxMq1ND"
      },
      "source": [
        "#insert class column with all values set to anger and rename columns\n",
        "angry_df.insert(1, 'class', 'anger')\n",
        "angry_df.columns = ['text', 'class']"
      ],
      "execution_count": null,
      "outputs": []
    },
    {
      "cell_type": "code",
      "metadata": {
        "id": "yjVNnfX1liuh"
      },
      "source": [
        "#extract anxious/fearful patient response columns\n",
        "fearful_df = data[['Anxious - Patient response 1', 'Anxious - Patient response 2', 'Anxious - Patient response 3']]"
      ],
      "execution_count": null,
      "outputs": []
    },
    {
      "cell_type": "code",
      "metadata": {
        "id": "ZDp3ePeIltdX"
      },
      "source": [
        "#extract each fearful column as series\n",
        "fearful1 = fearful_df['Anxious - Patient response 1']\n",
        "fearful2 = fearful_df['Anxious - Patient response 2']\n",
        "fearful3 = fearful_df['Anxious - Patient response 3']"
      ],
      "execution_count": null,
      "outputs": []
    },
    {
      "cell_type": "code",
      "metadata": {
        "id": "q_FRex-pl6UV"
      },
      "source": [
        "#concatenate series\n",
        "fearful12 = fearful1.append(fearful2)\n",
        "fearful = fearful12.append(fearful3)"
      ],
      "execution_count": null,
      "outputs": []
    },
    {
      "cell_type": "code",
      "metadata": {
        "id": "wV01V83ZmDrH"
      },
      "source": [
        "#convert fearful series to dataframe and drop rows with null values\n",
        "fearful_df = fearful.to_frame()\n",
        "fearful_df = fearful_df.dropna()"
      ],
      "execution_count": null,
      "outputs": []
    },
    {
      "cell_type": "code",
      "metadata": {
        "id": "jWWcEF7RmNZq"
      },
      "source": [
        "#insert class column with all values set to fear and rename columns\n",
        "fearful_df.insert(1, 'class', 'fear')\n",
        "fearful_df.columns = ['text', 'class']"
      ],
      "execution_count": null,
      "outputs": []
    },
    {
      "cell_type": "code",
      "metadata": {
        "id": "SjuaHzcYmcLD"
      },
      "source": [
        "#extract happy patient response columns\n",
        "happy_df = data[['Happy - Patient response 1', 'Happy - Patient response 2', 'Happy - Patient response 3']]"
      ],
      "execution_count": null,
      "outputs": []
    },
    {
      "cell_type": "code",
      "metadata": {
        "id": "KwXYdx9LmlJd"
      },
      "source": [
        "#extract each happy column as series\n",
        "happy1 = happy_df['Happy - Patient response 1']\n",
        "happy2 = happy_df['Happy - Patient response 2']\n",
        "happy3 = happy_df['Happy - Patient response 3']"
      ],
      "execution_count": null,
      "outputs": []
    },
    {
      "cell_type": "code",
      "metadata": {
        "id": "P6lL7ciZmvGp"
      },
      "source": [
        "#concatenate series\n",
        "happy12 = happy1.append(happy2)\n",
        "happy = happy12.append(happy3)"
      ],
      "execution_count": null,
      "outputs": []
    },
    {
      "cell_type": "code",
      "metadata": {
        "id": "Uh9hjFn5m4Ey"
      },
      "source": [
        "#convert happy series to dataframe and drop rows with null values\n",
        "happy_df = happy.to_frame()\n",
        "happy_df = happy_df.dropna()"
      ],
      "execution_count": null,
      "outputs": []
    },
    {
      "cell_type": "code",
      "metadata": {
        "id": "dwc2O-AynBCE"
      },
      "source": [
        "#insert class column with all values set to joy and rename columns\n",
        "happy_df.insert(1, 'class', 'joy')\n",
        "happy_df.columns = ['text', 'class']"
      ],
      "execution_count": null,
      "outputs": []
    },
    {
      "cell_type": "code",
      "metadata": {
        "id": "KLYvjLjmrRJb"
      },
      "source": [
        "#concatenate sad, angry, fearful and happy dataframes into one, shuffle and reset indices\n",
        "df = pd.concat([sad_df, angry_df, fearful_df, happy_df])\n",
        "df = df.sample(frac=1).reset_index(drop=True)"
      ],
      "execution_count": null,
      "outputs": []
    },
    {
      "cell_type": "code",
      "metadata": {
        "id": "URddHzNJsR9V",
        "colab": {
          "base_uri": "https://localhost:8080/"
        },
        "outputId": "0c16c244-3a4a-462b-f47a-60927c1f1b6a"
      },
      "source": [
        "#we obtain a dataframe with 1181 rows, divided into four classes\n",
        "len(df)"
      ],
      "execution_count": null,
      "outputs": [
        {
          "output_type": "execute_result",
          "data": {
            "text/plain": [
              "1181"
            ]
          },
          "metadata": {},
          "execution_count": 70
        }
      ]
    },
    {
      "cell_type": "code",
      "metadata": {
        "id": "huVoD3nmlECc",
        "colab": {
          "base_uri": "https://localhost:8080/"
        },
        "outputId": "b1dc7d61-e345-4a60-b423-ef838f629f26"
      },
      "source": [
        "#The classes are well balanced\n",
        "df.groupby('class').size()"
      ],
      "execution_count": null,
      "outputs": [
        {
          "output_type": "execute_result",
          "data": {
            "text/plain": [
              "class\n",
              "anger      297\n",
              "fear       284\n",
              "joy        300\n",
              "sadness    300\n",
              "dtype: int64"
            ]
          },
          "metadata": {},
          "execution_count": 71
        }
      ]
    },
    {
      "cell_type": "code",
      "metadata": {
        "id": "dsc3I8XmRFz2"
      },
      "source": [
        "#remove punctuation from responses in text column and make everything lower case\n",
        "df['text'] = df['text'].str.replace('[^\\w\\s]','')\n",
        "df['text'] = df['text'].str.lower()"
      ],
      "execution_count": null,
      "outputs": []
    },
    {
      "cell_type": "code",
      "metadata": {
        "id": "0fAQALdtoRMu"
      },
      "source": [
        "df = df.rename(columns={'class': 'emotions'})"
      ],
      "execution_count": null,
      "outputs": []
    },
    {
      "cell_type": "code",
      "metadata": {
        "id": "xexOYQ3CBdH9"
      },
      "source": [
        "#make directory in drive to save dataset splits (change path if desired)\n",
        "!mkdir -p 'drive/MyDrive/emotion_data'"
      ],
      "execution_count": null,
      "outputs": []
    },
    {
      "cell_type": "code",
      "metadata": {
        "id": "NlTO-s8QoVKS"
      },
      "source": [
        "#generate the text files for train, val, and test datasets in 80:10:10 proportion\n",
        "\n",
        "#change paths if desired\n",
        "train_path = \"drive/MyDrive/emotion_data/my_train.txt\" \n",
        "test_path = \"drive/MyDrive/emotion_data/my_test.txt\"\n",
        "val_path = \"drive/MyDrive/emotion_data/my_val.txt\"\n",
        "\n",
        "\n",
        "from sklearn.model_selection import train_test_split\n",
        "import numpy as np\n",
        "\n",
        "# Creating training and validation sets using an 80-20 split\n",
        "input_train, input_val, target_train, target_val = train_test_split(df.text.to_numpy(), \n",
        "                                                                    df.emotions.to_numpy(), \n",
        "                                                                    test_size=0.2)\n",
        "\n",
        "# Split the validataion further to obtain a holdout dataset (for testing) -- split 50:50\n",
        "input_val, input_test, target_val, target_test = train_test_split(input_val, target_val, test_size=0.5)\n",
        "\n",
        "\n",
        "## create a dataframe for each dataset\n",
        "train_dataset = pd.DataFrame(data={\"text\": input_train, \"class\": target_train})\n",
        "val_dataset = pd.DataFrame(data={\"text\": input_val, \"class\": target_val})\n",
        "test_dataset = pd.DataFrame(data={\"text\": input_test, \"class\": target_test})\n",
        "final_dataset = {\"train\": train_dataset, \"val\": val_dataset , \"test\": test_dataset }\n",
        "\n",
        "train_dataset.to_csv(train_path, sep=\";\",header=False, index=False)\n",
        "val_dataset.to_csv(val_path, sep=\";\",header=False, index=False)\n",
        "test_dataset.to_csv(test_path, sep=\";\",header=False, index=False)"
      ],
      "execution_count": null,
      "outputs": []
    },
    {
      "cell_type": "code",
      "metadata": {
        "id": "_kBfSJUPIpMT",
        "colab": {
          "base_uri": "https://localhost:8080/"
        },
        "outputId": "1d05b4af-8b63-4d4a-c582-9ee8ace8ecd2"
      },
      "source": [
        "#sanity check\n",
        "train_dataset.count()"
      ],
      "execution_count": null,
      "outputs": [
        {
          "output_type": "execute_result",
          "data": {
            "text/plain": [
              "text     944\n",
              "class    944\n",
              "dtype: int64"
            ]
          },
          "metadata": {},
          "execution_count": 75
        }
      ]
    },
    {
      "cell_type": "markdown",
      "metadata": {
        "id": "wnQuW0fWtDvn"
      },
      "source": [
        "##Baseline\n",
        "\n",
        "We use as baseline the rule-based method which uses lists of 'for' and 'against' keywords to label emotions. This is the method which was implemented by Imperial student Ali Ghachem in the previous version of SATbot.\n",
        "\n",
        "The 'for' and 'against' lists contain synonyms and antonyms, respectively, of the target emotions, augmented using wordnet. For each emotion we count the number of 'for' words and the number of 'against' words, then subtract one from the other. The result is the score for that emotion. The higher score wins, and in case of ties the earliest emotion is chosen (the order being 'happy/content', 'sad', 'angry', 'anxious/scared')."
      ]
    },
    {
      "cell_type": "code",
      "metadata": {
        "id": "LDYT7udjtH5-"
      },
      "source": [
        "#We can test this method directly on our test set\n",
        "\n",
        "test_path = \"drive/MyDrive/emotion_data/my_test.txt\" #change path if necessary to match previous changes\n",
        "test_dataset = pd.read_csv(test_path, sep=';', header=None)\n",
        "test_dataset.columns = ['text', 'class']\n",
        "\n",
        "#define the functions we need (these are adapted from Ali Ghachem's original code)\n",
        "\n",
        "def calculate_emotion_scores(user_response):\n",
        "\n",
        "        user_input = user_response.lower()\n",
        "        tokenised_input = re.findall(r\"[\\w']+\", user_input)\n",
        "\n",
        "        scores = [\n",
        "            detect_happy(tokenised_input),\n",
        "            detect_sad(tokenised_input),\n",
        "            detect_angry(tokenised_input),\n",
        "            detect_anxious(tokenised_input)\n",
        "        ]\n",
        "\n",
        "        return scores\n",
        "\n",
        "\n",
        "def detect_happy(tokenised_input):\n",
        "\n",
        "        starting_for_keywords = [\n",
        "            \"good\",\n",
        "            \"happy\",\n",
        "            \"fine\",\n",
        "            \"well\",\n",
        "            \"delighted\",\n",
        "            \"great\",\n",
        "            \"positive\",\n",
        "            \"decent\",\n",
        "            \"content\",\n",
        "            \"relaxed\",\n",
        "            \"ok\",\n",
        "            \"joyful\"\n",
        "        ]\n",
        "        starting_against_keywords = [\n",
        "            \"sad\",\n",
        "            \"unhappy\",\n",
        "            \"angry\",\n",
        "            \"scared\",\n",
        "            \"anxious\",\n",
        "            \"upset\"\n",
        "        ]\n",
        "\n",
        "        #keywords for detecting and not detecting the emotion, respectively\n",
        "        for_keywords, against_keywords = extract_for_and_against_keywords(\n",
        "            starting_for_keywords, starting_against_keywords\n",
        "        )\n",
        "\n",
        "        return calculate_score(tokenised_input, for_keywords, against_keywords)\n",
        "\n",
        "\n",
        "def detect_sad(tokenised_input):\n",
        "        starting_for_keywords = [\"bad\", \"sad\", \"unhappy\", \"depressed\"]\n",
        "        starting_against_keywords = [\n",
        "            \"neutral\",\n",
        "            \"angry\",\n",
        "            \"scared\",\n",
        "            \"anxious\",\n",
        "            \"happy\",\n",
        "            \"worried\",\n",
        "            \"not\",\n",
        "        ]\n",
        "\n",
        "        # Keywords for detecting and not detecting the behaviour, respectively\n",
        "        for_keywords, against_keywords = extract_for_and_against_keywords(\n",
        "            starting_for_keywords, starting_against_keywords\n",
        "        )\n",
        "\n",
        "        return calculate_score(tokenised_input, for_keywords, against_keywords)\n",
        "\n",
        "\n",
        "def detect_angry(tokenised_input):\n",
        "        starting_for_keywords = [\"angry\", \"furious\", \"rage\", \"enraged\"]\n",
        "        starting_against_keywords = [\n",
        "            \"neutral\",\n",
        "            \"upset\",\n",
        "            \"depressed\",\n",
        "            \"scared\",\n",
        "            \"anxious\",\n",
        "            \"worried\",\n",
        "            \"happy\",\n",
        "        ]\n",
        "\n",
        "        # Keywords for detecting and not detecting the behaviour, respectively\n",
        "        for_keywords, against_keywords = extract_for_and_against_keywords(\n",
        "            starting_for_keywords, starting_against_keywords\n",
        "        )\n",
        "\n",
        "        return calculate_score(tokenised_input, for_keywords, against_keywords)\n",
        "\n",
        "\n",
        "def detect_anxious(tokenised_input):\n",
        "        starting_for_keywords = [\"scared\", \"afraid\", \"anxious\", \"worried\", \"fearful\"]\n",
        "        starting_against_keywords = [\"neutral\", \"upset\", \"depressed\", \"happy\", \"angry\", \"furious\"]\n",
        "\n",
        "        # Keywords for detecting and not detecting the behaviour, respectively\n",
        "        for_keywords, against_keywords = extract_for_and_against_keywords(\n",
        "            starting_for_keywords, starting_against_keywords\n",
        "        )\n",
        "\n",
        "        return calculate_score(tokenised_input, for_keywords, against_keywords)\n",
        "\n",
        "\n",
        "def extract_for_and_against_keywords(\n",
        "        starting_for_keywords, starting_against_keywords\n",
        "    ):\n",
        "        for_keywords = starting_for_keywords\n",
        "        against_keywords = starting_against_keywords\n",
        "        for i in range(len(starting_for_keywords)):\n",
        "            word = starting_for_keywords[i]\n",
        "            for syn in wordnet.synsets(word):\n",
        "                for lemma in syn.lemmas():\n",
        "                    # Adds lemmas to for_keywords\n",
        "                    for_keywords.append(lemma.name())\n",
        "                    if lemma.antonyms():\n",
        "                        for antonym in lemma.antonyms():\n",
        "                            against_keywords.append(antonym.name())\n",
        "\n",
        "        return set(for_keywords), set(against_keywords)\n",
        "\n",
        "\n",
        "def calculate_score(user_input, for_keywords, against_keywords):\n",
        "\n",
        "        score = 0\n",
        "        for word in user_input:\n",
        "            if word in for_keywords:\n",
        "                score += 1\n",
        "\n",
        "            elif word in against_keywords:\n",
        "                score -= 1\n",
        "\n",
        "        return score\n"
      ],
      "execution_count": null,
      "outputs": []
    },
    {
      "cell_type": "code",
      "metadata": {
        "id": "8XfH3HZN3Lga"
      },
      "source": [
        "def get_emotion_rulebased(text):\n",
        "\n",
        "  emotion_scores = calculate_emotion_scores(text)\n",
        "  max_pos = np.argmax(emotion_scores)\n",
        "  emotion = ''\n",
        "\n",
        "  if max_pos == 0:\n",
        "    emotion = 'joy'\n",
        "  elif max_pos == 1:\n",
        "    emotion = 'sadness'\n",
        "  elif max_pos == 2:\n",
        "    emotion = 'anger'\n",
        "  else:\n",
        "    emotion = 'fear'\n",
        "\n",
        "  return emotion"
      ],
      "execution_count": null,
      "outputs": []
    },
    {
      "cell_type": "code",
      "metadata": {
        "id": "i8qMcP9x1rT5",
        "colab": {
          "base_uri": "https://localhost:8080/",
          "height": 35
        },
        "outputId": "e024fae2-2702-4cc6-a5ef-b9e1e996cb73"
      },
      "source": [
        "#quick sanity check before testing on the whole test set\n",
        "text=\"I feel like nothing matters anymore\" #we try a sentence with no sentiment word to trick the model, but the sentiment is clear (sadness)\n",
        "get_emotion_rulebased(text)"
      ],
      "execution_count": null,
      "outputs": [
        {
          "output_type": "execute_result",
          "data": {
            "application/vnd.google.colaboratory.intrinsic+json": {
              "type": "string"
            },
            "text/plain": [
              "'joy'"
            ]
          },
          "metadata": {},
          "execution_count": 28
        }
      ]
    },
    {
      "cell_type": "code",
      "metadata": {
        "id": "RKhG44RC5fWm"
      },
      "source": [
        "#now we test this on our test set (the same we will use to test the finetuned transformer model)\n",
        "\n",
        "test_dataset['pred'] = ''\n",
        "\n",
        "for index, row in test_dataset.iterrows():\n",
        "  test_dataset.at[index, 'pred'] = get_emotion_rulebased(row['text'])"
      ],
      "execution_count": null,
      "outputs": []
    },
    {
      "cell_type": "code",
      "metadata": {
        "id": "bLiGEYF86p9O",
        "colab": {
          "base_uri": "https://localhost:8080/"
        },
        "outputId": "a7c9c1f8-ed7b-4afd-c46a-854ee91713a6"
      },
      "source": [
        "#check accuracy on the held-out test set, we get ~63% - this is our baseline accuracy\n",
        "outputs = test_dataset['pred'].to_numpy().tolist()\n",
        "targets = test_dataset['class'].to_numpy().tolist()\n",
        "\n",
        "metrics.accuracy_score(targets, outputs).round(4)"
      ],
      "execution_count": null,
      "outputs": [
        {
          "output_type": "execute_result",
          "data": {
            "text/plain": [
              "0.6303"
            ]
          },
          "metadata": {},
          "execution_count": 30
        }
      ]
    },
    {
      "cell_type": "code",
      "metadata": {
        "id": "R7YE9qcY662s",
        "colab": {
          "base_uri": "https://localhost:8080/"
        },
        "outputId": "ab7c0239-3c49-475f-9d50-bed458381771"
      },
      "source": [
        "#check all metrics\n",
        "print(metrics.classification_report(targets, outputs, digits=4))"
      ],
      "execution_count": null,
      "outputs": [
        {
          "output_type": "stream",
          "text": [
            "              precision    recall  f1-score   support\n",
            "\n",
            "       anger     1.0000    0.3333    0.5000        27\n",
            "        fear     0.8148    0.6875    0.7458        32\n",
            "         joy     0.4032    1.0000    0.5747        25\n",
            "     sadness     0.9048    0.5429    0.6786        35\n",
            "\n",
            "    accuracy                         0.6303       119\n",
            "   macro avg     0.7807    0.6409    0.6248       119\n",
            "weighted avg     0.7968    0.6303    0.6343       119\n",
            "\n"
          ],
          "name": "stdout"
        }
      ]
    },
    {
      "cell_type": "code",
      "metadata": {
        "id": "dtbwGrsh6_kM",
        "colab": {
          "base_uri": "https://localhost:8080/",
          "height": 449
        },
        "outputId": "955f5453-207f-4bc5-d0c6-ba3dbeb9526d"
      },
      "source": [
        "#plot confusion matrix\n",
        "import seaborn as sn\n",
        "import pandas as pd\n",
        "import matplotlib.pyplot as plt\n",
        "\n",
        "cm = metrics.confusion_matrix(targets, outputs)\n",
        "\n",
        "df_cm = pd.DataFrame(cm, index = [\"anger\", \"fear\", \"joy\", \"sadness\"], columns = [\"anger\", \"fear\", \"joy\", \"sadness\"])\n",
        "plt.figure(figsize = (10,7))\n",
        "sn.heatmap(df_cm, annot=True, cmap='Greens', fmt='g')"
      ],
      "execution_count": null,
      "outputs": [
        {
          "output_type": "execute_result",
          "data": {
            "text/plain": [
              "<matplotlib.axes._subplots.AxesSubplot at 0x7f93684a9dd0>"
            ]
          },
          "metadata": {},
          "execution_count": 32
        },
        {
          "output_type": "display_data",
          "data": {
            "image/png": "[encoded data removed]",
            "text/plain": [
              "<Figure size 720x504 with 2 Axes>"
            ]
          },
          "metadata": {
            "needs_background": "light"
          }
        }
      ]
    },
    {
      "cell_type": "markdown",
      "metadata": {
        "id": "b1WCzT3B7PCq"
      },
      "source": [
        "Note that 'joy' gets predicted quite a lot. When the model finds no keyword and all the emotion values are zero, it always chooses the first emotion in the list, which is joy."
      ]
    }
  ]
}