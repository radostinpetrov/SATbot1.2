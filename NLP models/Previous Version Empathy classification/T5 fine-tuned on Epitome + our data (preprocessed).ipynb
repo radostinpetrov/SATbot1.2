{
  "nbformat": 4,
  "nbformat_minor": 0,
  "metadata": {
    "accelerator": "GPU",
    "colab": {
      "name": "empathy classifier (T5 finetuned on two datasets, prep)",
      "provenance": [],
      "collapsed_sections": [],
      "machine_shape": "hm"
    },
    "kernelspec": {
      "display_name": "Python 3",
      "name": "python3"
    },
    "language_info": {
      "name": "python"
    },
    "widgets": {
      "application/vnd.jupyter.widget-state+json": {
        "0e1938045b1c46d1ab7711a387547c1d": {
          "model_module": "@jupyter-widgets/controls",
          "model_name": "HBoxModel",
          "model_module_version": "1.5.0",
          "state": {
            "_view_name": "HBoxView",
            "_dom_classes": [],
            "_model_name": "HBoxModel",
            "_view_module": "@jupyter-widgets/controls",
            "_model_module_version": "1.5.0",
            "_view_count": null,
            "_view_module_version": "1.5.0",
            "box_style": "",
            "layout": "IPY_MODEL_0430eacfe95742a8951c4b74d6e21488",
            "_model_module": "@jupyter-widgets/controls",
            "children": [
              "IPY_MODEL_13bbbb9c2f364fbf8dc4193ce5664935",
              "IPY_MODEL_33fc2d7f463b49aea1d87e2715a8cdaf",
              "IPY_MODEL_239b7c92735c4339b9bb7da57bac2c37"
            ]
          }
        },
        "0430eacfe95742a8951c4b74d6e21488": {
          "model_module": "@jupyter-widgets/base",
          "model_name": "LayoutModel",
          "model_module_version": "1.2.0",
          "state": {
            "_view_name": "LayoutView",
            "grid_template_rows": null,
            "right": null,
            "justify_content": null,
            "_view_module": "@jupyter-widgets/base",
            "overflow": null,
            "_model_module_version": "1.2.0",
            "_view_count": null,
            "flex_flow": null,
            "width": null,
            "min_width": null,
            "border": null,
            "align_items": null,
            "bottom": null,
            "_model_module": "@jupyter-widgets/base",
            "top": null,
            "grid_column": null,
            "overflow_y": null,
            "overflow_x": null,
            "grid_auto_flow": null,
            "grid_area": null,
            "grid_template_columns": null,
            "flex": null,
            "_model_name": "LayoutModel",
            "justify_items": null,
            "grid_row": null,
            "max_height": null,
            "align_content": null,
            "visibility": null,
            "align_self": null,
            "height": null,
            "min_height": null,
            "padding": null,
            "grid_auto_rows": null,
            "grid_gap": null,
            "max_width": null,
            "order": null,
            "_view_module_version": "1.2.0",
            "grid_template_areas": null,
            "object_position": null,
            "object_fit": null,
            "grid_auto_columns": null,
            "margin": null,
            "display": null,
            "left": null
          }
        },
        "13bbbb9c2f364fbf8dc4193ce5664935": {
          "model_module": "@jupyter-widgets/controls",
          "model_name": "HTMLModel",
          "model_module_version": "1.5.0",
          "state": {
            "_view_name": "HTMLView",
            "style": "IPY_MODEL_302e961d7d564b49aba2d2371d4ba9a5",
            "_dom_classes": [],
            "description": "",
            "_model_name": "HTMLModel",
            "placeholder": "​",
            "_view_module": "@jupyter-widgets/controls",
            "_model_module_version": "1.5.0",
            "value": "Downloading: 100%",
            "_view_count": null,
            "_view_module_version": "1.5.0",
            "description_tooltip": null,
            "_model_module": "@jupyter-widgets/controls",
            "layout": "IPY_MODEL_0a3b73c78d034897adba6ffc3faa95ae"
          }
        },
        "33fc2d7f463b49aea1d87e2715a8cdaf": {
          "model_module": "@jupyter-widgets/controls",
          "model_name": "FloatProgressModel",
          "model_module_version": "1.5.0",
          "state": {
            "_view_name": "ProgressView",
            "style": "IPY_MODEL_a2af2163faab46e6a2820953efe54ee7",
            "_dom_classes": [],
            "description": "",
            "_model_name": "FloatProgressModel",
            "bar_style": "success",
            "max": 791656,
            "_view_module": "@jupyter-widgets/controls",
            "_model_module_version": "1.5.0",
            "value": 791656,
            "_view_count": null,
            "_view_module_version": "1.5.0",
            "orientation": "horizontal",
            "min": 0,
            "description_tooltip": null,
            "_model_module": "@jupyter-widgets/controls",
            "layout": "IPY_MODEL_8ebef8b8906e4fc881a0d4ab0c7f2bb7"
          }
        },
        "239b7c92735c4339b9bb7da57bac2c37": {
          "model_module": "@jupyter-widgets/controls",
          "model_name": "HTMLModel",
          "model_module_version": "1.5.0",
          "state": {
            "_view_name": "HTMLView",
            "style": "IPY_MODEL_ea1286b040df47c4a5095cbb02e94123",
            "_dom_classes": [],
            "description": "",
            "_model_name": "HTMLModel",
            "placeholder": "​",
            "_view_module": "@jupyter-widgets/controls",
            "_model_module_version": "1.5.0",
            "value": " 792k/792k [00:01&lt;00:00, 965kB/s]",
            "_view_count": null,
            "_view_module_version": "1.5.0",
            "description_tooltip": null,
            "_model_module": "@jupyter-widgets/controls",
            "layout": "IPY_MODEL_1d2f56e856f64bc6a8176b6a4a04095e"
          }
        },
        "302e961d7d564b49aba2d2371d4ba9a5": {
          "model_module": "@jupyter-widgets/controls",
          "model_name": "DescriptionStyleModel",
          "model_module_version": "1.5.0",
          "state": {
            "_view_name": "StyleView",
            "_model_name": "DescriptionStyleModel",
            "description_width": "",
            "_view_module": "@jupyter-widgets/base",
            "_model_module_version": "1.5.0",
            "_view_count": null,
            "_view_module_version": "1.2.0",
            "_model_module": "@jupyter-widgets/controls"
          }
        },
        "0a3b73c78d034897adba6ffc3faa95ae": {
          "model_module": "@jupyter-widgets/base",
          "model_name": "LayoutModel",
          "model_module_version": "1.2.0",
          "state": {
            "_view_name": "LayoutView",
            "grid_template_rows": null,
            "right": null,
            "justify_content": null,
            "_view_module": "@jupyter-widgets/base",
            "overflow": null,
            "_model_module_version": "1.2.0",
            "_view_count": null,
            "flex_flow": null,
            "width": null,
            "min_width": null,
            "border": null,
            "align_items": null,
            "bottom": null,
            "_model_module": "@jupyter-widgets/base",
            "top": null,
            "grid_column": null,
            "overflow_y": null,
            "overflow_x": null,
            "grid_auto_flow": null,
            "grid_area": null,
            "grid_template_columns": null,
            "flex": null,
            "_model_name": "LayoutModel",
            "justify_items": null,
            "grid_row": null,
            "max_height": null,
            "align_content": null,
            "visibility": null,
            "align_self": null,
            "height": null,
            "min_height": null,
            "padding": null,
            "grid_auto_rows": null,
            "grid_gap": null,
            "max_width": null,
            "order": null,
            "_view_module_version": "1.2.0",
            "grid_template_areas": null,
            "object_position": null,
            "object_fit": null,
            "grid_auto_columns": null,
            "margin": null,
            "display": null,
            "left": null
          }
        },
        "a2af2163faab46e6a2820953efe54ee7": {
          "model_module": "@jupyter-widgets/controls",
          "model_name": "ProgressStyleModel",
          "model_module_version": "1.5.0",
          "state": {
            "_view_name": "StyleView",
            "_model_name": "ProgressStyleModel",
            "description_width": "",
            "_view_module": "@jupyter-widgets/base",
            "_model_module_version": "1.5.0",
            "_view_count": null,
            "_view_module_version": "1.2.0",
            "bar_color": null,
            "_model_module": "@jupyter-widgets/controls"
          }
        },
        "8ebef8b8906e4fc881a0d4ab0c7f2bb7": {
          "model_module": "@jupyter-widgets/base",
          "model_name": "LayoutModel",
          "model_module_version": "1.2.0",
          "state": {
            "_view_name": "LayoutView",
            "grid_template_rows": null,
            "right": null,
            "justify_content": null,
            "_view_module": "@jupyter-widgets/base",
            "overflow": null,
            "_model_module_version": "1.2.0",
            "_view_count": null,
            "flex_flow": null,
            "width": null,
            "min_width": null,
            "border": null,
            "align_items": null,
            "bottom": null,
            "_model_module": "@jupyter-widgets/base",
            "top": null,
            "grid_column": null,
            "overflow_y": null,
            "overflow_x": null,
            "grid_auto_flow": null,
            "grid_area": null,
            "grid_template_columns": null,
            "flex": null,
            "_model_name": "LayoutModel",
            "justify_items": null,
            "grid_row": null,
            "max_height": null,
            "align_content": null,
            "visibility": null,
            "align_self": null,
            "height": null,
            "min_height": null,
            "padding": null,
            "grid_auto_rows": null,
            "grid_gap": null,
            "max_width": null,
            "order": null,
            "_view_module_version": "1.2.0",
            "grid_template_areas": null,
            "object_position": null,
            "object_fit": null,
            "grid_auto_columns": null,
            "margin": null,
            "display": null,
            "left": null
          }
        },
        "ea1286b040df47c4a5095cbb02e94123": {
          "model_module": "@jupyter-widgets/controls",
          "model_name": "DescriptionStyleModel",
          "model_module_version": "1.5.0",
          "state": {
            "_view_name": "StyleView",
            "_model_name": "DescriptionStyleModel",
            "description_width": "",
            "_view_module": "@jupyter-widgets/base",
            "_model_module_version": "1.5.0",
            "_view_count": null,
            "_view_module_version": "1.2.0",
            "_model_module": "@jupyter-widgets/controls"
          }
        },
        "1d2f56e856f64bc6a8176b6a4a04095e": {
          "model_module": "@jupyter-widgets/base",
          "model_name": "LayoutModel",
          "model_module_version": "1.2.0",
          "state": {
            "_view_name": "LayoutView",
            "grid_template_rows": null,
            "right": null,
            "justify_content": null,
            "_view_module": "@jupyter-widgets/base",
            "overflow": null,
            "_model_module_version": "1.2.0",
            "_view_count": null,
            "flex_flow": null,
            "width": null,
            "min_width": null,
            "border": null,
            "align_items": null,
            "bottom": null,
            "_model_module": "@jupyter-widgets/base",
            "top": null,
            "grid_column": null,
            "overflow_y": null,
            "overflow_x": null,
            "grid_auto_flow": null,
            "grid_area": null,
            "grid_template_columns": null,
            "flex": null,
            "_model_name": "LayoutModel",
            "justify_items": null,
            "grid_row": null,
            "max_height": null,
            "align_content": null,
            "visibility": null,
            "align_self": null,
            "height": null,
            "min_height": null,
            "padding": null,
            "grid_auto_rows": null,
            "grid_gap": null,
            "max_width": null,
            "order": null,
            "_view_module_version": "1.2.0",
            "grid_template_areas": null,
            "object_position": null,
            "object_fit": null,
            "grid_auto_columns": null,
            "margin": null,
            "display": null,
            "left": null
          }
        },
        "a97d866c828743d3ba58c185bb3cd989": {
          "model_module": "@jupyter-widgets/controls",
          "model_name": "HBoxModel",
          "model_module_version": "1.5.0",
          "state": {
            "_view_name": "HBoxView",
            "_dom_classes": [],
            "_model_name": "HBoxModel",
            "_view_module": "@jupyter-widgets/controls",
            "_model_module_version": "1.5.0",
            "_view_count": null,
            "_view_module_version": "1.5.0",
            "box_style": "",
            "layout": "IPY_MODEL_85771efc286b4fc6b04d64ad7f4b9383",
            "_model_module": "@jupyter-widgets/controls",
            "children": [
              "IPY_MODEL_83cc2ddf7478456ab04bfc21d4b19f03",
              "IPY_MODEL_0d41fe432b6446308b6ed5055dd0598d",
              "IPY_MODEL_fc7accbbb30b451e80c4f4f866a67fd9"
            ]
          }
        },
        "85771efc286b4fc6b04d64ad7f4b9383": {
          "model_module": "@jupyter-widgets/base",
          "model_name": "LayoutModel",
          "model_module_version": "1.2.0",
          "state": {
            "_view_name": "LayoutView",
            "grid_template_rows": null,
            "right": null,
            "justify_content": null,
            "_view_module": "@jupyter-widgets/base",
            "overflow": null,
            "_model_module_version": "1.2.0",
            "_view_count": null,
            "flex_flow": null,
            "width": null,
            "min_width": null,
            "border": null,
            "align_items": null,
            "bottom": null,
            "_model_module": "@jupyter-widgets/base",
            "top": null,
            "grid_column": null,
            "overflow_y": null,
            "overflow_x": null,
            "grid_auto_flow": null,
            "grid_area": null,
            "grid_template_columns": null,
            "flex": null,
            "_model_name": "LayoutModel",
            "justify_items": null,
            "grid_row": null,
            "max_height": null,
            "align_content": null,
            "visibility": null,
            "align_self": null,
            "height": null,
            "min_height": null,
            "padding": null,
            "grid_auto_rows": null,
            "grid_gap": null,
            "max_width": null,
            "order": null,
            "_view_module_version": "1.2.0",
            "grid_template_areas": null,
            "object_position": null,
            "object_fit": null,
            "grid_auto_columns": null,
            "margin": null,
            "display": null,
            "left": null
          }
        },
        "83cc2ddf7478456ab04bfc21d4b19f03": {
          "model_module": "@jupyter-widgets/controls",
          "model_name": "HTMLModel",
          "model_module_version": "1.5.0",
          "state": {
            "_view_name": "HTMLView",
            "style": "IPY_MODEL_6bc438043a164e40add7faff7c1929f8",
            "_dom_classes": [],
            "description": "",
            "_model_name": "HTMLModel",
            "placeholder": "​",
            "_view_module": "@jupyter-widgets/controls",
            "_model_module_version": "1.5.0",
            "value": "100%",
            "_view_count": null,
            "_view_module_version": "1.5.0",
            "description_tooltip": null,
            "_model_module": "@jupyter-widgets/controls",
            "layout": "IPY_MODEL_5ab811d6ea2345ac9e25c017d86ce234"
          }
        },
        "0d41fe432b6446308b6ed5055dd0598d": {
          "model_module": "@jupyter-widgets/controls",
          "model_name": "FloatProgressModel",
          "model_module_version": "1.5.0",
          "state": {
            "_view_name": "ProgressView",
            "style": "IPY_MODEL_ff7f0ad4fa4e4e74af2a321a78465a48",
            "_dom_classes": [],
            "description": "",
            "_model_name": "FloatProgressModel",
            "bar_style": "success",
            "max": 20,
            "_view_module": "@jupyter-widgets/controls",
            "_model_module_version": "1.5.0",
            "value": 20,
            "_view_count": null,
            "_view_module_version": "1.5.0",
            "orientation": "horizontal",
            "min": 0,
            "description_tooltip": null,
            "_model_module": "@jupyter-widgets/controls",
            "layout": "IPY_MODEL_e2dd2bae41c54d019c08acc9615af2f5"
          }
        },
        "fc7accbbb30b451e80c4f4f866a67fd9": {
          "model_module": "@jupyter-widgets/controls",
          "model_name": "HTMLModel",
          "model_module_version": "1.5.0",
          "state": {
            "_view_name": "HTMLView",
            "style": "IPY_MODEL_a9339b9e39664f4eb0a0f05baf7bd417",
            "_dom_classes": [],
            "description": "",
            "_model_name": "HTMLModel",
            "placeholder": "​",
            "_view_module": "@jupyter-widgets/controls",
            "_model_module_version": "1.5.0",
            "value": " 20/20 [00:12&lt;00:00,  1.94it/s]",
            "_view_count": null,
            "_view_module_version": "1.5.0",
            "description_tooltip": null,
            "_model_module": "@jupyter-widgets/controls",
            "layout": "IPY_MODEL_94551c01c5234540997f29a006bbac6f"
          }
        },
        "6bc438043a164e40add7faff7c1929f8": {
          "model_module": "@jupyter-widgets/controls",
          "model_name": "DescriptionStyleModel",
          "model_module_version": "1.5.0",
          "state": {
            "_view_name": "StyleView",
            "_model_name": "DescriptionStyleModel",
            "description_width": "",
            "_view_module": "@jupyter-widgets/base",
            "_model_module_version": "1.5.0",
            "_view_count": null,
            "_view_module_version": "1.2.0",
            "_model_module": "@jupyter-widgets/controls"
          }
        },
        "5ab811d6ea2345ac9e25c017d86ce234": {
          "model_module": "@jupyter-widgets/base",
          "model_name": "LayoutModel",
          "model_module_version": "1.2.0",
          "state": {
            "_view_name": "LayoutView",
            "grid_template_rows": null,
            "right": null,
            "justify_content": null,
            "_view_module": "@jupyter-widgets/base",
            "overflow": null,
            "_model_module_version": "1.2.0",
            "_view_count": null,
            "flex_flow": null,
            "width": null,
            "min_width": null,
            "border": null,
            "align_items": null,
            "bottom": null,
            "_model_module": "@jupyter-widgets/base",
            "top": null,
            "grid_column": null,
            "overflow_y": null,
            "overflow_x": null,
            "grid_auto_flow": null,
            "grid_area": null,
            "grid_template_columns": null,
            "flex": null,
            "_model_name": "LayoutModel",
            "justify_items": null,
            "grid_row": null,
            "max_height": null,
            "align_content": null,
            "visibility": null,
            "align_self": null,
            "height": null,
            "min_height": null,
            "padding": null,
            "grid_auto_rows": null,
            "grid_gap": null,
            "max_width": null,
            "order": null,
            "_view_module_version": "1.2.0",
            "grid_template_areas": null,
            "object_position": null,
            "object_fit": null,
            "grid_auto_columns": null,
            "margin": null,
            "display": null,
            "left": null
          }
        },
        "ff7f0ad4fa4e4e74af2a321a78465a48": {
          "model_module": "@jupyter-widgets/controls",
          "model_name": "ProgressStyleModel",
          "model_module_version": "1.5.0",
          "state": {
            "_view_name": "StyleView",
            "_model_name": "ProgressStyleModel",
            "description_width": "",
            "_view_module": "@jupyter-widgets/base",
            "_model_module_version": "1.5.0",
            "_view_count": null,
            "_view_module_version": "1.2.0",
            "bar_color": null,
            "_model_module": "@jupyter-widgets/controls"
          }
        },
        "e2dd2bae41c54d019c08acc9615af2f5": {
          "model_module": "@jupyter-widgets/base",
          "model_name": "LayoutModel",
          "model_module_version": "1.2.0",
          "state": {
            "_view_name": "LayoutView",
            "grid_template_rows": null,
            "right": null,
            "justify_content": null,
            "_view_module": "@jupyter-widgets/base",
            "overflow": null,
            "_model_module_version": "1.2.0",
            "_view_count": null,
            "flex_flow": null,
            "width": null,
            "min_width": null,
            "border": null,
            "align_items": null,
            "bottom": null,
            "_model_module": "@jupyter-widgets/base",
            "top": null,
            "grid_column": null,
            "overflow_y": null,
            "overflow_x": null,
            "grid_auto_flow": null,
            "grid_area": null,
            "grid_template_columns": null,
            "flex": null,
            "_model_name": "LayoutModel",
            "justify_items": null,
            "grid_row": null,
            "max_height": null,
            "align_content": null,
            "visibility": null,
            "align_self": null,
            "height": null,
            "min_height": null,
            "padding": null,
            "grid_auto_rows": null,
            "grid_gap": null,
            "max_width": null,
            "order": null,
            "_view_module_version": "1.2.0",
            "grid_template_areas": null,
            "object_position": null,
            "object_fit": null,
            "grid_auto_columns": null,
            "margin": null,
            "display": null,
            "left": null
          }
        },
        "a9339b9e39664f4eb0a0f05baf7bd417": {
          "model_module": "@jupyter-widgets/controls",
          "model_name": "DescriptionStyleModel",
          "model_module_version": "1.5.0",
          "state": {
            "_view_name": "StyleView",
            "_model_name": "DescriptionStyleModel",
            "description_width": "",
            "_view_module": "@jupyter-widgets/base",
            "_model_module_version": "1.5.0",
            "_view_count": null,
            "_view_module_version": "1.2.0",
            "_model_module": "@jupyter-widgets/controls"
          }
        },
        "94551c01c5234540997f29a006bbac6f": {
          "model_module": "@jupyter-widgets/base",
          "model_name": "LayoutModel",
          "model_module_version": "1.2.0",
          "state": {
            "_view_name": "LayoutView",
            "grid_template_rows": null,
            "right": null,
            "justify_content": null,
            "_view_module": "@jupyter-widgets/base",
            "overflow": null,
            "_model_module_version": "1.2.0",
            "_view_count": null,
            "flex_flow": null,
            "width": null,
            "min_width": null,
            "border": null,
            "align_items": null,
            "bottom": null,
            "_model_module": "@jupyter-widgets/base",
            "top": null,
            "grid_column": null,
            "overflow_y": null,
            "overflow_x": null,
            "grid_auto_flow": null,
            "grid_area": null,
            "grid_template_columns": null,
            "flex": null,
            "_model_name": "LayoutModel",
            "justify_items": null,
            "grid_row": null,
            "max_height": null,
            "align_content": null,
            "visibility": null,
            "align_self": null,
            "height": null,
            "min_height": null,
            "padding": null,
            "grid_auto_rows": null,
            "grid_gap": null,
            "max_width": null,
            "order": null,
            "_view_module_version": "1.2.0",
            "grid_template_areas": null,
            "object_position": null,
            "object_fit": null,
            "grid_auto_columns": null,
            "margin": null,
            "display": null,
            "left": null
          }
        },
        "d74a605974684d94a3b7ca72e4ee7024": {
          "model_module": "@jupyter-widgets/controls",
          "model_name": "HBoxModel",
          "model_module_version": "1.5.0",
          "state": {
            "_view_name": "HBoxView",
            "_dom_classes": [],
            "_model_name": "HBoxModel",
            "_view_module": "@jupyter-widgets/controls",
            "_model_module_version": "1.5.0",
            "_view_count": null,
            "_view_module_version": "1.5.0",
            "box_style": "",
            "layout": "IPY_MODEL_ee5df52a381d4990935e161385b54fd4",
            "_model_module": "@jupyter-widgets/controls",
            "children": [
              "IPY_MODEL_50332cd40411452786bb0758c32502da",
              "IPY_MODEL_cbac027dcc1b48d7a343a19b085b11b6",
              "IPY_MODEL_bb9282973191496aa71cc66dd71e721c"
            ]
          }
        },
        "ee5df52a381d4990935e161385b54fd4": {
          "model_module": "@jupyter-widgets/base",
          "model_name": "LayoutModel",
          "model_module_version": "1.2.0",
          "state": {
            "_view_name": "LayoutView",
            "grid_template_rows": null,
            "right": null,
            "justify_content": null,
            "_view_module": "@jupyter-widgets/base",
            "overflow": null,
            "_model_module_version": "1.2.0",
            "_view_count": null,
            "flex_flow": null,
            "width": null,
            "min_width": null,
            "border": null,
            "align_items": null,
            "bottom": null,
            "_model_module": "@jupyter-widgets/base",
            "top": null,
            "grid_column": null,
            "overflow_y": null,
            "overflow_x": null,
            "grid_auto_flow": null,
            "grid_area": null,
            "grid_template_columns": null,
            "flex": null,
            "_model_name": "LayoutModel",
            "justify_items": null,
            "grid_row": null,
            "max_height": null,
            "align_content": null,
            "visibility": null,
            "align_self": null,
            "height": null,
            "min_height": null,
            "padding": null,
            "grid_auto_rows": null,
            "grid_gap": null,
            "max_width": null,
            "order": null,
            "_view_module_version": "1.2.0",
            "grid_template_areas": null,
            "object_position": null,
            "object_fit": null,
            "grid_auto_columns": null,
            "margin": null,
            "display": null,
            "left": null
          }
        },
        "50332cd40411452786bb0758c32502da": {
          "model_module": "@jupyter-widgets/controls",
          "model_name": "HTMLModel",
          "model_module_version": "1.5.0",
          "state": {
            "_view_name": "HTMLView",
            "style": "IPY_MODEL_a5026eb6436649279b1fc4a2224dcb55",
            "_dom_classes": [],
            "description": "",
            "_model_name": "HTMLModel",
            "placeholder": "​",
            "_view_module": "@jupyter-widgets/controls",
            "_model_module_version": "1.5.0",
            "value": "100%",
            "_view_count": null,
            "_view_module_version": "1.5.0",
            "description_tooltip": null,
            "_model_module": "@jupyter-widgets/controls",
            "layout": "IPY_MODEL_a61438c40c6740168a48cf3d39bebba4"
          }
        },
        "cbac027dcc1b48d7a343a19b085b11b6": {
          "model_module": "@jupyter-widgets/controls",
          "model_name": "FloatProgressModel",
          "model_module_version": "1.5.0",
          "state": {
            "_view_name": "ProgressView",
            "style": "IPY_MODEL_09751c2397744db795f85f751f6b0a7f",
            "_dom_classes": [],
            "description": "",
            "_model_name": "FloatProgressModel",
            "bar_style": "success",
            "max": 4,
            "_view_module": "@jupyter-widgets/controls",
            "_model_module_version": "1.5.0",
            "value": 4,
            "_view_count": null,
            "_view_module_version": "1.5.0",
            "orientation": "horizontal",
            "min": 0,
            "description_tooltip": null,
            "_model_module": "@jupyter-widgets/controls",
            "layout": "IPY_MODEL_b53b06b2cb4f4030aba5cdc3038067d0"
          }
        },
        "bb9282973191496aa71cc66dd71e721c": {
          "model_module": "@jupyter-widgets/controls",
          "model_name": "HTMLModel",
          "model_module_version": "1.5.0",
          "state": {
            "_view_name": "HTMLView",
            "style": "IPY_MODEL_450ba577a1314650840fa0a087998028",
            "_dom_classes": [],
            "description": "",
            "_model_name": "HTMLModel",
            "placeholder": "​",
            "_view_module": "@jupyter-widgets/controls",
            "_model_module_version": "1.5.0",
            "value": " 4/4 [00:02&lt;00:00,  1.74it/s]",
            "_view_count": null,
            "_view_module_version": "1.5.0",
            "description_tooltip": null,
            "_model_module": "@jupyter-widgets/controls",
            "layout": "IPY_MODEL_7796e622d02e40db878cff6451fe6da6"
          }
        },
        "a5026eb6436649279b1fc4a2224dcb55": {
          "model_module": "@jupyter-widgets/controls",
          "model_name": "DescriptionStyleModel",
          "model_module_version": "1.5.0",
          "state": {
            "_view_name": "StyleView",
            "_model_name": "DescriptionStyleModel",
            "description_width": "",
            "_view_module": "@jupyter-widgets/base",
            "_model_module_version": "1.5.0",
            "_view_count": null,
            "_view_module_version": "1.2.0",
            "_model_module": "@jupyter-widgets/controls"
          }
        },
        "a61438c40c6740168a48cf3d39bebba4": {
          "model_module": "@jupyter-widgets/base",
          "model_name": "LayoutModel",
          "model_module_version": "1.2.0",
          "state": {
            "_view_name": "LayoutView",
            "grid_template_rows": null,
            "right": null,
            "justify_content": null,
            "_view_module": "@jupyter-widgets/base",
            "overflow": null,
            "_model_module_version": "1.2.0",
            "_view_count": null,
            "flex_flow": null,
            "width": null,
            "min_width": null,
            "border": null,
            "align_items": null,
            "bottom": null,
            "_model_module": "@jupyter-widgets/base",
            "top": null,
            "grid_column": null,
            "overflow_y": null,
            "overflow_x": null,
            "grid_auto_flow": null,
            "grid_area": null,
            "grid_template_columns": null,
            "flex": null,
            "_model_name": "LayoutModel",
            "justify_items": null,
            "grid_row": null,
            "max_height": null,
            "align_content": null,
            "visibility": null,
            "align_self": null,
            "height": null,
            "min_height": null,
            "padding": null,
            "grid_auto_rows": null,
            "grid_gap": null,
            "max_width": null,
            "order": null,
            "_view_module_version": "1.2.0",
            "grid_template_areas": null,
            "object_position": null,
            "object_fit": null,
            "grid_auto_columns": null,
            "margin": null,
            "display": null,
            "left": null
          }
        },
        "09751c2397744db795f85f751f6b0a7f": {
          "model_module": "@jupyter-widgets/controls",
          "model_name": "ProgressStyleModel",
          "model_module_version": "1.5.0",
          "state": {
            "_view_name": "StyleView",
            "_model_name": "ProgressStyleModel",
            "description_width": "",
            "_view_module": "@jupyter-widgets/base",
            "_model_module_version": "1.5.0",
            "_view_count": null,
            "_view_module_version": "1.2.0",
            "bar_color": null,
            "_model_module": "@jupyter-widgets/controls"
          }
        },
        "b53b06b2cb4f4030aba5cdc3038067d0": {
          "model_module": "@jupyter-widgets/base",
          "model_name": "LayoutModel",
          "model_module_version": "1.2.0",
          "state": {
            "_view_name": "LayoutView",
            "grid_template_rows": null,
            "right": null,
            "justify_content": null,
            "_view_module": "@jupyter-widgets/base",
            "overflow": null,
            "_model_module_version": "1.2.0",
            "_view_count": null,
            "flex_flow": null,
            "width": null,
            "min_width": null,
            "border": null,
            "align_items": null,
            "bottom": null,
            "_model_module": "@jupyter-widgets/base",
            "top": null,
            "grid_column": null,
            "overflow_y": null,
            "overflow_x": null,
            "grid_auto_flow": null,
            "grid_area": null,
            "grid_template_columns": null,
            "flex": null,
            "_model_name": "LayoutModel",
            "justify_items": null,
            "grid_row": null,
            "max_height": null,
            "align_content": null,
            "visibility": null,
            "align_self": null,
            "height": null,
            "min_height": null,
            "padding": null,
            "grid_auto_rows": null,
            "grid_gap": null,
            "max_width": null,
            "order": null,
            "_view_module_version": "1.2.0",
            "grid_template_areas": null,
            "object_position": null,
            "object_fit": null,
            "grid_auto_columns": null,
            "margin": null,
            "display": null,
            "left": null
          }
        },
        "450ba577a1314650840fa0a087998028": {
          "model_module": "@jupyter-widgets/controls",
          "model_name": "DescriptionStyleModel",
          "model_module_version": "1.5.0",
          "state": {
            "_view_name": "StyleView",
            "_model_name": "DescriptionStyleModel",
            "description_width": "",
            "_view_module": "@jupyter-widgets/base",
            "_model_module_version": "1.5.0",
            "_view_count": null,
            "_view_module_version": "1.2.0",
            "_model_module": "@jupyter-widgets/controls"
          }
        },
        "7796e622d02e40db878cff6451fe6da6": {
          "model_module": "@jupyter-widgets/base",
          "model_name": "LayoutModel",
          "model_module_version": "1.2.0",
          "state": {
            "_view_name": "LayoutView",
            "grid_template_rows": null,
            "right": null,
            "justify_content": null,
            "_view_module": "@jupyter-widgets/base",
            "overflow": null,
            "_model_module_version": "1.2.0",
            "_view_count": null,
            "flex_flow": null,
            "width": null,
            "min_width": null,
            "border": null,
            "align_items": null,
            "bottom": null,
            "_model_module": "@jupyter-widgets/base",
            "top": null,
            "grid_column": null,
            "overflow_y": null,
            "overflow_x": null,
            "grid_auto_flow": null,
            "grid_area": null,
            "grid_template_columns": null,
            "flex": null,
            "_model_name": "LayoutModel",
            "justify_items": null,
            "grid_row": null,
            "max_height": null,
            "align_content": null,
            "visibility": null,
            "align_self": null,
            "height": null,
            "min_height": null,
            "padding": null,
            "grid_auto_rows": null,
            "grid_gap": null,
            "max_width": null,
            "order": null,
            "_view_module_version": "1.2.0",
            "grid_template_areas": null,
            "object_position": null,
            "object_fit": null,
            "grid_auto_columns": null,
            "margin": null,
            "display": null,
            "left": null
          }
        }
      }
    }
  },
  "cells": [
    {
      "cell_type": "code",
      "metadata": {
        "colab": {
          "base_uri": "https://localhost:8080/"
        },
        "id": "vQVPHaNWjREG",
        "outputId": "58c4b5ee-a8d7-404b-bd9d-22316d01a741"
      },
      "source": [
        "from google.colab import drive\n",
        "drive.mount('/content/drive')"
      ],
      "execution_count": null,
      "outputs": [
        {
          "output_type": "stream",
          "text": [
            "Mounted at /content/drive\n"
          ],
          "name": "stdout"
        }
      ]
    },
    {
      "cell_type": "markdown",
      "metadata": {
        "id": "Reja57cil-eU"
      },
      "source": [
        "##Dataset, data analysis and manipulation\n"
      ]
    },
    {
      "cell_type": "code",
      "metadata": {
        "id": "BqHTYIsETI9V"
      },
      "source": [
        "import pandas as pd\n",
        "import numpy as np\n",
        "import matplotlib.pyplot as plt"
      ],
      "execution_count": null,
      "outputs": []
    },
    {
      "cell_type": "markdown",
      "metadata": {
        "id": "4VjS1gMfnsWV"
      },
      "source": [
        "###EPITOME 'emotional reactions'"
      ]
    },
    {
      "cell_type": "code",
      "metadata": {
        "id": "kjlT62lSHC2e"
      },
      "source": [
        "#The dataset used for the first finetuning step in this notebook was authored by Sharma et al. Full citation below.\n",
        "_CITATION = '''\\\n",
        "@inproceedings{sharma2020empathy, \\\n",
        "title={A Computational Approach to Understanding Empathy Expressed in Text-Based Mental Health Support}, \\\n",
        "author={Sharma, Ashish and Miner, Adam S and Atkins, David C and Althoff, Tim}, \\\n",
        "year={2020}, \\\n",
        "booktitle={EMNLP}}'''"
      ],
      "execution_count": null,
      "outputs": []
    },
    {
      "cell_type": "code",
      "metadata": {
        "id": "Jpw1vaA5vhjM"
      },
      "source": [
        "#!mkdir \"drive/MyDrive/empathy_classifier_data\""
      ],
      "execution_count": null,
      "outputs": []
    },
    {
      "cell_type": "code",
      "metadata": {
        "id": "A_8V4lTnuwrz"
      },
      "source": [
        "#recover dataset splits\n",
        "train_path = \"drive/MyDrive/empathy_classifier_data/train.txt\"\n",
        "test_path = \"drive/MyDrive/empathy_classifier_data/test.txt\"\n",
        "val_path = \"drive/MyDrive/empathy_classifier_data/val.txt\""
      ],
      "execution_count": null,
      "outputs": []
    },
    {
      "cell_type": "code",
      "metadata": {
        "id": "QyX2vzc-vKtI"
      },
      "source": [
        "#import to dataframes\n",
        "train_df = pd.read_csv(\"drive/MyDrive/empathy_classifier_data/train.txt\", sep=';', header=None)\n",
        "test_df = pd.read_csv(\"drive/MyDrive/empathy_classifier_data/test.txt\", sep=';', header=None)\n",
        "val_df = pd.read_csv(\"drive/MyDrive/empathy_classifier_data/val.txt\", sep=';', header=None)"
      ],
      "execution_count": null,
      "outputs": []
    },
    {
      "cell_type": "code",
      "metadata": {
        "id": "Z9xkFZbNvRDq"
      },
      "source": [
        "#preprocess: lowecase and remove punctuation\n",
        "for df in [train_df, val_df, test_df]:\n",
        "  df[0] = df[0].str.replace('[^\\w\\s]','')\n",
        "  df[0] = df[0].str.lower()"
      ],
      "execution_count": null,
      "outputs": []
    },
    {
      "cell_type": "code",
      "metadata": {
        "id": "wEZQjyvrvZe0"
      },
      "source": [
        "#write to file\n",
        "train_df.to_csv(\"drive/MyDrive/empathy_classifier_data/train_prep.txt\", sep=';', header=False, index=False)\n",
        "val_df.to_csv(\"drive/MyDrive/empathy_classifier_data/val_prep.txt\", sep=';', header=False, index=False)\n",
        "test_df.to_csv(\"drive/MyDrive/empathy_classifier_data/test_prep.txt\", sep=';', header=False, index=False)"
      ],
      "execution_count": null,
      "outputs": []
    },
    {
      "cell_type": "markdown",
      "metadata": {
        "id": "mjDa8nHNYTQN"
      },
      "source": [
        "#Finetune a pretrained T5 transformer for the empathy classification task"
      ]
    },
    {
      "cell_type": "code",
      "metadata": {
        "id": "_4nE5R3iYSZ6"
      },
      "source": [
        "%%capture\n",
        "!pip install transformers==2.9.0 \n",
        "!pip install pytorch_lightning==0.7.5\n",
        "!pip install sentencepiece"
      ],
      "execution_count": null,
      "outputs": []
    },
    {
      "cell_type": "code",
      "metadata": {
        "colab": {
          "base_uri": "https://localhost:8080/"
        },
        "id": "mwPxLDUiYk2V",
        "outputId": "56049bf2-6971-46d6-da45-76193de0f1d4"
      },
      "source": [
        "import argparse\n",
        "import glob\n",
        "import os\n",
        "import json\n",
        "import time\n",
        "import logging\n",
        "import random\n",
        "import re\n",
        "from itertools import chain\n",
        "from string import punctuation\n",
        "\n",
        "import nltk\n",
        "nltk.download('punkt')\n",
        "from nltk.tokenize import sent_tokenize\n",
        "\n",
        "import pandas as pd\n",
        "import numpy as np\n",
        "import torch\n",
        "from torch.utils.data import Dataset, DataLoader\n",
        "import pytorch_lightning as pl\n",
        "\n",
        "import gc\n",
        "\n",
        "from transformers import (\n",
        "    AdamW,\n",
        "    T5ForConditionalGeneration,\n",
        "    T5Tokenizer,\n",
        "    get_linear_schedule_with_warmup\n",
        ")"
      ],
      "execution_count": null,
      "outputs": [
        {
          "output_type": "stream",
          "text": [
            "[nltk_data] Downloading package punkt to /root/nltk_data...\n",
            "[nltk_data]   Package punkt is already up-to-date!\n"
          ],
          "name": "stdout"
        }
      ]
    },
    {
      "cell_type": "code",
      "metadata": {
        "id": "CPwpgLthZPZ1"
      },
      "source": [
        "def set_seed(seed):\n",
        "  random.seed(seed)\n",
        "  np.random.seed(seed)\n",
        "  torch.manual_seed(seed)\n",
        "  if torch.cuda.is_available():\n",
        "    torch.cuda.manual_seed_all(seed)\n",
        "\n",
        "set_seed(42)"
      ],
      "execution_count": null,
      "outputs": []
    },
    {
      "cell_type": "code",
      "metadata": {
        "id": "mbxLyP7FZXCM"
      },
      "source": [
        "class T5FineTuner(pl.LightningModule):\n",
        "  def __init__(self, hparams):\n",
        "    super(T5FineTuner, self).__init__()\n",
        "    self.hparams = hparams\n",
        "    \n",
        "    self.model = T5ForConditionalGeneration.from_pretrained(hparams.model_name_or_path)\n",
        "    self.tokenizer = T5Tokenizer.from_pretrained(hparams.tokenizer_name_or_path)\n",
        "  \n",
        "  def is_logger(self):\n",
        "    return self.trainer.proc_rank <= 0\n",
        "  \n",
        "  def forward(\n",
        "      self, input_ids, attention_mask=None, decoder_input_ids=None, decoder_attention_mask=None, lm_labels=None\n",
        "  ):\n",
        "    return self.model(\n",
        "        input_ids,\n",
        "        attention_mask=attention_mask,\n",
        "        decoder_input_ids=decoder_input_ids,\n",
        "        decoder_attention_mask=decoder_attention_mask,\n",
        "        lm_labels=lm_labels,\n",
        "    )\n",
        "\n",
        "  def _step(self, batch):\n",
        "    lm_labels = batch[\"target_ids\"]\n",
        "    lm_labels[lm_labels[:, :] == self.tokenizer.pad_token_id] = -100\n",
        "\n",
        "    outputs = self(\n",
        "        input_ids=batch[\"source_ids\"],\n",
        "        attention_mask=batch[\"source_mask\"],\n",
        "        lm_labels=lm_labels,\n",
        "        decoder_attention_mask=batch['target_mask']\n",
        "    )\n",
        "\n",
        "    loss = outputs[0]\n",
        "\n",
        "    return loss\n",
        "\n",
        "  def training_step(self, batch, batch_idx):\n",
        "    loss = self._step(batch)\n",
        "\n",
        "    tensorboard_logs = {\"train_loss\": loss}\n",
        "    return {\"loss\": loss, \"log\": tensorboard_logs}\n",
        "  \n",
        "  def training_epoch_end(self, outputs):\n",
        "    avg_train_loss = torch.stack([x[\"loss\"] for x in outputs]).mean()\n",
        "    tensorboard_logs = {\"avg_train_loss\": avg_train_loss}\n",
        "    return {\"avg_train_loss\": avg_train_loss, \"log\": tensorboard_logs, 'progress_bar': tensorboard_logs}\n",
        "\n",
        "  def validation_step(self, batch, batch_idx):\n",
        "    loss = self._step(batch)\n",
        "    return {\"val_loss\": loss}\n",
        "  \n",
        "  def validation_epoch_end(self, outputs):\n",
        "    avg_loss = torch.stack([x[\"val_loss\"] for x in outputs]).mean()\n",
        "    tensorboard_logs = {\"val_loss\": avg_loss}\n",
        "    return {\"avg_val_loss\": avg_loss, \"log\": tensorboard_logs, 'progress_bar': tensorboard_logs}\n",
        "\n",
        "  def configure_optimizers(self):\n",
        "    \"Prepare optimizer and schedule (linear warmup and decay)\"\n",
        "\n",
        "    model = self.model\n",
        "    no_decay = [\"bias\", \"LayerNorm.weight\"]\n",
        "    optimizer_grouped_parameters = [\n",
        "        {\n",
        "            \"params\": [p for n, p in model.named_parameters() if not any(nd in n for nd in no_decay)],\n",
        "            \"weight_decay\": self.hparams.weight_decay,\n",
        "        },\n",
        "        {\n",
        "            \"params\": [p for n, p in model.named_parameters() if any(nd in n for nd in no_decay)],\n",
        "            \"weight_decay\": 0.0,\n",
        "        },\n",
        "    ]\n",
        "    optimizer = AdamW(optimizer_grouped_parameters, lr=self.hparams.learning_rate, eps=self.hparams.adam_epsilon)\n",
        "    self.opt = optimizer\n",
        "    return [optimizer]\n",
        "  \n",
        "  def optimizer_step(self, epoch, batch_idx, optimizer, optimizer_idx, second_order_closure=None):\n",
        "    if self.trainer.use_tpu:\n",
        "      xm.optimizer_step(optimizer)\n",
        "    else:\n",
        "      optimizer.step()\n",
        "    optimizer.zero_grad()\n",
        "    self.lr_scheduler.step()\n",
        "  \n",
        "  def get_tqdm_dict(self):\n",
        "    tqdm_dict = {\"loss\": \"{:.3f}\".format(self.trainer.avg_loss), \"lr\": self.lr_scheduler.get_last_lr()[-1]}\n",
        "\n",
        "    return tqdm_dict\n",
        "\n",
        "  def train_dataloader(self):\n",
        "    train_dataset = get_dataset(tokenizer=self.tokenizer, type_path=\"train_prep\", args=self.hparams)\n",
        "    dataloader = DataLoader(train_dataset, batch_size=self.hparams.train_batch_size, drop_last=True, shuffle=True, num_workers=4)\n",
        "    t_total = (\n",
        "        (len(dataloader.dataset) // (self.hparams.train_batch_size * max(1, self.hparams.n_gpu)))\n",
        "        // self.hparams.gradient_accumulation_steps\n",
        "        * float(self.hparams.num_train_epochs)\n",
        "    )\n",
        "    scheduler = get_linear_schedule_with_warmup(\n",
        "        self.opt, num_warmup_steps=self.hparams.warmup_steps, num_training_steps=t_total\n",
        "    )\n",
        "    self.lr_scheduler = scheduler\n",
        "    return dataloader\n",
        "\n",
        "  def val_dataloader(self):\n",
        "    val_dataset = get_dataset(tokenizer=self.tokenizer, type_path=\"val_prep\", args=self.hparams)\n",
        "    return DataLoader(val_dataset, batch_size=self.hparams.eval_batch_size, num_workers=4)"
      ],
      "execution_count": null,
      "outputs": []
    },
    {
      "cell_type": "code",
      "metadata": {
        "id": "Xh7aHARRZmIA"
      },
      "source": [
        "logger = logging.getLogger(__name__)\n",
        "\n",
        "class LoggingCallback(pl.Callback):\n",
        "  def on_validation_end(self, trainer, pl_module):\n",
        "    logger.info(\"***** Validation results *****\")\n",
        "    if pl_module.is_logger():\n",
        "      metrics = trainer.callback_metrics\n",
        "      # Log results\n",
        "      for key in sorted(metrics):\n",
        "        if key not in [\"log\", \"progress_bar\"]:\n",
        "          logger.info(\"{} = {}\\n\".format(key, str(metrics[key])))\n",
        "\n",
        "  def on_test_end(self, trainer, pl_module):\n",
        "    logger.info(\"***** Test results *****\")\n",
        "\n",
        "    if pl_module.is_logger():\n",
        "      metrics = trainer.callback_metrics\n",
        "\n",
        "      # Log and save results to file\n",
        "      output_test_results_file = os.path.join(pl_module.hparams.output_dir, \"test_results.txt\")\n",
        "      with open(output_test_results_file, \"w\") as writer:\n",
        "        for key in sorted(metrics):\n",
        "          if key not in [\"log\", \"progress_bar\"]:\n",
        "            logger.info(\"{} = {}\\n\".format(key, str(metrics[key])))\n",
        "            writer.write(\"{} = {}\\n\".format(key, str(metrics[key])))"
      ],
      "execution_count": null,
      "outputs": []
    },
    {
      "cell_type": "code",
      "metadata": {
        "id": "xRC724TtZq6O"
      },
      "source": [
        "args_dict = dict(\n",
        "    data_dir=\"\", #path for data files\n",
        "    output_dir=\"\", #path to save the checkpoints\n",
        "    model_name_or_path='t5-base',\n",
        "    tokenizer_name_or_path='t5-base',\n",
        "    max_seq_length=512,\n",
        "    learning_rate=1e-3,\n",
        "    weight_decay=0.0,\n",
        "    adam_epsilon=1e-3, \n",
        "    warmup_steps=0,\n",
        "    train_batch_size=8,\n",
        "    eval_batch_size=8,\n",
        "    num_train_epochs=6,\n",
        "    gradient_accumulation_steps=2,\n",
        "    n_gpu=1,\n",
        "    early_stop_callback=False,\n",
        "    fp_16=False, \n",
        "    opt_level='O1', \n",
        "    max_grad_norm=1.0, \n",
        "    seed=42,\n",
        ")"
      ],
      "execution_count": null,
      "outputs": []
    },
    {
      "cell_type": "code",
      "metadata": {
        "colab": {
          "base_uri": "https://localhost:8080/",
          "height": 171,
          "referenced_widgets": [
            "0e1938045b1c46d1ab7711a387547c1d",
            "0430eacfe95742a8951c4b74d6e21488",
            "13bbbb9c2f364fbf8dc4193ce5664935",
            "33fc2d7f463b49aea1d87e2715a8cdaf",
            "239b7c92735c4339b9bb7da57bac2c37",
            "302e961d7d564b49aba2d2371d4ba9a5",
            "0a3b73c78d034897adba6ffc3faa95ae",
            "a2af2163faab46e6a2820953efe54ee7",
            "8ebef8b8906e4fc881a0d4ab0c7f2bb7",
            "ea1286b040df47c4a5095cbb02e94123",
            "1d2f56e856f64bc6a8176b6a4a04095e"
          ]
        },
        "id": "n-qppTPUZxtk",
        "outputId": "901985c9-92bd-402f-afce-da2c42799546"
      },
      "source": [
        "#Load the tokenizer for the T5-base model\n",
        "tokenizer = T5Tokenizer.from_pretrained('t5-base')"
      ],
      "execution_count": null,
      "outputs": [
        {
          "output_type": "stream",
          "text": [
            "INFO:filelock:Lock 140131556912720 acquired on /root/.cache/torch/transformers/68f1b8dbca4350743bb54b8c4169fd38cbabaad564f85a9239337a8d0342af9f.9995af32582a1a7062cb3173c118cb7b4636fa03feb967340f20fc37406f021f.lock\n",
            "INFO:transformers.file_utils:https://s3.amazonaws.com/models.huggingface.co/bert/t5-spiece.model not found in cache or force_download set to True, downloading to /root/.cache/torch/transformers/tmpk7uolg_y\n"
          ],
          "name": "stderr"
        },
        {
          "output_type": "display_data",
          "data": {
            "application/vnd.jupyter.widget-view+json": {
              "model_id": "0e1938045b1c46d1ab7711a387547c1d",
              "version_minor": 0,
              "version_major": 2
            },
            "text/plain": [
              "Downloading:   0%|          | 0.00/792k [00:00<?, ?B/s]"
            ]
          },
          "metadata": {}
        },
        {
          "output_type": "stream",
          "text": [
            "INFO:transformers.file_utils:storing https://s3.amazonaws.com/models.huggingface.co/bert/t5-spiece.model in cache at /root/.cache/torch/transformers/68f1b8dbca4350743bb54b8c4169fd38cbabaad564f85a9239337a8d0342af9f.9995af32582a1a7062cb3173c118cb7b4636fa03feb967340f20fc37406f021f\n",
            "INFO:transformers.file_utils:creating metadata file for /root/.cache/torch/transformers/68f1b8dbca4350743bb54b8c4169fd38cbabaad564f85a9239337a8d0342af9f.9995af32582a1a7062cb3173c118cb7b4636fa03feb967340f20fc37406f021f\n",
            "INFO:filelock:Lock 140131556912720 released on /root/.cache/torch/transformers/68f1b8dbca4350743bb54b8c4169fd38cbabaad564f85a9239337a8d0342af9f.9995af32582a1a7062cb3173c118cb7b4636fa03feb967340f20fc37406f021f.lock\n",
            "INFO:transformers.tokenization_utils:loading file https://s3.amazonaws.com/models.huggingface.co/bert/t5-spiece.model from cache at /root/.cache/torch/transformers/68f1b8dbca4350743bb54b8c4169fd38cbabaad564f85a9239337a8d0342af9f.9995af32582a1a7062cb3173c118cb7b4636fa03feb967340f20fc37406f021f\n"
          ],
          "name": "stderr"
        }
      ]
    },
    {
      "cell_type": "code",
      "metadata": {
        "colab": {
          "base_uri": "https://localhost:8080/"
        },
        "id": "pKOMYXEmPXsk",
        "outputId": "e0d35cfe-38c1-4efd-fc05-f5e4f0aee757"
      },
      "source": [
        "#Try out the tokenizer\n",
        "text = \"How are you feeling today?\"\n",
        "enc = tokenizer.encode_plus(text)\n",
        "print(enc)"
      ],
      "execution_count": null,
      "outputs": [
        {
          "output_type": "stream",
          "text": [
            "{'input_ids': [571, 33, 25, 1829, 469, 58], 'token_type_ids': [0, 0, 0, 0, 0, 0], 'attention_mask': [1, 1, 1, 1, 1, 1]}\n"
          ],
          "name": "stdout"
        }
      ]
    },
    {
      "cell_type": "code",
      "metadata": {
        "colab": {
          "base_uri": "https://localhost:8080/"
        },
        "id": "HQ1prjCpm2nj",
        "outputId": "84e10480-2d9c-456a-a59b-ab6cfb708f1c"
      },
      "source": [
        "#See how the labels are encoded\n",
        "labels = [\"no\", \"weak\", \"strong\"]\n",
        "for lab in labels:\n",
        "  print(tokenizer.encode(lab))"
      ],
      "execution_count": null,
      "outputs": [
        {
          "output_type": "stream",
          "text": [
            "[150]\n",
            "[5676]\n",
            "[1101]\n"
          ],
          "name": "stdout"
        }
      ]
    },
    {
      "cell_type": "code",
      "metadata": {
        "id": "F8yVebeaeaCC"
      },
      "source": [
        "class EmpathyDataset(Dataset):\n",
        "  def __init__(self, tokenizer, data_dir, type_path,  max_len=512):\n",
        "    self.path = os.path.join(data_dir, type_path + '.txt')\n",
        "\n",
        "    self.data_column = \"text\"\n",
        "    self.class_column = \"score\"\n",
        "    self.data = pd.read_csv(self.path, sep=\";\", header=None, names=[self.data_column, self.class_column],\n",
        "                            engine=\"python\")\n",
        "    \n",
        "    self.max_len = max_len\n",
        "    self.tokenizer = tokenizer\n",
        "    self.inputs = []\n",
        "    self.targets = []\n",
        "\n",
        "    self._build()\n",
        "  \n",
        "  def __len__(self):\n",
        "    return len(self.inputs)\n",
        "  \n",
        "  def __getitem__(self, index):\n",
        "    source_ids = self.inputs[index][\"input_ids\"].squeeze()\n",
        "    target_ids = self.targets[index][\"input_ids\"].squeeze()\n",
        "\n",
        "    src_mask    = self.inputs[index][\"attention_mask\"].squeeze()  # might need to squeeze\n",
        "    target_mask = self.targets[index][\"attention_mask\"].squeeze()  # might need to squeeze\n",
        "\n",
        "    return {\"source_ids\": source_ids, \"source_mask\": src_mask, \"target_ids\": target_ids, \"target_mask\": target_mask}\n",
        "  \n",
        "  def _build(self):\n",
        "    for idx in range(len(self.data)):\n",
        "      input_, target = self.data.loc[idx, self.data_column], self.data.loc[idx, self.class_column]      \n",
        "      \n",
        "      input_ = input_ + ' </s>'\n",
        "      target = str(target) + \" </s>\"\n",
        "\n",
        "       # tokenize inputs\n",
        "      tokenized_inputs = self.tokenizer.batch_encode_plus(\n",
        "          [input_], max_length=self.max_len, pad_to_max_length=True, return_tensors=\"pt\"\n",
        "      )\n",
        "       # tokenize targets\n",
        "      tokenized_targets = self.tokenizer.batch_encode_plus(\n",
        "          [target], max_length=2, pad_to_max_length=True, return_tensors=\"pt\"\n",
        "      )\n",
        "\n",
        "      self.inputs.append(tokenized_inputs)\n",
        "      self.targets.append(tokenized_targets)"
      ],
      "execution_count": null,
      "outputs": []
    },
    {
      "cell_type": "code",
      "metadata": {
        "colab": {
          "base_uri": "https://localhost:8080/"
        },
        "id": "7PsD6gMBfAnJ",
        "outputId": "c0853654-d9a5-4736-d24d-913dc23f0ba4"
      },
      "source": [
        "#Sanity check that the size is what we expect\n",
        "dataset = EmpathyDataset(tokenizer, 'drive/MyDrive/empathy_classifier_data/', 'test_prep', 512)\n",
        "len(dataset)"
      ],
      "execution_count": null,
      "outputs": [
        {
          "output_type": "execute_result",
          "data": {
            "text/plain": [
              "617"
            ]
          },
          "metadata": {},
          "execution_count": 20
        }
      ]
    },
    {
      "cell_type": "code",
      "metadata": {
        "colab": {
          "base_uri": "https://localhost:8080/"
        },
        "id": "mu9YrO1ijAWY",
        "outputId": "207b4cbe-7c81-4723-bc71-5c86feb42674"
      },
      "source": [
        "#Check one sample\n",
        "data = dataset[42]\n",
        "print(tokenizer.decode(data['source_ids']))\n",
        "print(tokenizer.decode(data['target_ids']))"
      ],
      "execution_count": null,
      "outputs": [
        {
          "output_type": "stream",
          "text": [
            "thats hard especially if youre the type of person to post in this sub loving yourself is really difficult but loving others is easier and i do love you when you love others i find its easier to love yourself even just saying the words and seeing it echoed back makes me feel good i hope i helped\n",
            "strong\n"
          ],
          "name": "stdout"
        }
      ]
    },
    {
      "cell_type": "markdown",
      "metadata": {
        "id": "oXrdTKxqjPGw"
      },
      "source": [
        "##Train"
      ]
    },
    {
      "cell_type": "code",
      "metadata": {
        "id": "LtuG3yacjM70"
      },
      "source": [
        "#Uncomment line below to create folder in Drive\n",
        "#!mkdir -p 'drive/MyDrive/t5_empathy'"
      ],
      "execution_count": null,
      "outputs": []
    },
    {
      "cell_type": "code",
      "metadata": {
        "colab": {
          "base_uri": "https://localhost:8080/"
        },
        "id": "c2bWsbvdjXxt",
        "outputId": "5b2c1141-4cc4-4403-9a40-7e3e21b136ad"
      },
      "source": [
        "args_dict.update({'data_dir': 'drive/MyDrive/empathy_classifier_data/', 'output_dir': 'drive/MyDrive/t5_empathy', 'num_train_epochs':6})\n",
        "args = argparse.Namespace(**args_dict)\n",
        "print(args_dict)"
      ],
      "execution_count": null,
      "outputs": [
        {
          "output_type": "stream",
          "text": [
            "{'data_dir': 'drive/MyDrive/empathy_classifier_data/', 'output_dir': 'drive/MyDrive/t5_empathy', 'model_name_or_path': 't5-base', 'tokenizer_name_or_path': 't5-base', 'max_seq_length': 512, 'learning_rate': 0.001, 'weight_decay': 0.0, 'adam_epsilon': 0.001, 'warmup_steps': 0, 'train_batch_size': 1, 'eval_batch_size': 1, 'num_train_epochs': 6, 'gradient_accumulation_steps': 16, 'n_gpu': 1, 'early_stop_callback': False, 'fp_16': False, 'opt_level': 'O1', 'max_grad_norm': 1.0, 'seed': 42}\n"
          ],
          "name": "stdout"
        }
      ]
    },
    {
      "cell_type": "code",
      "metadata": {
        "id": "ylf3q1hfjhHk"
      },
      "source": [
        "checkpoint_callback = pl.callbacks.ModelCheckpoint(\n",
        "    filepath=args.output_dir, prefix=\"checkpoint\", monitor=\"val_loss\", mode=\"min\", save_top_k=5\n",
        ")\n",
        "\n",
        "train_params = dict(\n",
        "    accumulate_grad_batches=args.gradient_accumulation_steps,\n",
        "    gpus=args.n_gpu,\n",
        "    max_epochs=args.num_train_epochs,\n",
        "    early_stop_callback=False,\n",
        "    precision= 16 if args.fp_16 else 32,\n",
        "    amp_level=args.opt_level,\n",
        "    gradient_clip_val=args.max_grad_norm,\n",
        "    checkpoint_callback=checkpoint_callback,\n",
        "    callbacks=[LoggingCallback()],\n",
        ")"
      ],
      "execution_count": null,
      "outputs": []
    },
    {
      "cell_type": "code",
      "metadata": {
        "id": "KrZbBUnsjlw-"
      },
      "source": [
        "def get_dataset(tokenizer, type_path, args):\n",
        "  return EmpathyDataset(tokenizer=tokenizer, data_dir=args.data_dir, type_path=type_path,  max_len=args.max_seq_length)"
      ],
      "execution_count": null,
      "outputs": []
    },
    {
      "cell_type": "code",
      "metadata": {
        "id": "mLdb071BJ3ZK"
      },
      "source": [
        "#rubbish collection\n",
        "gc.collect()\n",
        "torch.cuda.empty_cache()"
      ],
      "execution_count": null,
      "outputs": []
    },
    {
      "cell_type": "code",
      "metadata": {
        "id": "X7l0LqK5jpM6"
      },
      "source": [
        "#create new instance of T5 finetuner\n",
        "model = T5FineTuner(args)"
      ],
      "execution_count": null,
      "outputs": []
    },
    {
      "cell_type": "code",
      "metadata": {
        "colab": {
          "base_uri": "https://localhost:8080/"
        },
        "id": "vqV5BP7qjruX",
        "outputId": "e48e4f76-a1b2-4719-99ea-e592a1350789"
      },
      "source": [
        "trainer = pl.Trainer(**train_params)"
      ],
      "execution_count": null,
      "outputs": [
        {
          "output_type": "stream",
          "text": [
            "INFO:lightning:GPU available: True, used: True\n",
            "INFO:lightning:CUDA_VISIBLE_DEVICES: [0]\n"
          ],
          "name": "stderr"
        }
      ]
    },
    {
      "cell_type": "code",
      "metadata": {
        "id": "AqIJHJsZjv60"
      },
      "source": [
        "#train model\n",
        "trainer.fit(model)"
      ],
      "execution_count": null,
      "outputs": []
    },
    {
      "cell_type": "code",
      "metadata": {
        "id": "N2iAyD6WkJ63"
      },
      "source": [
        "#save model (uncomment to save)\n",
        "'''\n",
        "torch.save(model.state_dict(), 'drive/MyDrive/t5_empathy/T5empathy_finetuned_prep.pt')\n",
        "'''"
      ],
      "execution_count": null,
      "outputs": []
    },
    {
      "cell_type": "markdown",
      "metadata": {
        "id": "QjCM2XAvkhfZ"
      },
      "source": [
        "##Evaluate on the test set"
      ]
    },
    {
      "cell_type": "code",
      "metadata": {
        "id": "XNBp2N4dkidS"
      },
      "source": [
        "import textwrap\n",
        "from tqdm.auto import tqdm\n",
        "from sklearn import metrics"
      ],
      "execution_count": null,
      "outputs": []
    },
    {
      "cell_type": "code",
      "metadata": {
        "id": "2kKrPpVxkmj3"
      },
      "source": [
        "dataset = EmpathyDataset(tokenizer, 'drive/MyDrive/empathy_classifier_data', 'test_prep', 512)\n",
        "loader = DataLoader(dataset, batch_size=32, shuffle=True)"
      ],
      "execution_count": null,
      "outputs": []
    },
    {
      "cell_type": "code",
      "metadata": {
        "id": "OukdbZmOlyCY"
      },
      "source": [
        "it = iter(loader)"
      ],
      "execution_count": null,
      "outputs": []
    },
    {
      "cell_type": "code",
      "metadata": {
        "colab": {
          "base_uri": "https://localhost:8080/"
        },
        "id": "1quot8gGl0se",
        "outputId": "b01f049c-cf7a-40d0-dfca-422f7c31eb02"
      },
      "source": [
        "batch = next(it)\n",
        "batch[\"source_ids\"].shape"
      ],
      "execution_count": null,
      "outputs": [
        {
          "output_type": "execute_result",
          "data": {
            "text/plain": [
              "torch.Size([32, 512])"
            ]
          },
          "metadata": {},
          "execution_count": 42
        }
      ]
    },
    {
      "cell_type": "code",
      "metadata": {
        "id": "SM4zMhV6l2h2"
      },
      "source": [
        "outs = model.model.generate(input_ids=batch['source_ids'].cuda(), \n",
        "                              attention_mask=batch['source_mask'].cuda(), \n",
        "                              max_length=2)\n",
        "\n",
        "dec = [tokenizer.decode(ids) for ids in outs]\n",
        "\n",
        "texts = [tokenizer.decode(ids) for ids in batch['source_ids']]\n",
        "targets = [tokenizer.decode(ids) for ids in batch['target_ids']]"
      ],
      "execution_count": null,
      "outputs": []
    },
    {
      "cell_type": "code",
      "metadata": {
        "colab": {
          "base_uri": "https://localhost:8080/"
        },
        "id": "XBffBxnPl8ko",
        "outputId": "a8625975-2010-4d52-a89c-ae4d7d692d27"
      },
      "source": [
        "#print out some samples with prediction and target\n",
        "for i in range(32):\n",
        "    c = texts[i]\n",
        "    lines = textwrap.wrap(\"text:\\n%s\\n\" % c, width=100)\n",
        "    print(\"\\n\".join(lines))\n",
        "    print(\"\\nActual label: %s\" % targets[i])\n",
        "    print(\"predicted label: %s\" % dec[i])\n",
        "    print(\"=====================================================================\\n\")"
      ],
      "execution_count": null,
      "outputs": [
        {
          "output_type": "stream",
          "text": [
            "text: it certainly doesnt hurt given that you tell someone who is halfway decent i find it to be a\n",
            "huge relief when i can talk to someone about it its like breathing fresh air after being in a sewer\n",
            "for a long time telling a the few close friends i have has actually strengthened our friendship as\n",
            "well\n",
            "\n",
            "Actual label: no\n",
            "predicted label: no\n",
            "=====================================================================\n",
            "\n",
            "text: i remember when i was in a deep stage of depression i always begged my mother to let me stay\n",
            "home even when she drove me to school i would catch a bus to the shops and ditch school never got\n",
            "caught hehe anyway i just felt so bored of school and so sick of all the shit that went down there\n",
            "instead i decided to live my life have fun sleep ditch school or do whatever and just live the life\n",
            "as i wanted to if you cant find motivation in one thing than find motivation in another after all\n",
            "were all gonna die one day live your life as you want\n",
            "\n",
            "Actual label: weak\n",
            "predicted label: weak\n",
            "=====================================================================\n",
            "\n",
            "text: maybe it would exhaust them more over time but the thing is that if you were to kill your self\n",
            "they would feel unimaginable pain and guilt they may learn to cope with the pain but they will find\n",
            "ways to blame it on themselves they will think it because they did or do something and it will haunt\n",
            "them for life talk with your family work through it together accept their love and try to understand\n",
            "why they say and do certain things from their point of view so you can understand their love for you\n",
            "it will most likely be tough at first but it will make things easier\n",
            "\n",
            "Actual label: weak\n",
            "predicted label: weak\n",
            "=====================================================================\n",
            "\n",
            "text: nah man what youre saying is actually quite common of someone who is good at art most people\n",
            "with a high degree or artistic talent are really good at recognizing good art but get frustrated\n",
            "because their own art doesnt live up to the crazy high standard theyve set for themselves malcom\n",
            "gladwell suggests that it takes 10000 hours to gain mastery in something art is a skill just like\n",
            "anything else i think a lot of people get fooled into this you either have it or you dont mentality\n",
            "when it comes to creative arts its just not the case i think its more important that you actually\n",
            "have an obsession and something that you want to be good at most people dont have that just keep\n",
            "practicing and never give up if you have the drive you will succeed eventually youll get better and\n",
            "better every day\n",
            "\n",
            "Actual label: weak\n",
            "predicted label: weak\n",
            "=====================================================================\n",
            "\n",
            "text: happy birthday i still feel birthdays are worth celebrating by ourselves\n",
            "\n",
            "Actual label: no\n",
            "predicted label: weak\n",
            "=====================================================================\n",
            "\n",
            "text: sorry to hear i hope you find something grounding that will help you feel alive again\n",
            "\n",
            "Actual label: strong\n",
            "predicted label: strong\n",
            "=====================================================================\n",
            "\n",
            "text: im so sorry to hear about your situationthats a really difficult thing to have to endure\n",
            "especially with your familys lack of understanding i dont think you should give up the possibility\n",
            "of finding relief for your paineven if there is not a reliable treatment now pain relief is a major\n",
            "area of medical science research is medical marijuana legal where you live or if not is it a\n",
            "possibility to move to where it is you might find support and recommendations at rsciatica hang in\n",
            "there i would strongly recommend trying to talk to a therapist if thats an option otherwise it seems\n",
            "to me the other most important thing you can do is to try to find work or an activity paid or unpaid\n",
            "that is meaningful to you if movement is an issue look up online opportunities which will help you\n",
            "get your mind off of your pain\n",
            "\n",
            "Actual label: strong\n",
            "predicted label: strong\n",
            "=====================================================================\n",
            "\n",
            "text: oh thank god you are safe tammy i was really worried about you plz dont do this again\n",
            "\n",
            "Actual label: weak\n",
            "predicted label: strong\n",
            "=====================================================================\n",
            "\n",
            "text: wow great fucking advice i no longer have to be sad or anything you know cured going to go\n",
            "dance on rainbows\n",
            "\n",
            "Actual label: strong\n",
            "predicted label: strong\n",
            "=====================================================================\n",
            "\n",
            "text: glad you didnt made you stronger remember that you will make it one day at a time\n",
            "\n",
            "Actual label: weak\n",
            "predicted label: weak\n",
            "=====================================================================\n",
            "\n",
            "text: yea i feel you or cant really say that now can i sometimes when i get a moment of happiness it\n",
            "feels like i was drunk but the moment goes fast i dont know how anything feels really all i know is\n",
            "disappointment or sadness i am all the time exhausted since i have to put on a show for people when\n",
            "all i want to do is to close up and go to dance practices i think the biggest thing i wish would fix\n",
            "itself is that i could feel safe not walking on constant eggshells have a happy new years i hope\n",
            "this new time brings you all reading this some hope some recovery some love some kindness sending\n",
            "lots of good energy to your way\n",
            "\n",
            "Actual label: weak\n",
            "predicted label: strong\n",
            "=====================================================================\n",
            "\n",
            "text: sometimes you really need to be reminded of that other side and that you will in fact return\n",
            "to it dont make any big decisions when in the heat of the moment focus on other things tv shows\n",
            "artistic endeavours school etc and return once youve cooled off good on you for reaching out for\n",
            "help my friend despite these people not knowing you were all in this together keep your head up\n",
            "\n",
            "Actual label: weak\n",
            "predicted label: weak\n",
            "=====================================================================\n",
            "\n",
            "text: when i cant sleep ive taught myself to use it if i can concentrate i read if i cant i play\n",
            "video games anything that helps me to relax i tend to find that i need to distract myself from being\n",
            "unable to sleep otherwise it makes me anxious and that makes the sleeplessness worse\n",
            "\n",
            "Actual label: no\n",
            "predicted label: no\n",
            "=====================================================================\n",
            "\n",
            "text: not hollywood per se but ned vizzini suicide hit me hard now live for real craig live live\n",
            "live i feel many similarities between him and me same age etc a successful author but this disease\n",
            "is just too much sometimes\n",
            "\n",
            "Actual label: no\n",
            "predicted label: no\n",
            "=====================================================================\n",
            "\n",
            "text: are you telling people you want a relationship or you want sex as people find it hard to\n",
            "confuse the two\n",
            "\n",
            "Actual label: no\n",
            "predicted label: no\n",
            "=====================================================================\n",
            "\n",
            "text: same dude the only thing i look forward to now but i hate waking up every morning\n",
            "\n",
            "Actual label: no\n",
            "predicted label: no\n",
            "=====================================================================\n",
            "\n",
            "text: sorry to hear i hope you find something grounding that will help you feel alive again\n",
            "\n",
            "Actual label: strong\n",
            "predicted label: strong\n",
            "=====================================================================\n",
            "\n",
            "text: thats pretty awesome dude smiling is fun\n",
            "\n",
            "Actual label: strong\n",
            "predicted label: strong\n",
            "=====================================================================\n",
            "\n",
            "text: i agree this is a good reminder thank you i remember realizing that the way i treated myself\n",
            "was much harsher than i would treat anyone else the best advice that helped me was to talk to myself\n",
            "as i would talk to a loved friend i imagine that self compassion applies we would show compassion to\n",
            "a dear friend so we should practice that compassion with ourselves\n",
            "\n",
            "Actual label: weak\n",
            "predicted label: weak\n",
            "=====================================================================\n",
            "\n",
            "text: sorry to hear you have been going through a rough time emotions can be hard to control and\n",
            "anger can be an easy out it lets you feel powerful in control of things in therapy they teach you to\n",
            "sitdown often and sort through your emotions what emotion are you experiencing right now how do you\n",
            "identify it what caused you to feel like this what steps can you make to prevent this feeling try to\n",
            "walk yourself through some of these exercises they might help you better understand your emotions so\n",
            "that you can control them in the future\n",
            "\n",
            "Actual label: strong\n",
            "predicted label: strong\n",
            "=====================================================================\n",
            "\n",
            "text: its the same for mei cant believe how little ive experienced theres a part of me that wants to\n",
            "really live rather than just existing but i dont know if ill ever be able to let myself i guess if\n",
            "you can take that step and put yourself out there make each day mean something even if its only\n",
            "small things etc you should but i know its a lot easier said than done i dont really have any advice\n",
            "for you but just wanted to let you know that youre not alone maybe volunteering somewhere could help\n",
            "you if thats something thats possible for youdoing something meaningful and giving yourself purpose\n",
            "and all that\n",
            "\n",
            "Actual label: weak\n",
            "predicted label: weak\n",
            "=====================================================================\n",
            "\n",
            "text: what were you like as a child were you highachieving back then as well and did you feel a\n",
            "pressure to do well in any aspect\n",
            "\n",
            "Actual label: no\n",
            "predicted label: no\n",
            "=====================================================================\n",
            "\n",
            "text: she might know and just not be interested you cant force it\n",
            "\n",
            "Actual label: no\n",
            "predicted label: weak\n",
            "=====================================================================\n",
            "\n",
            "text: made a throwaway a few weeks ago to post something similar to this but yes absolutely the past\n",
            "two years my depression has gotten worse and so has my credit card debt i feel like ive dug myself a\n",
            "hole that i cant get out of because of it most of what i bought was food too so i cant even return\n",
            "any of it haha\n",
            "\n",
            "Actual label: no\n",
            "predicted label: no\n",
            "=====================================================================\n",
            "\n",
            "text: i get it at some point a few years ago i stopped being able to feel joy even when im feeling\n",
            "stable i still dont feel happy when ive described this to my therapist and psychiatrist they\n",
            "challenge me on it you talk about good things dont you feel happy when those happen but i know the\n",
            "difference it is very much like an old lost friend i actually might use that metaphor in therapy\n",
            "this week\n",
            "\n",
            "Actual label: weak\n",
            "predicted label: weak\n",
            "=====================================================================\n",
            "\n",
            "text: why do you hate yourself op we all make mistakes in life but we learn from it grow and hope to\n",
            "make better decisions moving forward thats part of life is there something thats causing you to feel\n",
            "guilt or shame hope everything turns out okay\n",
            "\n",
            "Actual label: weak\n",
            "predicted label: weak\n",
            "=====================================================================\n",
            "\n",
            "text: just be ur self be true to who u r and wear what u want to wear compare ur self to others\n",
            "because u will loose and forget who u r ur life so live life to the best of ur ability and worry\n",
            "about what anyone else thinks be ur self because u r the only u\n",
            "\n",
            "Actual label: weak\n",
            "predicted label: weak\n",
            "=====================================================================\n",
            "\n",
            "text: yea sorry i know how you feel feeling very alone today\n",
            "\n",
            "Actual label: strong\n",
            "predicted label: strong\n",
            "=====================================================================\n",
            "\n",
            "text: the little things the small moments of joy the feeling of fulfillment even if you live a life\n",
            "with more sadness than happiness you still had some happiness always remember at your saddest that\n",
            "there will eventually be more happiness down the road\n",
            "\n",
            "Actual label: weak\n",
            "predicted label: weak\n",
            "=====================================================================\n",
            "\n",
            "text: elaborate my friend were here to help\n",
            "\n",
            "Actual label: weak\n",
            "predicted label: weak\n",
            "=====================================================================\n",
            "\n",
            "text: yes i feel guilty all the time i want to be and do these things that seem simple to others yet\n",
            "i struggle to wake up everyday just to take care of them i have a hard time feeling a connection to\n",
            "one of my kids and i work really hard to make sure thats not felt by her\n",
            "\n",
            "Actual label: no\n",
            "predicted label: no\n",
            "=====================================================================\n",
            "\n",
            "text: yea things go more wrong when happy kind of really i just get more nervous because i suddenly\n",
            "have that happiness to lose when im depressed it is what it is but when like carrying a bag of money\n",
            "through a bad neighbourhood at let me lose lol i be happy if not risking something the risk and fear\n",
            "of losing the happiness is part of how i feel good like i feel proud that willing to take that risk\n",
            "if that makes sense be careful with music powerful i have stuff i listen to because so good at\n",
            "effecting how i feel also your brain releases a lot of chemicals when happy for the first time in a\n",
            "while if ever had an extreme sugar rush or done cocaine lol it can be overwhelming normal though\n",
            "\n",
            "Actual label: no\n",
            "predicted label: no\n",
            "=====================================================================\n",
            "\n"
          ],
          "name": "stdout"
        }
      ]
    },
    {
      "cell_type": "markdown",
      "metadata": {
        "id": "ofeXxOxsmdg7"
      },
      "source": [
        "###Test metrics"
      ]
    },
    {
      "cell_type": "code",
      "metadata": {
        "id": "on2nAYmKmeql",
        "colab": {
          "base_uri": "https://localhost:8080/",
          "height": 49,
          "referenced_widgets": [
            "a97d866c828743d3ba58c185bb3cd989",
            "85771efc286b4fc6b04d64ad7f4b9383",
            "83cc2ddf7478456ab04bfc21d4b19f03",
            "0d41fe432b6446308b6ed5055dd0598d",
            "fc7accbbb30b451e80c4f4f866a67fd9",
            "6bc438043a164e40add7faff7c1929f8",
            "5ab811d6ea2345ac9e25c017d86ce234",
            "ff7f0ad4fa4e4e74af2a321a78465a48",
            "e2dd2bae41c54d019c08acc9615af2f5",
            "a9339b9e39664f4eb0a0f05baf7bd417",
            "94551c01c5234540997f29a006bbac6f"
          ]
        },
        "outputId": "b190c74e-665a-4d32-b7c0-9d3a612707f8"
      },
      "source": [
        "#Run full test set evaluation\n",
        "dataset = EmpathyDataset(tokenizer, 'drive/MyDrive/empathy_classifier_data', 'test_prep', 512)\n",
        "loader = DataLoader(dataset, batch_size=32, num_workers=4)\n",
        "model.model.eval()\n",
        "outputs = []\n",
        "targets = []\n",
        "for batch in tqdm(loader):\n",
        "  outs = model.model.generate(input_ids=batch['source_ids'].cuda(), \n",
        "                              attention_mask=batch['source_mask'].cuda(), \n",
        "                              max_length=2)\n",
        "\n",
        "  dec = [tokenizer.decode(ids) for ids in outs]\n",
        "  target = [tokenizer.decode(ids) for ids in batch[\"target_ids\"]]\n",
        "  \n",
        "  outputs.extend(dec)\n",
        "  targets.extend(target)"
      ],
      "execution_count": null,
      "outputs": [
        {
          "output_type": "display_data",
          "data": {
            "application/vnd.jupyter.widget-view+json": {
              "model_id": "a97d866c828743d3ba58c185bb3cd989",
              "version_minor": 0,
              "version_major": 2
            },
            "text/plain": [
              "  0%|          | 0/20 [00:00<?, ?it/s]"
            ]
          },
          "metadata": {}
        }
      ]
    },
    {
      "cell_type": "code",
      "metadata": {
        "id": "DZUgBAX7uJOK"
      },
      "source": [
        "for i, out in enumerate(outputs):\n",
        "  if out not in labels:\n",
        "    print(i, 'detected invalid prediction')\n",
        "    #added to deal with invalid predictions arising from txt file:\n",
        "    del outputs[i]\n",
        "    del targets[i]"
      ],
      "execution_count": null,
      "outputs": []
    },
    {
      "cell_type": "code",
      "metadata": {
        "id": "rFZUsiRHuQhm",
        "colab": {
          "base_uri": "https://localhost:8080/"
        },
        "outputId": "3c477ef2-5024-4928-b3be-f8213646b9b6"
      },
      "source": [
        "print(metrics.classification_report(targets, outputs, digits=4))"
      ],
      "execution_count": null,
      "outputs": [
        {
          "output_type": "stream",
          "text": [
            "              precision    recall  f1-score   support\n",
            "\n",
            "          no     0.9365    0.7532    0.8349       235\n",
            "      strong     0.9510    1.0000    0.9749       194\n",
            "        weak     0.7589    0.9043    0.8252       188\n",
            "\n",
            "    accuracy                         0.8768       617\n",
            "   macro avg     0.8821    0.8858    0.8783       617\n",
            "weighted avg     0.8869    0.8768    0.8760       617\n",
            "\n"
          ],
          "name": "stdout"
        }
      ]
    },
    {
      "cell_type": "markdown",
      "metadata": {
        "id": "ub7CWOqervI_"
      },
      "source": [
        "###Confusion matrix"
      ]
    },
    {
      "cell_type": "code",
      "metadata": {
        "id": "wivCCmkluWVR"
      },
      "source": [
        "import seaborn as sn\n",
        "import pandas as pd\n",
        "import matplotlib.pyplot as plt"
      ],
      "execution_count": null,
      "outputs": []
    },
    {
      "cell_type": "code",
      "metadata": {
        "id": "h5_-LN_duYHc"
      },
      "source": [
        "cm = metrics.confusion_matrix(targets, outputs)"
      ],
      "execution_count": null,
      "outputs": []
    },
    {
      "cell_type": "code",
      "metadata": {
        "id": "Gjv53Wkgr4P3",
        "colab": {
          "base_uri": "https://localhost:8080/",
          "height": 445
        },
        "outputId": "4aa47ee2-aea1-412d-dc61-beda325df666"
      },
      "source": [
        "df_cm = pd.DataFrame(cm, index = [\"no\", \"strong\", \"weak\"], columns = [\"no\", \"strong\", \"weak\"])\n",
        "plt.figure(figsize = (10,7))\n",
        "sn.heatmap(df_cm, annot=True, cmap='Greens', fmt='g')"
      ],
      "execution_count": null,
      "outputs": [
        {
          "output_type": "execute_result",
          "data": {
            "text/plain": [
              "<matplotlib.axes._subplots.AxesSubplot at 0x7f72d0d23d90>"
            ]
          },
          "metadata": {},
          "execution_count": 51
        },
        {
          "output_type": "display_data",
          "data": {
            "image/png": "[encoded data removed]",
            "text/plain": [
              "<Figure size 720x504 with 2 Axes>"
            ]
          },
          "metadata": {
            "needs_background": "light"
          }
        }
      ]
    },
    {
      "cell_type": "markdown",
      "metadata": {
        "id": "sBGuYB6nJH4i"
      },
      "source": [
        "###Further finetune the model on the 1100 labelled samples from our dataset, preprocessed"
      ]
    },
    {
      "cell_type": "code",
      "metadata": {
        "id": "MwV1axp5Jvrr"
      },
      "source": [
        "#retrieve preprocessed data split\n",
        "\n",
        "train_path = \"drive/MyDrive/empathy_classifier_data/my_train_prep.txt\"\n",
        "test_path = \"drive/MyDrive/empathy_classifier_data/my_test_prep.txt\"\n",
        "val_path = \"drive/MyDrive/empathy_classifier_data/my_val_prep.txt\"\n"
      ],
      "execution_count": null,
      "outputs": []
    },
    {
      "cell_type": "code",
      "metadata": {
        "id": "LiG3wbRqyYBO"
      },
      "source": [
        "class T5FineTuner(pl.LightningModule):\n",
        "  def __init__(self, hparams):\n",
        "    super(T5FineTuner, self).__init__()\n",
        "    self.hparams = hparams\n",
        "    \n",
        "    self.model = T5ForConditionalGeneration.from_pretrained(hparams.model_name_or_path)\n",
        "    self.tokenizer = T5Tokenizer.from_pretrained(hparams.tokenizer_name_or_path)\n",
        "  \n",
        "  def is_logger(self):\n",
        "    return self.trainer.proc_rank <= 0\n",
        "  \n",
        "  def forward(\n",
        "      self, input_ids, attention_mask=None, decoder_input_ids=None, decoder_attention_mask=None, lm_labels=None\n",
        "  ):\n",
        "    return self.model(\n",
        "        input_ids,\n",
        "        attention_mask=attention_mask,\n",
        "        decoder_input_ids=decoder_input_ids,\n",
        "        decoder_attention_mask=decoder_attention_mask,\n",
        "        lm_labels=lm_labels,\n",
        "    )\n",
        "\n",
        "  def _step(self, batch):\n",
        "    lm_labels = batch[\"target_ids\"]\n",
        "    lm_labels[lm_labels[:, :] == self.tokenizer.pad_token_id] = -100\n",
        "\n",
        "    outputs = self(\n",
        "        input_ids=batch[\"source_ids\"],\n",
        "        attention_mask=batch[\"source_mask\"],\n",
        "        lm_labels=lm_labels,\n",
        "        decoder_attention_mask=batch['target_mask']\n",
        "    )\n",
        "\n",
        "    loss = outputs[0]\n",
        "\n",
        "    return loss\n",
        "\n",
        "  def training_step(self, batch, batch_idx):\n",
        "    loss = self._step(batch)\n",
        "\n",
        "    tensorboard_logs = {\"train_loss\": loss}\n",
        "    return {\"loss\": loss, \"log\": tensorboard_logs}\n",
        "  \n",
        "  def training_epoch_end(self, outputs):\n",
        "    avg_train_loss = torch.stack([x[\"loss\"] for x in outputs]).mean()\n",
        "    tensorboard_logs = {\"avg_train_loss\": avg_train_loss}\n",
        "    return {\"avg_train_loss\": avg_train_loss, \"log\": tensorboard_logs, 'progress_bar': tensorboard_logs}\n",
        "\n",
        "  def validation_step(self, batch, batch_idx):\n",
        "    loss = self._step(batch)\n",
        "    return {\"val_loss\": loss}\n",
        "  \n",
        "  def validation_epoch_end(self, outputs):\n",
        "    avg_loss = torch.stack([x[\"val_loss\"] for x in outputs]).mean()\n",
        "    tensorboard_logs = {\"val_loss\": avg_loss}\n",
        "    return {\"avg_val_loss\": avg_loss, \"log\": tensorboard_logs, 'progress_bar': tensorboard_logs}\n",
        "\n",
        "  def configure_optimizers(self):\n",
        "    \"Prepare optimizer and schedule (linear warmup and decay)\"\n",
        "\n",
        "    model = self.model\n",
        "    no_decay = [\"bias\", \"LayerNorm.weight\"]\n",
        "    optimizer_grouped_parameters = [\n",
        "        {\n",
        "            \"params\": [p for n, p in model.named_parameters() if not any(nd in n for nd in no_decay)],\n",
        "            \"weight_decay\": self.hparams.weight_decay,\n",
        "        },\n",
        "        {\n",
        "            \"params\": [p for n, p in model.named_parameters() if any(nd in n for nd in no_decay)],\n",
        "            \"weight_decay\": 0.0,\n",
        "        },\n",
        "    ]\n",
        "    optimizer = AdamW(optimizer_grouped_parameters, lr=self.hparams.learning_rate, eps=self.hparams.adam_epsilon)\n",
        "    self.opt = optimizer\n",
        "    return [optimizer]\n",
        "  \n",
        "  def optimizer_step(self, epoch, batch_idx, optimizer, optimizer_idx, second_order_closure=None):\n",
        "    if self.trainer.use_tpu:\n",
        "      xm.optimizer_step(optimizer)\n",
        "    else:\n",
        "      optimizer.step()\n",
        "    optimizer.zero_grad()\n",
        "    self.lr_scheduler.step()\n",
        "  \n",
        "  def get_tqdm_dict(self):\n",
        "    tqdm_dict = {\"loss\": \"{:.3f}\".format(self.trainer.avg_loss), \"lr\": self.lr_scheduler.get_last_lr()[-1]}\n",
        "\n",
        "    return tqdm_dict\n",
        "\n",
        "  def train_dataloader(self):\n",
        "    train_dataset = get_dataset(tokenizer=self.tokenizer, type_path=\"my_train_prep\", args=self.hparams)\n",
        "    dataloader = DataLoader(train_dataset, batch_size=self.hparams.train_batch_size, drop_last=True, shuffle=True, num_workers=4)\n",
        "    t_total = (\n",
        "        (len(dataloader.dataset) // (self.hparams.train_batch_size * max(1, self.hparams.n_gpu)))\n",
        "        // self.hparams.gradient_accumulation_steps\n",
        "        * float(self.hparams.num_train_epochs)\n",
        "    )\n",
        "    scheduler = get_linear_schedule_with_warmup(\n",
        "        self.opt, num_warmup_steps=self.hparams.warmup_steps, num_training_steps=t_total\n",
        "    )\n",
        "    self.lr_scheduler = scheduler\n",
        "    return dataloader\n",
        "\n",
        "  def val_dataloader(self):\n",
        "    val_dataset = get_dataset(tokenizer=self.tokenizer, type_path=\"my_val_prep\", args=self.hparams)\n",
        "    return DataLoader(val_dataset, batch_size=self.hparams.eval_batch_size, num_workers=4)"
      ],
      "execution_count": null,
      "outputs": []
    },
    {
      "cell_type": "markdown",
      "metadata": {
        "id": "Yju-0IQnpC8R"
      },
      "source": [
        "##Train the T5 model"
      ]
    },
    {
      "cell_type": "code",
      "metadata": {
        "id": "9TToMqHlo7bA",
        "colab": {
          "base_uri": "https://localhost:8080/"
        },
        "outputId": "3790d83f-af57-4cde-b1fa-4f50deee8dd5"
      },
      "source": [
        "#load the tokenizer for this model\n",
        "tokenizer = T5Tokenizer.from_pretrained('t5-base')"
      ],
      "execution_count": null,
      "outputs": [
        {
          "output_type": "stream",
          "text": [
            "INFO:transformers.tokenization_utils:loading file https://s3.amazonaws.com/models.huggingface.co/bert/t5-spiece.model from cache at /root/.cache/torch/transformers/68f1b8dbca4350743bb54b8c4169fd38cbabaad564f85a9239337a8d0342af9f.9995af32582a1a7062cb3173c118cb7b4636fa03feb967340f20fc37406f021f\n"
          ],
          "name": "stderr"
        }
      ]
    },
    {
      "cell_type": "code",
      "metadata": {
        "id": "JTs5-TrVsVyz"
      },
      "source": [
        "dataset = EmpathyDataset(tokenizer, 'drive/MyDrive/empathy_classifier_data/', 'my_val_prep', 512)"
      ],
      "execution_count": null,
      "outputs": []
    },
    {
      "cell_type": "code",
      "metadata": {
        "id": "n12PBnSzschr",
        "colab": {
          "base_uri": "https://localhost:8080/"
        },
        "outputId": "b4f53f64-540e-4fd9-beed-f49cb5e1f23e"
      },
      "source": [
        "#show a sample\n",
        "data = dataset[28]\n",
        "print(tokenizer.decode(data['source_ids']))\n",
        "print(tokenizer.decode(data['target_ids']))"
      ],
      "execution_count": null,
      "outputs": [
        {
          "output_type": "stream",
          "text": [
            "do you find yourself trying to control how someone else behaves\n",
            "no\n"
          ],
          "name": "stdout"
        }
      ]
    },
    {
      "cell_type": "code",
      "metadata": {
        "id": "19txdH5cpqPa"
      },
      "source": [
        "#collect rubbish\n",
        "gc.collect()\n",
        "torch.cuda.empty_cache()"
      ],
      "execution_count": null,
      "outputs": []
    },
    {
      "cell_type": "code",
      "metadata": {
        "id": "uAY8A7Jgo7_Z"
      },
      "source": [
        "args_dict = dict(\n",
        "    data_dir=\"\", #path for data files\n",
        "    output_dir=\"\", #path to save the checkpoints\n",
        "    model_name_or_path='t5-base',\n",
        "    tokenizer_name_or_path='t5-base',\n",
        "    max_seq_length=512,\n",
        "    learning_rate=1e-4,\n",
        "    weight_decay=0.0,\n",
        "    adam_epsilon=1e-8,\n",
        "    warmup_steps=0,\n",
        "    train_batch_size=1,\n",
        "    eval_batch_size=1,\n",
        "    num_train_epochs=12,\n",
        "    gradient_accumulation_steps=16,\n",
        "    n_gpu=1,\n",
        "    early_stop_callback=False,\n",
        "    fp_16=False, \n",
        "    opt_level='O1', \n",
        "    max_grad_norm=1.0, \n",
        "    seed=42,\n",
        ")"
      ],
      "execution_count": null,
      "outputs": []
    },
    {
      "cell_type": "code",
      "metadata": {
        "id": "2jg1VUA5p0dT",
        "colab": {
          "base_uri": "https://localhost:8080/"
        },
        "outputId": "11f4453a-1af6-478e-87b2-12de187fe680"
      },
      "source": [
        "args_dict.update({'data_dir': 'drive/MyDrive/empathy_classifier_data/', 'output_dir': 'drive/MyDrive/t5_empathy', 'num_train_epochs':12})\n",
        "args = argparse.Namespace(**args_dict)\n",
        "print(args_dict)"
      ],
      "execution_count": null,
      "outputs": [
        {
          "output_type": "stream",
          "text": [
            "{'data_dir': 'drive/MyDrive/empathy_classifier_data/', 'output_dir': 'drive/MyDrive/t5_empathy', 'model_name_or_path': 't5-base', 'tokenizer_name_or_path': 't5-base', 'max_seq_length': 512, 'learning_rate': 0.0001, 'weight_decay': 0.0, 'adam_epsilon': 1e-08, 'warmup_steps': 0, 'train_batch_size': 1, 'eval_batch_size': 1, 'num_train_epochs': 12, 'gradient_accumulation_steps': 16, 'n_gpu': 1, 'early_stop_callback': False, 'fp_16': False, 'opt_level': 'O1', 'max_grad_norm': 1.0, 'seed': 42}\n"
          ],
          "name": "stdout"
        }
      ]
    },
    {
      "cell_type": "code",
      "metadata": {
        "id": "hW1ecAccREEy"
      },
      "source": [
        "device = torch.device('cuda:0')"
      ],
      "execution_count": null,
      "outputs": []
    },
    {
      "cell_type": "code",
      "metadata": {
        "id": "am01wBw1kUVA"
      },
      "source": [
        "#load model (uncomment to load)\n",
        "\n",
        "model = T5FineTuner(args)\n",
        "model.load_state_dict(torch.load('drive/MyDrive/t5_empathy/T5empathy_finetuned_prep.pt'))\n",
        "model.to(device)\n"
      ],
      "execution_count": null,
      "outputs": []
    },
    {
      "cell_type": "code",
      "metadata": {
        "id": "uWvn-NqKp3y0"
      },
      "source": [
        "checkpoint_callback = pl.callbacks.ModelCheckpoint(\n",
        "    filepath=args.output_dir, prefix=\"checkpoint\", monitor=\"val_loss\", mode=\"min\", save_top_k=5\n",
        ")\n",
        "\n",
        "train_params = dict(\n",
        "    accumulate_grad_batches=args.gradient_accumulation_steps,\n",
        "    gpus=args.n_gpu,\n",
        "    max_epochs=args.num_train_epochs,\n",
        "    early_stop_callback=False,\n",
        "    precision= 16 if args.fp_16 else 32,\n",
        "    amp_level=args.opt_level,\n",
        "    gradient_clip_val=args.max_grad_norm,\n",
        "    checkpoint_callback=checkpoint_callback,\n",
        "    callbacks=[LoggingCallback()],\n",
        ")"
      ],
      "execution_count": null,
      "outputs": []
    },
    {
      "cell_type": "code",
      "metadata": {
        "id": "UeNdS3WZp6p1"
      },
      "source": [
        "def get_dataset(tokenizer, type_path, args):\n",
        "  return EmpathyDataset(tokenizer=tokenizer, data_dir=args.data_dir, type_path=type_path,  max_len=args.max_seq_length)"
      ],
      "execution_count": null,
      "outputs": []
    },
    {
      "cell_type": "code",
      "metadata": {
        "id": "3nJ6uxC5qpPg",
        "colab": {
          "base_uri": "https://localhost:8080/"
        },
        "outputId": "8fe83ae4-7a40-4a8a-da45-a3316347b39f"
      },
      "source": [
        "trainer = pl.Trainer(**train_params)"
      ],
      "execution_count": null,
      "outputs": [
        {
          "output_type": "stream",
          "text": [
            "INFO:lightning:GPU available: True, used: True\n",
            "INFO:lightning:CUDA_VISIBLE_DEVICES: [0]\n"
          ],
          "name": "stderr"
        }
      ]
    },
    {
      "cell_type": "code",
      "metadata": {
        "id": "VMW0Pk_irCib"
      },
      "source": [
        "#train loop\n",
        "trainer.fit(model)"
      ],
      "execution_count": null,
      "outputs": []
    },
    {
      "cell_type": "markdown",
      "metadata": {
        "id": "ta-dCRdKo0jn"
      },
      "source": [
        "##Test set evaluation"
      ]
    },
    {
      "cell_type": "code",
      "metadata": {
        "id": "iXUfYg73r0vt"
      },
      "source": [
        "import textwrap\n",
        "from tqdm.auto import tqdm\n",
        "from sklearn import metrics"
      ],
      "execution_count": null,
      "outputs": []
    },
    {
      "cell_type": "code",
      "metadata": {
        "id": "eOG7cSPVr4kK"
      },
      "source": [
        "dataset = EmpathyDataset(tokenizer, 'drive/MyDrive/empathy_classifier_data', 'my_test_prep', 512)\n",
        "loader = DataLoader(dataset, batch_size=32, shuffle=True)"
      ],
      "execution_count": null,
      "outputs": []
    },
    {
      "cell_type": "code",
      "metadata": {
        "id": "oXH2MFnCvGtJ"
      },
      "source": [
        "it = iter(loader)"
      ],
      "execution_count": null,
      "outputs": []
    },
    {
      "cell_type": "code",
      "metadata": {
        "id": "b0LY4ua1vKHf",
        "colab": {
          "base_uri": "https://localhost:8080/"
        },
        "outputId": "f9cf2644-3c64-489c-e01f-930d61b097fa"
      },
      "source": [
        "batch = next(it)\n",
        "batch[\"source_ids\"].shape"
      ],
      "execution_count": null,
      "outputs": [
        {
          "output_type": "execute_result",
          "data": {
            "text/plain": [
              "torch.Size([32, 512])"
            ]
          },
          "metadata": {},
          "execution_count": 71
        }
      ]
    },
    {
      "cell_type": "code",
      "metadata": {
        "id": "8QCcyElfvTyZ"
      },
      "source": [
        "outs = model.model.generate(input_ids=batch['source_ids'].cuda(), \n",
        "                              attention_mask=batch['source_mask'].cuda(), \n",
        "                              max_length=2)\n",
        "\n",
        "dec = [tokenizer.decode(ids) for ids in outs]\n",
        "\n",
        "texts = [tokenizer.decode(ids) for ids in batch['source_ids']]\n",
        "targets = [tokenizer.decode(ids) for ids in batch['target_ids']]"
      ],
      "execution_count": null,
      "outputs": []
    },
    {
      "cell_type": "code",
      "metadata": {
        "id": "cd86TUoavXLk",
        "colab": {
          "base_uri": "https://localhost:8080/"
        },
        "outputId": "157f69e8-99e0-4aff-8444-4fc3e6d28aef"
      },
      "source": [
        "#print some predictions\n",
        "for i in range(32):\n",
        "    c = texts[i]\n",
        "    lines = textwrap.wrap(\"text:\\n%s\\n\" % c, width=100)\n",
        "    print(\"\\n\".join(lines))\n",
        "    print(\"\\nActual label: %s\" % targets[i])\n",
        "    print(\"predicted label: %s\" % dec[i])\n",
        "    print(\"=====================================================================\\n\")"
      ],
      "execution_count": null,
      "outputs": [
        {
          "output_type": "stream",
          "text": [
            "text: thats ok thank you for letting me know do you feel perhaps that someone or something else is\n",
            "causing your negative feelings\n",
            "\n",
            "Actual label: strong\n",
            "predicted label: strong\n",
            "=====================================================================\n",
            "\n",
            "text: do you often feel that it is your job to save others or that other people expect you to be\n",
            "that way\n",
            "\n",
            "Actual label: weak\n",
            "predicted label: weak\n",
            "=====================================================================\n",
            "\n",
            "text: thank you from what you have told me i understand that you are feeling do you think this more\n",
            "or less describes the way youre feeling\n",
            "\n",
            "Actual label: strong\n",
            "predicted label: strong\n",
            "=====================================================================\n",
            "\n",
            "text: do you feel like you have let someone down\n",
            "\n",
            "Actual label: no\n",
            "predicted label: no\n",
            "=====================================================================\n",
            "\n",
            "text: its normal to blame ourselves when something happens that hurts us but if we always do this it\n",
            "can build up into very angry feelings do you think that you tend to always blame yourself for every\n",
            "mistake\n",
            "\n",
            "Actual label: strong\n",
            "predicted label: strong\n",
            "=====================================================================\n",
            "\n",
            "text: im sorry about that was this caused by a specific events\n",
            "\n",
            "Actual label: weak\n",
            "predicted label: weak\n",
            "=====================================================================\n",
            "\n",
            "text: are you having difficulties with life events right now\n",
            "\n",
            "Actual label: no\n",
            "predicted label: no\n",
            "=====================================================================\n",
            "\n",
            "text: i can see that youre feeling anxious and id like to help is there something specific that\n",
            "caused this feeling\n",
            "\n",
            "Actual label: strong\n",
            "predicted label: strong\n",
            "=====================================================================\n",
            "\n",
            "text: i see thank you do you ever see yourself as the victim for the negative feelings you have\n",
            "\n",
            "Actual label: weak\n",
            "predicted label: weak\n",
            "=====================================================================\n",
            "\n",
            "text: do you ever find yourself blaming or controlling others around you\n",
            "\n",
            "Actual label: weak\n",
            "predicted label: no\n",
            "=====================================================================\n",
            "\n",
            "text: in all honesty do you think that you are always available to consider alternatives to your\n",
            "point of view\n",
            "\n",
            "Actual label: weak\n",
            "predicted label: weak\n",
            "=====================================================================\n",
            "\n",
            "text: are you open minded and able to listen to other peoples ideas\n",
            "\n",
            "Actual label: no\n",
            "predicted label: no\n",
            "=====================================================================\n",
            "\n",
            "text: do you feel that you need to be in charge of someone elses behaviour lately\n",
            "\n",
            "Actual label: no\n",
            "predicted label: weak\n",
            "=====================================================================\n",
            "\n",
            "text: not every protocol works for everyone and thats okay i would recommend not giving up and\n",
            "trying again would you like to attempt another one together\n",
            "\n",
            "Actual label: strong\n",
            "predicted label: strong\n",
            "=====================================================================\n",
            "\n",
            "text: do you think you might have or desire the power to influence someone else\n",
            "\n",
            "Actual label: no\n",
            "predicted label: weak\n",
            "=====================================================================\n",
            "\n",
            "text: do you think this helped you feel better\n",
            "\n",
            "Actual label: no\n",
            "predicted label: no\n",
            "=====================================================================\n",
            "\n",
            "text: im sorry youre not feeling great has anything happened to make you feel this way\n",
            "\n",
            "Actual label: strong\n",
            "predicted label: strong\n",
            "=====================================================================\n",
            "\n",
            "text: thank you for sharing id like to ask you some questions so i can understand a bit more\n",
            "\n",
            "Actual label: weak\n",
            "predicted label: strong\n",
            "=====================================================================\n",
            "\n",
            "text: would you feel really uncomfortable reliving this past negative event\n",
            "\n",
            "Actual label: weak\n",
            "predicted label: weak\n",
            "=====================================================================\n",
            "\n",
            "text: did this event happen recently or is it something that has been on your mind for some time\n",
            "\n",
            "Actual label: weak\n",
            "predicted label: weak\n",
            "=====================================================================\n",
            "\n",
            "text: im sorry to hear that there are other protocols we could try if you would like to attempt\n",
            "another\n",
            "\n",
            "Actual label: strong\n",
            "predicted label: strong\n",
            "=====================================================================\n",
            "\n",
            "text: welcome back how are you feeling after having taken the protocol\n",
            "\n",
            "Actual label: strong\n",
            "predicted label: weak\n",
            "=====================================================================\n",
            "\n",
            "text: could it be perhaps that you are avoiding responsibility for your actions and just blaming\n",
            "someone else for your feelings right now\n",
            "\n",
            "Actual label: strong\n",
            "predicted label: strong\n",
            "=====================================================================\n",
            "\n",
            "text: from what youve told me it sounds like youre feeling is this right\n",
            "\n",
            "Actual label: weak\n",
            "predicted label: weak\n",
            "=====================================================================\n",
            "\n",
            "text: please tell me are you always putting the blame on yourself when things go wrong\n",
            "\n",
            "Actual label: weak\n",
            "predicted label: no\n",
            "=====================================================================\n",
            "\n",
            "text: have you fully considered the perspectives of those you have talked to in the past\n",
            "\n",
            "Actual label: no\n",
            "predicted label: no\n",
            "=====================================================================\n",
            "\n",
            "text: i can recommend some protocols that might help feel free to choose from these protocols the\n",
            "one you prefer\n",
            "\n",
            "Actual label: weak\n",
            "predicted label: strong\n",
            "=====================================================================\n",
            "\n",
            "text: did this happen because of a recent or distant situation\n",
            "\n",
            "Actual label: no\n",
            "predicted label: no\n",
            "=====================================================================\n",
            "\n",
            "text: thank you for sharing i believe that you are am i correct in saying that\n",
            "\n",
            "Actual label: strong\n",
            "predicted label: weak\n",
            "=====================================================================\n",
            "\n",
            "text: now its perfectly normal to feel either better or worse immediately after doing this how would\n",
            "you say you feel after completing the protocol\n",
            "\n",
            "Actual label: strong\n",
            "predicted label: strong\n",
            "=====================================================================\n",
            "\n",
            "text: do you think that sometimes you encourage people to behave the way you think they should\n",
            "\n",
            "Actual label: weak\n",
            "predicted label: no\n",
            "=====================================================================\n",
            "\n",
            "text: i would like to know if there is anything happening right now in that feels bigger than normal\n",
            "do you feel like you are facing a personal crisis\n",
            "\n",
            "Actual label: strong\n",
            "predicted label: weak\n",
            "=====================================================================\n",
            "\n"
          ],
          "name": "stdout"
        }
      ]
    },
    {
      "cell_type": "code",
      "metadata": {
        "id": "_Jci7f3gKOD3",
        "colab": {
          "base_uri": "https://localhost:8080/",
          "height": 49,
          "referenced_widgets": [
            "d74a605974684d94a3b7ca72e4ee7024",
            "ee5df52a381d4990935e161385b54fd4",
            "50332cd40411452786bb0758c32502da",
            "cbac027dcc1b48d7a343a19b085b11b6",
            "bb9282973191496aa71cc66dd71e721c",
            "a5026eb6436649279b1fc4a2224dcb55",
            "a61438c40c6740168a48cf3d39bebba4",
            "09751c2397744db795f85f751f6b0a7f",
            "b53b06b2cb4f4030aba5cdc3038067d0",
            "450ba577a1314650840fa0a087998028",
            "7796e622d02e40db878cff6451fe6da6"
          ]
        },
        "outputId": "03be6fde-40b7-4d83-bd09-e4c6343864e2"
      },
      "source": [
        "dataset = EmpathyDataset(tokenizer, 'drive/MyDrive/empathy_classifier_data/', 'my_test_prep', 512)\n",
        "loader = DataLoader(dataset, batch_size=32, num_workers=4)\n",
        "model.model.eval()\n",
        "outputs = []\n",
        "targets = []\n",
        "for batch in tqdm(loader):\n",
        "  outs = model.model.generate(input_ids=batch['source_ids'].cuda(), \n",
        "                              attention_mask=batch['source_mask'].cuda(), \n",
        "                              max_length=2)\n",
        "\n",
        "  dec = [tokenizer.decode(ids) for ids in outs]\n",
        "  target = [tokenizer.decode(ids) for ids in batch[\"target_ids\"]]\n",
        "  \n",
        "  outputs.extend(dec)\n",
        "  targets.extend(target)"
      ],
      "execution_count": null,
      "outputs": [
        {
          "output_type": "display_data",
          "data": {
            "application/vnd.jupyter.widget-view+json": {
              "model_id": "d74a605974684d94a3b7ca72e4ee7024",
              "version_minor": 0,
              "version_major": 2
            },
            "text/plain": [
              "  0%|          | 0/4 [00:00<?, ?it/s]"
            ]
          },
          "metadata": {}
        }
      ]
    },
    {
      "cell_type": "code",
      "metadata": {
        "id": "WfsmFcc6MSPR"
      },
      "source": [
        "for i, out in enumerate(outputs):\n",
        "  if out not in labels:\n",
        "    print(i, 'detected invalid prediction')\n",
        "    del outputs[i]\n",
        "    del targets[i]"
      ],
      "execution_count": null,
      "outputs": []
    },
    {
      "cell_type": "code",
      "metadata": {
        "id": "vZEBunOJMWfO",
        "colab": {
          "base_uri": "https://localhost:8080/"
        },
        "outputId": "254633c2-08aa-40e3-8c39-e532f18aebe2"
      },
      "source": [
        "#other metrics\n",
        "print(metrics.classification_report(targets, outputs, digits=4))"
      ],
      "execution_count": null,
      "outputs": [
        {
          "output_type": "stream",
          "text": [
            "              precision    recall  f1-score   support\n",
            "\n",
            "          no     0.8214    0.7419    0.7797        31\n",
            "      strong     0.7674    0.8462    0.8049        39\n",
            "        weak     0.6500    0.6341    0.6420        41\n",
            "\n",
            "    accuracy                         0.7387       111\n",
            "   macro avg     0.7463    0.7407    0.7422       111\n",
            "weighted avg     0.7391    0.7387    0.7377       111\n",
            "\n"
          ],
          "name": "stdout"
        }
      ]
    },
    {
      "cell_type": "markdown",
      "metadata": {
        "id": "Jv8yPUAbCkVe"
      },
      "source": [
        "####Confusion matrix"
      ]
    },
    {
      "cell_type": "code",
      "metadata": {
        "id": "z8-_OJESMZt6"
      },
      "source": [
        "import seaborn as sn\n",
        "import pandas as pd\n",
        "import matplotlib.pyplot as plt"
      ],
      "execution_count": null,
      "outputs": []
    },
    {
      "cell_type": "code",
      "metadata": {
        "id": "c7zGD1brMc5S"
      },
      "source": [
        "cm = metrics.confusion_matrix(targets, outputs)"
      ],
      "execution_count": null,
      "outputs": []
    },
    {
      "cell_type": "code",
      "metadata": {
        "id": "3OhYybzfDuhk",
        "colab": {
          "base_uri": "https://localhost:8080/",
          "height": 445
        },
        "outputId": "15fcddf3-f657-4c7f-a1f1-c11889d586ac"
      },
      "source": [
        "df_cm = pd.DataFrame(cm, index = [\"no\", \"strong\", \"weak\"], columns = [\"no\", \"strong\", \"weak\"])\n",
        "plt.figure(figsize = (10,7))\n",
        "sn.heatmap(df_cm, annot=True, cmap='Greens', fmt='g')"
      ],
      "execution_count": null,
      "outputs": [
        {
          "output_type": "execute_result",
          "data": {
            "text/plain": [
              "<matplotlib.axes._subplots.AxesSubplot at 0x7f72dc101190>"
            ]
          },
          "metadata": {},
          "execution_count": 80
        },
        {
          "output_type": "display_data",
          "data": {
            "image/png": "[encoded data removed]",
            "text/plain": [
              "<Figure size 720x504 with 2 Axes>"
            ]
          },
          "metadata": {
            "needs_background": "light"
          }
        }
      ]
    }
  ]
}