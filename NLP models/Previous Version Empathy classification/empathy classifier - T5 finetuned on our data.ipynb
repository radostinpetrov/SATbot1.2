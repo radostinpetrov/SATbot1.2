{
  "nbformat": 4,
  "nbformat_minor": 0,
  "metadata": {
    "colab": {
      "name": "empathy classifier (T5 finetuned on our data, no prep)",
      "provenance": [],
      "collapsed_sections": [],
      "machine_shape": "hm"
    },
    "kernelspec": {
      "name": "python3",
      "display_name": "Python 3"
    },
    "language_info": {
      "name": "python"
    },
    "accelerator": "GPU",
    "widgets": {
      "application/vnd.jupyter.widget-state+json": {
        "a61a3d7a40244c48b24506c8b0353e4d": {
          "model_module": "@jupyter-widgets/controls",
          "model_name": "HBoxModel",
          "model_module_version": "1.5.0",
          "state": {
            "_view_name": "HBoxView",
            "_dom_classes": [],
            "_model_name": "HBoxModel",
            "_view_module": "@jupyter-widgets/controls",
            "_model_module_version": "1.5.0",
            "_view_count": null,
            "_view_module_version": "1.5.0",
            "box_style": "",
            "layout": "IPY_MODEL_022ef1b015264680ac3e93ccf0aca781",
            "_model_module": "@jupyter-widgets/controls",
            "children": [
              "IPY_MODEL_e94b6f05135345f480fc0fe47c9dd2eb",
              "IPY_MODEL_28f6a7d24a5c4f519f17ae9667823eff",
              "IPY_MODEL_2ec2ed1266d34c62a7b794fc2e0fff41"
            ]
          }
        },
        "022ef1b015264680ac3e93ccf0aca781": {
          "model_module": "@jupyter-widgets/base",
          "model_name": "LayoutModel",
          "model_module_version": "1.2.0",
          "state": {
            "_view_name": "LayoutView",
            "grid_template_rows": null,
            "right": null,
            "justify_content": null,
            "_view_module": "@jupyter-widgets/base",
            "overflow": null,
            "_model_module_version": "1.2.0",
            "_view_count": null,
            "flex_flow": null,
            "width": null,
            "min_width": null,
            "border": null,
            "align_items": null,
            "bottom": null,
            "_model_module": "@jupyter-widgets/base",
            "top": null,
            "grid_column": null,
            "overflow_y": null,
            "overflow_x": null,
            "grid_auto_flow": null,
            "grid_area": null,
            "grid_template_columns": null,
            "flex": null,
            "_model_name": "LayoutModel",
            "justify_items": null,
            "grid_row": null,
            "max_height": null,
            "align_content": null,
            "visibility": null,
            "align_self": null,
            "height": null,
            "min_height": null,
            "padding": null,
            "grid_auto_rows": null,
            "grid_gap": null,
            "max_width": null,
            "order": null,
            "_view_module_version": "1.2.0",
            "grid_template_areas": null,
            "object_position": null,
            "object_fit": null,
            "grid_auto_columns": null,
            "margin": null,
            "display": null,
            "left": null
          }
        },
        "e94b6f05135345f480fc0fe47c9dd2eb": {
          "model_module": "@jupyter-widgets/controls",
          "model_name": "HTMLModel",
          "model_module_version": "1.5.0",
          "state": {
            "_view_name": "HTMLView",
            "style": "IPY_MODEL_35c9b02354824d708b11d2f06f6fc638",
            "_dom_classes": [],
            "description": "",
            "_model_name": "HTMLModel",
            "placeholder": "​",
            "_view_module": "@jupyter-widgets/controls",
            "_model_module_version": "1.5.0",
            "value": "100%",
            "_view_count": null,
            "_view_module_version": "1.5.0",
            "description_tooltip": null,
            "_model_module": "@jupyter-widgets/controls",
            "layout": "IPY_MODEL_a5c4c0e3098a482da64ea408bed0558d"
          }
        },
        "28f6a7d24a5c4f519f17ae9667823eff": {
          "model_module": "@jupyter-widgets/controls",
          "model_name": "FloatProgressModel",
          "model_module_version": "1.5.0",
          "state": {
            "_view_name": "ProgressView",
            "style": "IPY_MODEL_df4dc20563914559966157ad45c92b00",
            "_dom_classes": [],
            "description": "",
            "_model_name": "FloatProgressModel",
            "bar_style": "success",
            "max": 4,
            "_view_module": "@jupyter-widgets/controls",
            "_model_module_version": "1.5.0",
            "value": 4,
            "_view_count": null,
            "_view_module_version": "1.5.0",
            "orientation": "horizontal",
            "min": 0,
            "description_tooltip": null,
            "_model_module": "@jupyter-widgets/controls",
            "layout": "IPY_MODEL_f40fb6fbac5f4ec49b3e4d982e3eb0e3"
          }
        },
        "2ec2ed1266d34c62a7b794fc2e0fff41": {
          "model_module": "@jupyter-widgets/controls",
          "model_name": "HTMLModel",
          "model_module_version": "1.5.0",
          "state": {
            "_view_name": "HTMLView",
            "style": "IPY_MODEL_3ccbfb2c9c394ac6b7f1ef7c2e231aeb",
            "_dom_classes": [],
            "description": "",
            "_model_name": "HTMLModel",
            "placeholder": "​",
            "_view_module": "@jupyter-widgets/controls",
            "_model_module_version": "1.5.0",
            "value": " 4/4 [00:03&lt;00:00,  1.64it/s]",
            "_view_count": null,
            "_view_module_version": "1.5.0",
            "description_tooltip": null,
            "_model_module": "@jupyter-widgets/controls",
            "layout": "IPY_MODEL_75925700245f4e6988b416fb81f205f8"
          }
        },
        "35c9b02354824d708b11d2f06f6fc638": {
          "model_module": "@jupyter-widgets/controls",
          "model_name": "DescriptionStyleModel",
          "model_module_version": "1.5.0",
          "state": {
            "_view_name": "StyleView",
            "_model_name": "DescriptionStyleModel",
            "description_width": "",
            "_view_module": "@jupyter-widgets/base",
            "_model_module_version": "1.5.0",
            "_view_count": null,
            "_view_module_version": "1.2.0",
            "_model_module": "@jupyter-widgets/controls"
          }
        },
        "a5c4c0e3098a482da64ea408bed0558d": {
          "model_module": "@jupyter-widgets/base",
          "model_name": "LayoutModel",
          "model_module_version": "1.2.0",
          "state": {
            "_view_name": "LayoutView",
            "grid_template_rows": null,
            "right": null,
            "justify_content": null,
            "_view_module": "@jupyter-widgets/base",
            "overflow": null,
            "_model_module_version": "1.2.0",
            "_view_count": null,
            "flex_flow": null,
            "width": null,
            "min_width": null,
            "border": null,
            "align_items": null,
            "bottom": null,
            "_model_module": "@jupyter-widgets/base",
            "top": null,
            "grid_column": null,
            "overflow_y": null,
            "overflow_x": null,
            "grid_auto_flow": null,
            "grid_area": null,
            "grid_template_columns": null,
            "flex": null,
            "_model_name": "LayoutModel",
            "justify_items": null,
            "grid_row": null,
            "max_height": null,
            "align_content": null,
            "visibility": null,
            "align_self": null,
            "height": null,
            "min_height": null,
            "padding": null,
            "grid_auto_rows": null,
            "grid_gap": null,
            "max_width": null,
            "order": null,
            "_view_module_version": "1.2.0",
            "grid_template_areas": null,
            "object_position": null,
            "object_fit": null,
            "grid_auto_columns": null,
            "margin": null,
            "display": null,
            "left": null
          }
        },
        "df4dc20563914559966157ad45c92b00": {
          "model_module": "@jupyter-widgets/controls",
          "model_name": "ProgressStyleModel",
          "model_module_version": "1.5.0",
          "state": {
            "_view_name": "StyleView",
            "_model_name": "ProgressStyleModel",
            "description_width": "",
            "_view_module": "@jupyter-widgets/base",
            "_model_module_version": "1.5.0",
            "_view_count": null,
            "_view_module_version": "1.2.0",
            "bar_color": null,
            "_model_module": "@jupyter-widgets/controls"
          }
        },
        "f40fb6fbac5f4ec49b3e4d982e3eb0e3": {
          "model_module": "@jupyter-widgets/base",
          "model_name": "LayoutModel",
          "model_module_version": "1.2.0",
          "state": {
            "_view_name": "LayoutView",
            "grid_template_rows": null,
            "right": null,
            "justify_content": null,
            "_view_module": "@jupyter-widgets/base",
            "overflow": null,
            "_model_module_version": "1.2.0",
            "_view_count": null,
            "flex_flow": null,
            "width": null,
            "min_width": null,
            "border": null,
            "align_items": null,
            "bottom": null,
            "_model_module": "@jupyter-widgets/base",
            "top": null,
            "grid_column": null,
            "overflow_y": null,
            "overflow_x": null,
            "grid_auto_flow": null,
            "grid_area": null,
            "grid_template_columns": null,
            "flex": null,
            "_model_name": "LayoutModel",
            "justify_items": null,
            "grid_row": null,
            "max_height": null,
            "align_content": null,
            "visibility": null,
            "align_self": null,
            "height": null,
            "min_height": null,
            "padding": null,
            "grid_auto_rows": null,
            "grid_gap": null,
            "max_width": null,
            "order": null,
            "_view_module_version": "1.2.0",
            "grid_template_areas": null,
            "object_position": null,
            "object_fit": null,
            "grid_auto_columns": null,
            "margin": null,
            "display": null,
            "left": null
          }
        },
        "3ccbfb2c9c394ac6b7f1ef7c2e231aeb": {
          "model_module": "@jupyter-widgets/controls",
          "model_name": "DescriptionStyleModel",
          "model_module_version": "1.5.0",
          "state": {
            "_view_name": "StyleView",
            "_model_name": "DescriptionStyleModel",
            "description_width": "",
            "_view_module": "@jupyter-widgets/base",
            "_model_module_version": "1.5.0",
            "_view_count": null,
            "_view_module_version": "1.2.0",
            "_model_module": "@jupyter-widgets/controls"
          }
        },
        "75925700245f4e6988b416fb81f205f8": {
          "model_module": "@jupyter-widgets/base",
          "model_name": "LayoutModel",
          "model_module_version": "1.2.0",
          "state": {
            "_view_name": "LayoutView",
            "grid_template_rows": null,
            "right": null,
            "justify_content": null,
            "_view_module": "@jupyter-widgets/base",
            "overflow": null,
            "_model_module_version": "1.2.0",
            "_view_count": null,
            "flex_flow": null,
            "width": null,
            "min_width": null,
            "border": null,
            "align_items": null,
            "bottom": null,
            "_model_module": "@jupyter-widgets/base",
            "top": null,
            "grid_column": null,
            "overflow_y": null,
            "overflow_x": null,
            "grid_auto_flow": null,
            "grid_area": null,
            "grid_template_columns": null,
            "flex": null,
            "_model_name": "LayoutModel",
            "justify_items": null,
            "grid_row": null,
            "max_height": null,
            "align_content": null,
            "visibility": null,
            "align_self": null,
            "height": null,
            "min_height": null,
            "padding": null,
            "grid_auto_rows": null,
            "grid_gap": null,
            "max_width": null,
            "order": null,
            "_view_module_version": "1.2.0",
            "grid_template_areas": null,
            "object_position": null,
            "object_fit": null,
            "grid_auto_columns": null,
            "margin": null,
            "display": null,
            "left": null
          }
        }
      }
    }
  },
  "cells": [
    {
      "cell_type": "code",
      "metadata": {
        "id": "vQVPHaNWjREG"
      },
      "source": [
        "from google.colab import drive\n",
        "drive.mount('/content/drive')"
      ],
      "execution_count": null,
      "outputs": []
    },
    {
      "cell_type": "code",
      "metadata": {
        "id": "_4nE5R3iYSZ6"
      },
      "source": [
        "%%capture\n",
        "!pip install transformers==2.9.0 \n",
        "!pip install pytorch_lightning==0.7.5\n",
        "!pip install sentencepiece"
      ],
      "execution_count": 2,
      "outputs": []
    },
    {
      "cell_type": "code",
      "metadata": {
        "colab": {
          "base_uri": "https://localhost:8080/"
        },
        "id": "mwPxLDUiYk2V",
        "outputId": "127e8692-8d44-4d44-dded-6344f508564c"
      },
      "source": [
        "import argparse\n",
        "import glob\n",
        "import os\n",
        "import json\n",
        "import time\n",
        "import logging\n",
        "import random\n",
        "import re\n",
        "from itertools import chain\n",
        "from string import punctuation\n",
        "\n",
        "import nltk\n",
        "nltk.download('punkt')\n",
        "from nltk.tokenize import sent_tokenize\n",
        "\n",
        "import pandas as pd\n",
        "import numpy as np\n",
        "import matplotlib.pyplot as plt\n",
        "import torch\n",
        "from torch.utils.data import Dataset, DataLoader\n",
        "import pytorch_lightning as pl\n",
        "\n",
        "import gc\n",
        "\n",
        "from transformers import (\n",
        "    AdamW,\n",
        "    T5ForConditionalGeneration,\n",
        "    T5Tokenizer,\n",
        "    get_linear_schedule_with_warmup\n",
        ")"
      ],
      "execution_count": 3,
      "outputs": [
        {
          "output_type": "stream",
          "text": [
            "[nltk_data] Downloading package punkt to /root/nltk_data...\n",
            "[nltk_data]   Package punkt is already up-to-date!\n"
          ],
          "name": "stdout"
        },
        {
          "output_type": "stream",
          "text": [
            "INFO:transformers.file_utils:PyTorch version 1.9.0+cu102 available.\n",
            "INFO:transformers.file_utils:TensorFlow version 2.6.0 available.\n"
          ],
          "name": "stderr"
        }
      ]
    },
    {
      "cell_type": "code",
      "metadata": {
        "id": "CPwpgLthZPZ1"
      },
      "source": [
        "def set_seed(seed):\n",
        "  random.seed(seed)\n",
        "  np.random.seed(seed)\n",
        "  torch.manual_seed(seed)\n",
        "  if torch.cuda.is_available():\n",
        "    torch.cuda.manual_seed_all(seed)\n",
        "\n",
        "set_seed(42)"
      ],
      "execution_count": 4,
      "outputs": []
    },
    {
      "cell_type": "code",
      "metadata": {
        "id": "mbxLyP7FZXCM"
      },
      "source": [
        "class T5FineTuner(pl.LightningModule):\n",
        "  def __init__(self, hparams):\n",
        "    super(T5FineTuner, self).__init__()\n",
        "    self.hparams = hparams\n",
        "    \n",
        "    self.model = T5ForConditionalGeneration.from_pretrained(hparams.model_name_or_path)\n",
        "    self.tokenizer = T5Tokenizer.from_pretrained(hparams.tokenizer_name_or_path)\n",
        "  \n",
        "  def is_logger(self):\n",
        "    return self.trainer.proc_rank <= 0\n",
        "  \n",
        "  def forward(\n",
        "      self, input_ids, attention_mask=None, decoder_input_ids=None, decoder_attention_mask=None, lm_labels=None\n",
        "  ):\n",
        "    return self.model(\n",
        "        input_ids,\n",
        "        attention_mask=attention_mask,\n",
        "        decoder_input_ids=decoder_input_ids,\n",
        "        decoder_attention_mask=decoder_attention_mask,\n",
        "        lm_labels=lm_labels,\n",
        "    )\n",
        "\n",
        "  def _step(self, batch):\n",
        "    lm_labels = batch[\"target_ids\"]\n",
        "    lm_labels[lm_labels[:, :] == self.tokenizer.pad_token_id] = -100\n",
        "\n",
        "    outputs = self(\n",
        "        input_ids=batch[\"source_ids\"],\n",
        "        attention_mask=batch[\"source_mask\"],\n",
        "        lm_labels=lm_labels,\n",
        "        decoder_attention_mask=batch['target_mask']\n",
        "    )\n",
        "\n",
        "    loss = outputs[0]\n",
        "\n",
        "    return loss\n",
        "\n",
        "  def training_step(self, batch, batch_idx):\n",
        "    loss = self._step(batch)\n",
        "\n",
        "    tensorboard_logs = {\"train_loss\": loss}\n",
        "    return {\"loss\": loss, \"log\": tensorboard_logs}\n",
        "  \n",
        "  def training_epoch_end(self, outputs):\n",
        "    avg_train_loss = torch.stack([x[\"loss\"] for x in outputs]).mean()\n",
        "    tensorboard_logs = {\"avg_train_loss\": avg_train_loss}\n",
        "    return {\"avg_train_loss\": avg_train_loss, \"log\": tensorboard_logs, 'progress_bar': tensorboard_logs}\n",
        "\n",
        "  def validation_step(self, batch, batch_idx):\n",
        "    loss = self._step(batch)\n",
        "    return {\"val_loss\": loss}\n",
        "  \n",
        "  def validation_epoch_end(self, outputs):\n",
        "    avg_loss = torch.stack([x[\"val_loss\"] for x in outputs]).mean()\n",
        "    tensorboard_logs = {\"val_loss\": avg_loss}\n",
        "    return {\"avg_val_loss\": avg_loss, \"log\": tensorboard_logs, 'progress_bar': tensorboard_logs}\n",
        "\n",
        "  def configure_optimizers(self):\n",
        "    \"Prepare optimizer and schedule (linear warmup and decay)\"\n",
        "\n",
        "    model = self.model\n",
        "    no_decay = [\"bias\", \"LayerNorm.weight\"]\n",
        "    optimizer_grouped_parameters = [\n",
        "        {\n",
        "            \"params\": [p for n, p in model.named_parameters() if not any(nd in n for nd in no_decay)],\n",
        "            \"weight_decay\": self.hparams.weight_decay,\n",
        "        },\n",
        "        {\n",
        "            \"params\": [p for n, p in model.named_parameters() if any(nd in n for nd in no_decay)],\n",
        "            \"weight_decay\": 0.0,\n",
        "        },\n",
        "    ]\n",
        "    optimizer = AdamW(optimizer_grouped_parameters, lr=self.hparams.learning_rate, eps=self.hparams.adam_epsilon)\n",
        "    self.opt = optimizer\n",
        "    return [optimizer]\n",
        "  \n",
        "  def optimizer_step(self, epoch, batch_idx, optimizer, optimizer_idx, second_order_closure=None):\n",
        "    if self.trainer.use_tpu:\n",
        "      xm.optimizer_step(optimizer)\n",
        "    else:\n",
        "      optimizer.step()\n",
        "    optimizer.zero_grad()\n",
        "    self.lr_scheduler.step()\n",
        "  \n",
        "  def get_tqdm_dict(self):\n",
        "    tqdm_dict = {\"loss\": \"{:.3f}\".format(self.trainer.avg_loss), \"lr\": self.lr_scheduler.get_last_lr()[-1]}\n",
        "\n",
        "    return tqdm_dict\n",
        "\n",
        "  def train_dataloader(self):\n",
        "    train_dataset = get_dataset(tokenizer=self.tokenizer, type_path=\"my_train\", args=self.hparams)\n",
        "    dataloader = DataLoader(train_dataset, batch_size=self.hparams.train_batch_size, drop_last=True, shuffle=True, num_workers=4)\n",
        "    t_total = (\n",
        "        (len(dataloader.dataset) // (self.hparams.train_batch_size * max(1, self.hparams.n_gpu)))\n",
        "        // self.hparams.gradient_accumulation_steps\n",
        "        * float(self.hparams.num_train_epochs)\n",
        "    )\n",
        "    scheduler = get_linear_schedule_with_warmup(\n",
        "        self.opt, num_warmup_steps=self.hparams.warmup_steps, num_training_steps=t_total\n",
        "    )\n",
        "    self.lr_scheduler = scheduler\n",
        "    return dataloader\n",
        "\n",
        "  def val_dataloader(self):\n",
        "    val_dataset = get_dataset(tokenizer=self.tokenizer, type_path=\"my_val\", args=self.hparams)\n",
        "    return DataLoader(val_dataset, batch_size=self.hparams.eval_batch_size, num_workers=4)"
      ],
      "execution_count": 5,
      "outputs": []
    },
    {
      "cell_type": "code",
      "metadata": {
        "id": "Xh7aHARRZmIA"
      },
      "source": [
        "logger = logging.getLogger(__name__)\n",
        "\n",
        "class LoggingCallback(pl.Callback):\n",
        "  def on_validation_end(self, trainer, pl_module):\n",
        "    logger.info(\"***** Validation results *****\")\n",
        "    if pl_module.is_logger():\n",
        "      metrics = trainer.callback_metrics\n",
        "      # Log results\n",
        "      for key in sorted(metrics):\n",
        "        if key not in [\"log\", \"progress_bar\"]:\n",
        "          logger.info(\"{} = {}\\n\".format(key, str(metrics[key])))\n",
        "\n",
        "  def on_test_end(self, trainer, pl_module):\n",
        "    logger.info(\"***** Test results *****\")\n",
        "\n",
        "    if pl_module.is_logger():\n",
        "      metrics = trainer.callback_metrics\n",
        "\n",
        "      # Log and save results to file\n",
        "      output_test_results_file = os.path.join(pl_module.hparams.output_dir, \"test_results.txt\")\n",
        "      with open(output_test_results_file, \"w\") as writer:\n",
        "        for key in sorted(metrics):\n",
        "          if key not in [\"log\", \"progress_bar\"]:\n",
        "            logger.info(\"{} = {}\\n\".format(key, str(metrics[key])))\n",
        "            writer.write(\"{} = {}\\n\".format(key, str(metrics[key])))"
      ],
      "execution_count": 6,
      "outputs": []
    },
    {
      "cell_type": "code",
      "metadata": {
        "colab": {
          "base_uri": "https://localhost:8080/"
        },
        "id": "n-qppTPUZxtk",
        "outputId": "54a4ec5a-a612-4f77-fb49-26425551b124"
      },
      "source": [
        "#Load the tokenizer for the T5-base model\n",
        "tokenizer = T5Tokenizer.from_pretrained('t5-base')"
      ],
      "execution_count": 7,
      "outputs": [
        {
          "output_type": "stream",
          "text": [
            "INFO:transformers.tokenization_utils:loading file https://s3.amazonaws.com/models.huggingface.co/bert/t5-spiece.model from cache at /root/.cache/torch/transformers/68f1b8dbca4350743bb54b8c4169fd38cbabaad564f85a9239337a8d0342af9f.9995af32582a1a7062cb3173c118cb7b4636fa03feb967340f20fc37406f021f\n"
          ],
          "name": "stderr"
        }
      ]
    },
    {
      "cell_type": "code",
      "metadata": {
        "colab": {
          "base_uri": "https://localhost:8080/"
        },
        "id": "pKOMYXEmPXsk",
        "outputId": "e89ac087-e84d-4ac1-cd48-3ef162389c6a"
      },
      "source": [
        "#Try out the tokenizer\n",
        "text = \"How are you feeling today?\"\n",
        "enc = tokenizer.encode_plus(text)\n",
        "print(enc)"
      ],
      "execution_count": 8,
      "outputs": [
        {
          "output_type": "stream",
          "text": [
            "{'input_ids': [571, 33, 25, 1829, 469, 58], 'token_type_ids': [0, 0, 0, 0, 0, 0], 'attention_mask': [1, 1, 1, 1, 1, 1]}\n"
          ],
          "name": "stdout"
        }
      ]
    },
    {
      "cell_type": "code",
      "metadata": {
        "colab": {
          "base_uri": "https://localhost:8080/"
        },
        "id": "HQ1prjCpm2nj",
        "outputId": "6706dd9f-cf46-44c0-c0c9-7ba34083b721"
      },
      "source": [
        "#See how the labels are encoded\n",
        "labels = [\"no\", \"weak\", \"strong\"]\n",
        "for lab in labels:\n",
        "  print(tokenizer.encode(lab))"
      ],
      "execution_count": 9,
      "outputs": [
        {
          "output_type": "stream",
          "text": [
            "[150]\n",
            "[5676]\n",
            "[1101]\n"
          ],
          "name": "stdout"
        }
      ]
    },
    {
      "cell_type": "code",
      "metadata": {
        "id": "F8yVebeaeaCC"
      },
      "source": [
        "class EmpathyDataset(Dataset):\n",
        "  def __init__(self, tokenizer, data_dir, type_path,  max_len=512):\n",
        "    self.path = os.path.join(data_dir, type_path + '.txt')\n",
        "\n",
        "    self.data_column = \"text\"\n",
        "    self.class_column = \"score\"\n",
        "    self.data = pd.read_csv(self.path, sep=\";\", header=None, names=[self.data_column, self.class_column],\n",
        "                            engine=\"python\")\n",
        "    \n",
        "    self.max_len = max_len\n",
        "    self.tokenizer = tokenizer\n",
        "    self.inputs = []\n",
        "    self.targets = []\n",
        "\n",
        "    self._build()\n",
        "  \n",
        "  def __len__(self):\n",
        "    return len(self.inputs)\n",
        "  \n",
        "  def __getitem__(self, index):\n",
        "    source_ids = self.inputs[index][\"input_ids\"].squeeze()\n",
        "    target_ids = self.targets[index][\"input_ids\"].squeeze()\n",
        "\n",
        "    src_mask    = self.inputs[index][\"attention_mask\"].squeeze()  # might need to squeeze\n",
        "    target_mask = self.targets[index][\"attention_mask\"].squeeze()  # might need to squeeze\n",
        "\n",
        "    return {\"source_ids\": source_ids, \"source_mask\": src_mask, \"target_ids\": target_ids, \"target_mask\": target_mask}\n",
        "  \n",
        "  def _build(self):\n",
        "    for idx in range(len(self.data)):\n",
        "      input_, target = self.data.loc[idx, self.data_column], self.data.loc[idx, self.class_column]      \n",
        "      \n",
        "      input_ = input_ + ' </s>'\n",
        "      target = str(target) + \" </s>\"\n",
        "\n",
        "       # tokenize inputs\n",
        "      tokenized_inputs = self.tokenizer.batch_encode_plus(\n",
        "          [input_], max_length=self.max_len, pad_to_max_length=True, return_tensors=\"pt\"\n",
        "      )\n",
        "       # tokenize targets\n",
        "      tokenized_targets = self.tokenizer.batch_encode_plus(\n",
        "          [target], max_length=2, pad_to_max_length=True, return_tensors=\"pt\"\n",
        "      )\n",
        "\n",
        "      self.inputs.append(tokenized_inputs)\n",
        "      self.targets.append(tokenized_targets)"
      ],
      "execution_count": 10,
      "outputs": []
    },
    {
      "cell_type": "markdown",
      "metadata": {
        "id": "sBGuYB6nJH4i"
      },
      "source": [
        "####finetune the model on the 1100 labelled samples from our dataset"
      ]
    },
    {
      "cell_type": "code",
      "metadata": {
        "id": "UVnPKESx5A4d"
      },
      "source": [
        "#recover the same dataset split as made in the baseline notebook\n",
        "train_path = \"drive/MyDrive/empathy_classifier_data/my_train.txt\"\n",
        "test_path = \"drive/MyDrive/empathy_classifier_data/my_test.txt\"\n",
        "val_path = \"drive/MyDrive/empathy_classifier_data/my_val.txt\""
      ],
      "execution_count": 11,
      "outputs": []
    },
    {
      "cell_type": "markdown",
      "metadata": {
        "id": "Yju-0IQnpC8R"
      },
      "source": [
        "###Train the T5 model"
      ]
    },
    {
      "cell_type": "code",
      "metadata": {
        "colab": {
          "base_uri": "https://localhost:8080/"
        },
        "id": "9TToMqHlo7bA",
        "outputId": "ea84caae-68b2-4d61-f56c-4c146bba053c"
      },
      "source": [
        "#load the tokenizer for this model\n",
        "tokenizer = T5Tokenizer.from_pretrained('t5-base')"
      ],
      "execution_count": 12,
      "outputs": [
        {
          "output_type": "stream",
          "text": [
            "INFO:transformers.tokenization_utils:loading file https://s3.amazonaws.com/models.huggingface.co/bert/t5-spiece.model from cache at /root/.cache/torch/transformers/68f1b8dbca4350743bb54b8c4169fd38cbabaad564f85a9239337a8d0342af9f.9995af32582a1a7062cb3173c118cb7b4636fa03feb967340f20fc37406f021f\n"
          ],
          "name": "stderr"
        }
      ]
    },
    {
      "cell_type": "code",
      "metadata": {
        "id": "JTs5-TrVsVyz"
      },
      "source": [
        "dataset = EmpathyDataset(tokenizer, 'drive/MyDrive/empathy_classifier_data/', 'my_val', 512)"
      ],
      "execution_count": 13,
      "outputs": []
    },
    {
      "cell_type": "code",
      "metadata": {
        "id": "n12PBnSzschr",
        "colab": {
          "base_uri": "https://localhost:8080/"
        },
        "outputId": "d07b877d-f3ca-4ed8-ab22-b032580fcb68"
      },
      "source": [
        "#show a sample\n",
        "data = dataset[42]\n",
        "print(tokenizer.decode(data['source_ids']))\n",
        "print(tokenizer.decode(data['target_ids']))"
      ],
      "execution_count": 14,
      "outputs": [
        {
          "output_type": "stream",
          "text": [
            "Sometimes people can be adversely affected when trying Protocol 6. Have you tried using Protocol 6 recently and found the experience distressing?\n",
            "weak\n"
          ],
          "name": "stdout"
        }
      ]
    },
    {
      "cell_type": "code",
      "metadata": {
        "id": "19txdH5cpqPa"
      },
      "source": [
        "#rubbish collection\n",
        "gc.collect()\n",
        "torch.cuda.empty_cache()"
      ],
      "execution_count": 15,
      "outputs": []
    },
    {
      "cell_type": "code",
      "metadata": {
        "id": "uAY8A7Jgo7_Z"
      },
      "source": [
        "args_dict = dict(\n",
        "    data_dir=\"\", # path for data files\n",
        "    output_dir=\"\", # path to save the checkpoints\n",
        "    model_name_or_path='t5-base',\n",
        "    tokenizer_name_or_path='t5-base',\n",
        "    max_seq_length=512,\n",
        "    learning_rate=1e-4,\n",
        "    weight_decay=0.0,\n",
        "    adam_epsilon=1e-8,\n",
        "    warmup_steps=0,\n",
        "    train_batch_size=8,\n",
        "    eval_batch_size=8,\n",
        "    num_train_epochs=16,\n",
        "    gradient_accumulation_steps=2, \n",
        "    n_gpu=1,\n",
        "    early_stop_callback=False,\n",
        "    fp_16=False, \n",
        "    opt_level='O1',\n",
        "    max_grad_norm=1.0,\n",
        "    seed=42,\n",
        ")"
      ],
      "execution_count": 16,
      "outputs": []
    },
    {
      "cell_type": "code",
      "metadata": {
        "id": "2jg1VUA5p0dT"
      },
      "source": [
        "args_dict.update({'data_dir': 'drive/MyDrive/empathy_classifier_data/', 'output_dir': 'drive/MyDrive/t5_empathy', 'num_train_epochs':16})\n",
        "args = argparse.Namespace(**args_dict)\n",
        "#print(args_dict)"
      ],
      "execution_count": null,
      "outputs": []
    },
    {
      "cell_type": "code",
      "metadata": {
        "id": "uWvn-NqKp3y0"
      },
      "source": [
        "checkpoint_callback = pl.callbacks.ModelCheckpoint(\n",
        "    filepath=args.output_dir, prefix=\"checkpoint\", monitor=\"val_loss\", mode=\"min\", save_top_k=5\n",
        ")\n",
        "\n",
        "train_params = dict(\n",
        "    accumulate_grad_batches=args.gradient_accumulation_steps,\n",
        "    gpus=args.n_gpu,\n",
        "    max_epochs=args.num_train_epochs,\n",
        "    early_stop_callback=False,\n",
        "    precision= 16 if args.fp_16 else 32,\n",
        "    amp_level=args.opt_level,\n",
        "    gradient_clip_val=args.max_grad_norm,\n",
        "    checkpoint_callback=checkpoint_callback,\n",
        "    callbacks=[LoggingCallback()],\n",
        ")"
      ],
      "execution_count": null,
      "outputs": []
    },
    {
      "cell_type": "code",
      "metadata": {
        "id": "UeNdS3WZp6p1"
      },
      "source": [
        "def get_dataset(tokenizer, type_path, args):\n",
        "  return EmpathyDataset(tokenizer=tokenizer, data_dir=args.data_dir, type_path=type_path,  max_len=args.max_seq_length)"
      ],
      "execution_count": 19,
      "outputs": []
    },
    {
      "cell_type": "code",
      "metadata": {
        "id": "p84WWt8Yp-wh"
      },
      "source": [
        "#create instance of model\n",
        "model = T5FineTuner(args)"
      ],
      "execution_count": null,
      "outputs": []
    },
    {
      "cell_type": "code",
      "metadata": {
        "id": "3nJ6uxC5qpPg",
        "colab": {
          "base_uri": "https://localhost:8080/"
        },
        "outputId": "18ae616c-113f-484f-a396-7249d0519c56"
      },
      "source": [
        "trainer = pl.Trainer(**train_params)"
      ],
      "execution_count": 21,
      "outputs": [
        {
          "output_type": "stream",
          "text": [
            "INFO:lightning:GPU available: True, used: True\n",
            "INFO:lightning:CUDA_VISIBLE_DEVICES: [0]\n"
          ],
          "name": "stderr"
        }
      ]
    },
    {
      "cell_type": "code",
      "metadata": {
        "id": "VMW0Pk_irCib"
      },
      "source": [
        "#train loop\n",
        "trainer.fit(model)"
      ],
      "execution_count": null,
      "outputs": []
    },
    {
      "cell_type": "code",
      "metadata": {
        "id": "xNVgz9zVaVBN",
        "outputId": "800bdd54-f434-4ac4-c3dd-b0f29f5a0ac7",
        "colab": {
          "base_uri": "https://localhost:8080/",
          "height": 35
        }
      },
      "source": [
        "#save model (uncomment to save)\n",
        "'''\n",
        "torch.save(model.state_dict(), 'drive/MyDrive/t5_empathy/T5empathy_chosen.pt')\n",
        "'''"
      ],
      "execution_count": 23,
      "outputs": [
        {
          "output_type": "execute_result",
          "data": {
            "application/vnd.google.colaboratory.intrinsic+json": {
              "type": "string"
            },
            "text/plain": [
              "\"\\ntorch.save(model.state_dict(), 'drive/MyDrive/t5_empathy/T5empathy_chosen.pt')\\n\""
            ]
          },
          "metadata": {},
          "execution_count": 23
        }
      ]
    },
    {
      "cell_type": "code",
      "metadata": {
        "id": "hi3oAUejVFo3"
      },
      "source": [
        "#load the model (uncomment to load)\n",
        "'''\n",
        "device = torch.device('cuda:0')\n",
        "model = T5FineTuner(args)\n",
        "model.load_state_dict(torch.load('drive/MyDrive/t5_empathy/T5empathy_chosen.pt'))\n",
        "model.to(device)\n",
        "'''"
      ],
      "execution_count": null,
      "outputs": []
    },
    {
      "cell_type": "markdown",
      "metadata": {
        "id": "ta-dCRdKo0jn"
      },
      "source": [
        "##Test set evaluation"
      ]
    },
    {
      "cell_type": "code",
      "metadata": {
        "id": "iXUfYg73r0vt"
      },
      "source": [
        "import textwrap\n",
        "from tqdm.auto import tqdm\n",
        "from sklearn import metrics"
      ],
      "execution_count": 38,
      "outputs": []
    },
    {
      "cell_type": "code",
      "metadata": {
        "id": "eOG7cSPVr4kK"
      },
      "source": [
        "dataset = EmpathyDataset(tokenizer, 'drive/MyDrive/empathy_classifier_data', 'my_test', 512)\n",
        "loader = DataLoader(dataset, batch_size=32, shuffle=True)"
      ],
      "execution_count": 39,
      "outputs": []
    },
    {
      "cell_type": "code",
      "metadata": {
        "id": "oXH2MFnCvGtJ"
      },
      "source": [
        "it = iter(loader)"
      ],
      "execution_count": 40,
      "outputs": []
    },
    {
      "cell_type": "code",
      "metadata": {
        "id": "b0LY4ua1vKHf",
        "colab": {
          "base_uri": "https://localhost:8080/"
        },
        "outputId": "2fcd0885-28c8-4f3a-dd37-fa1e5ae41b72"
      },
      "source": [
        "batch = next(it)\n",
        "batch[\"source_ids\"].shape"
      ],
      "execution_count": 41,
      "outputs": [
        {
          "output_type": "execute_result",
          "data": {
            "text/plain": [
              "torch.Size([32, 512])"
            ]
          },
          "metadata": {},
          "execution_count": 41
        }
      ]
    },
    {
      "cell_type": "code",
      "metadata": {
        "id": "8QCcyElfvTyZ"
      },
      "source": [
        "outs = model.model.generate(input_ids=batch['source_ids'].cuda(), \n",
        "                              attention_mask=batch['source_mask'].cuda(), \n",
        "                              max_length=2)\n",
        "\n",
        "dec = [tokenizer.decode(ids) for ids in outs]\n",
        "\n",
        "texts = [tokenizer.decode(ids) for ids in batch['source_ids']]\n",
        "targets = [tokenizer.decode(ids) for ids in batch['target_ids']]"
      ],
      "execution_count": 42,
      "outputs": []
    },
    {
      "cell_type": "code",
      "metadata": {
        "id": "cd86TUoavXLk",
        "colab": {
          "base_uri": "https://localhost:8080/"
        },
        "outputId": "e87d0722-382e-43e9-dc49-a841a29daa22"
      },
      "source": [
        "#print some predictions\n",
        "for i in range(32):\n",
        "    c = texts[i]\n",
        "    lines = textwrap.wrap(\"text:\\n%s\\n\" % c, width=100)\n",
        "    print(\"\\n\".join(lines))\n",
        "    print(\"\\nActual label: %s\" % targets[i])\n",
        "    print(\"predicted label: %s\" % dec[i])\n",
        "    print(\"=====================================================================\\n\")"
      ],
      "execution_count": 43,
      "outputs": [
        {
          "output_type": "stream",
          "text": [
            "text: That can sometimes happen, but there are more protocols here which might work better for you.\n",
            "Would you like to try another and see if it helps?\n",
            "\n",
            "Actual label: weak\n",
            "predicted label: strong\n",
            "=====================================================================\n",
            "\n",
            "text: I can see you're feeling anxious. Has something happened that has you feeling this way?\n",
            "\n",
            "Actual label: weak\n",
            "predicted label: weak\n",
            "=====================================================================\n",
            "\n",
            "text: In all honesty, do you think that you are always available to consider alternatives to your\n",
            "point of view?\n",
            "\n",
            "Actual label: weak\n",
            "predicted label: weak\n",
            "=====================================================================\n",
            "\n",
            "text: Please select the one which you think is best suited for you.\n",
            "\n",
            "Actual label: no\n",
            "predicted label: no\n",
            "=====================================================================\n",
            "\n",
            "text: Did this happen because of a recent or distant situation?\n",
            "\n",
            "Actual label: no\n",
            "predicted label: no\n",
            "=====================================================================\n",
            "\n",
            "text: Can you let me know if you were recently working on Protocol 11 and it brought back some bad\n",
            "feelings from the past?\n",
            "\n",
            "Actual label: weak\n",
            "predicted label: weak\n",
            "=====================================================================\n",
            "\n",
            "text: I'm sorry you're not feeling great. Has anything happened to make you feel this way?\n",
            "\n",
            "Actual label: strong\n",
            "predicted label: strong\n",
            "=====================================================================\n",
            "\n",
            "text: I see, I am sorry to hear that. Do you feel like a different protocol might help?\n",
            "\n",
            "Actual label: strong\n",
            "predicted label: strong\n",
            "=====================================================================\n",
            "\n",
            "text: Now you have tried this protocol and reached the end, do you feel better or worse about your\n",
            "situation?\n",
            "\n",
            "Actual label: weak\n",
            "predicted label: weak\n",
            "=====================================================================\n",
            "\n",
            "text: Thank you for sharing. I'd like to ask you some questions so I can understand a bit more.\n",
            "\n",
            "Actual label: weak\n",
            "predicted label: weak\n",
            "=====================================================================\n",
            "\n",
            "text: It is important to understand how long you have been dealing with this issue. May I ask if\n",
            "this was a recent or distant event?\n",
            "\n",
            "Actual label: strong\n",
            "predicted label: strong\n",
            "=====================================================================\n",
            "\n",
            "text: Did this event happen recently or is it something that has been on your mind for some time?\n",
            "\n",
            "Actual label: weak\n",
            "predicted label: weak\n",
            "=====================================================================\n",
            "\n",
            "text: Thank you again, that is helpful for me to understand. Could it be that you are trying to\n",
            "control or manipulate someone else into doing something that you want them to do?\n",
            "\n",
            "Actual label: strong\n",
            "predicted label: strong\n",
            "=====================================================================\n",
            "\n",
            "text: I have some recommendations for you. Please take a look and choose any protocol that you'd\n",
            "like to try.\n",
            "\n",
            "Actual label: no\n",
            "predicted label: weak\n",
            "=====================================================================\n",
            "\n",
            "text: Ah, I see. Is this something that's happened recently or a while ago?\n",
            "\n",
            "Actual label: weak\n",
            "predicted label: weak\n",
            "=====================================================================\n",
            "\n",
            "text: Have a read through the protocol, please take your time and go at your own pace, there's no\n",
            "rush. When you have completed it, press 'continue'.\n",
            "\n",
            "Actual label: strong\n",
            "predicted label: strong\n",
            "=====================================================================\n",
            "\n",
            "text: Not every protocol works for everyone, and that's okay, I would recommend not giving up and\n",
            "trying again. Would you like to attempt another one together?\n",
            "\n",
            "Actual label: strong\n",
            "predicted label: strong\n",
            "=====================================================================\n",
            "\n",
            "text: Thanks, I appreciate your cooperation. See you again soon!\n",
            "\n",
            "Actual label: strong\n",
            "predicted label: weak\n",
            "=====================================================================\n",
            "\n",
            "text: Do you feel like someone needs your help?\n",
            "\n",
            "Actual label: no\n",
            "predicted label: no\n",
            "=====================================================================\n",
            "\n",
            "text: Do you think that sometimes you encourage people to behave the way you think they should?\n",
            "\n",
            "Actual label: weak\n",
            "predicted label: weak\n",
            "=====================================================================\n",
            "\n",
            "text: Do you feel that your current emotion may have been caused by a specific event or events?\n",
            "\n",
            "Actual label: weak\n",
            "predicted label: weak\n",
            "=====================================================================\n",
            "\n",
            "text: Do you find yourself always taking the blame when things go wrong?\n",
            "\n",
            "Actual label: no\n",
            "predicted label: no\n",
            "=====================================================================\n",
            "\n",
            "text: Thank you for sharing. I believe that you are  ⁇, am I correct in saying that?\n",
            "\n",
            "Actual label: strong\n",
            "predicted label: weak\n",
            "=====================================================================\n",
            "\n",
            "text: Welcome back! How are you feeling after having taken the protocol?\n",
            "\n",
            "Actual label: strong\n",
            "predicted label: weak\n",
            "=====================================================================\n",
            "\n",
            "text: I'm sorry about that. Was this caused by a specific event/s?\n",
            "\n",
            "Actual label: weak\n",
            "predicted label: weak\n",
            "=====================================================================\n",
            "\n",
            "text: Is there anything going on in your personal life that could be upsetting, have you fallen out\n",
            "with anyone close to you?\n",
            "\n",
            "Actual label: weak\n",
            "predicted label: weak\n",
            "=====================================================================\n",
            "\n",
            "text: I'm really pleased we managed to have this time together, I hope it helped you. You can come\n",
            "back whenever you feel like talking some more.\n",
            "\n",
            "Actual label: strong\n",
            "predicted label: strong\n",
            "=====================================================================\n",
            "\n",
            "text: Have you already tried thinking over that again by doing Protocol 6, and if so how was that,\n",
            "did it reignite uncomfortable emotions?\n",
            "\n",
            "Actual label: no\n",
            "predicted label: weak\n",
            "=====================================================================\n",
            "\n",
            "text: Do you think you might have, or desire, the power to influence someone else?\n",
            "\n",
            "Actual label: no\n",
            "predicted label: weak\n",
            "=====================================================================\n",
            "\n",
            "text: From what you've told me, it sounds like you're feeling  ⁇, is this right?\n",
            "\n",
            "Actual label: weak\n",
            "predicted label: weak\n",
            "=====================================================================\n",
            "\n",
            "text: Thank you for your answers so far. May I ask if you feel that you are undergoing a personal\n",
            "crisis right now, or if you are experiencing unmanageable interpersonal difficulties with those\n",
            "around you?\n",
            "\n",
            "Actual label: strong\n",
            "predicted label: strong\n",
            "=====================================================================\n",
            "\n",
            "text: Do you feel like you have let someone down?\n",
            "\n",
            "Actual label: no\n",
            "predicted label: no\n",
            "=====================================================================\n",
            "\n"
          ],
          "name": "stdout"
        }
      ]
    },
    {
      "cell_type": "code",
      "metadata": {
        "id": "_Jci7f3gKOD3",
        "colab": {
          "base_uri": "https://localhost:8080/",
          "height": 49,
          "referenced_widgets": [
            "a61a3d7a40244c48b24506c8b0353e4d",
            "022ef1b015264680ac3e93ccf0aca781",
            "e94b6f05135345f480fc0fe47c9dd2eb",
            "28f6a7d24a5c4f519f17ae9667823eff",
            "2ec2ed1266d34c62a7b794fc2e0fff41",
            "35c9b02354824d708b11d2f06f6fc638",
            "a5c4c0e3098a482da64ea408bed0558d",
            "df4dc20563914559966157ad45c92b00",
            "f40fb6fbac5f4ec49b3e4d982e3eb0e3",
            "3ccbfb2c9c394ac6b7f1ef7c2e231aeb",
            "75925700245f4e6988b416fb81f205f8"
          ]
        },
        "outputId": "075bc1ee-37fd-41ed-d924-e3b7452358c3"
      },
      "source": [
        "dataset = EmpathyDataset(tokenizer, 'drive/MyDrive/empathy_classifier_data/', 'my_test', 512)\n",
        "loader = DataLoader(dataset, batch_size=32, num_workers=4)\n",
        "model.model.eval()\n",
        "outputs = []\n",
        "targets = []\n",
        "for batch in tqdm(loader):\n",
        "  outs = model.model.generate(input_ids=batch['source_ids'].cuda(), \n",
        "                              attention_mask=batch['source_mask'].cuda(), \n",
        "                              max_length=2)\n",
        "\n",
        "  dec = [tokenizer.decode(ids) for ids in outs]\n",
        "  target = [tokenizer.decode(ids) for ids in batch[\"target_ids\"]]\n",
        "  \n",
        "  outputs.extend(dec)\n",
        "  targets.extend(target)"
      ],
      "execution_count": 44,
      "outputs": [
        {
          "output_type": "display_data",
          "data": {
            "application/vnd.jupyter.widget-view+json": {
              "model_id": "a61a3d7a40244c48b24506c8b0353e4d",
              "version_minor": 0,
              "version_major": 2
            },
            "text/plain": [
              "  0%|          | 0/4 [00:00<?, ?it/s]"
            ]
          },
          "metadata": {}
        }
      ]
    },
    {
      "cell_type": "code",
      "metadata": {
        "id": "WfsmFcc6MSPR"
      },
      "source": [
        "for i, out in enumerate(outputs):\n",
        "  if out not in labels:\n",
        "    print(i, 'detected invalid prediction')\n",
        "    del outputs[i]\n",
        "    del targets[i]"
      ],
      "execution_count": 45,
      "outputs": []
    },
    {
      "cell_type": "code",
      "metadata": {
        "id": "vZEBunOJMWfO",
        "colab": {
          "base_uri": "https://localhost:8080/"
        },
        "outputId": "8fe83c3d-be85-4d1d-fcbe-bd7f5d361076"
      },
      "source": [
        "#other metrics\n",
        "print(metrics.classification_report(targets, outputs, digits=4))"
      ],
      "execution_count": 46,
      "outputs": [
        {
          "output_type": "stream",
          "text": [
            "              precision    recall  f1-score   support\n",
            "\n",
            "          no     0.8889    0.7742    0.8276        31\n",
            "      strong     0.8649    0.8205    0.8421        39\n",
            "        weak     0.7021    0.8049    0.7500        41\n",
            "\n",
            "    accuracy                         0.8018       111\n",
            "   macro avg     0.8186    0.7999    0.8066       111\n",
            "weighted avg     0.8115    0.8018    0.8040       111\n",
            "\n"
          ],
          "name": "stdout"
        }
      ]
    },
    {
      "cell_type": "markdown",
      "metadata": {
        "id": "Jv8yPUAbCkVe"
      },
      "source": [
        "####Confusion matrix"
      ]
    },
    {
      "cell_type": "code",
      "metadata": {
        "id": "z8-_OJESMZt6"
      },
      "source": [
        "import seaborn as sn\n",
        "import pandas as pd\n",
        "import matplotlib.pyplot as plt"
      ],
      "execution_count": 47,
      "outputs": []
    },
    {
      "cell_type": "code",
      "metadata": {
        "id": "c7zGD1brMc5S"
      },
      "source": [
        "cm = metrics.confusion_matrix(targets, outputs)"
      ],
      "execution_count": 48,
      "outputs": []
    },
    {
      "cell_type": "code",
      "metadata": {
        "id": "3OhYybzfDuhk",
        "colab": {
          "base_uri": "https://localhost:8080/",
          "height": 445
        },
        "outputId": "d6fdd223-0d75-4fd3-c1e7-adc74c5bac2e"
      },
      "source": [
        "df_cm = pd.DataFrame(cm, index = [\"no\", \"strong\", \"weak\"], columns = [\"no\", \"strong\", \"weak\"])\n",
        "plt.figure(figsize = (10,7))\n",
        "sn.heatmap(df_cm, annot=True, cmap='Greens', fmt='g')"
      ],
      "execution_count": 49,
      "outputs": [
        {
          "output_type": "execute_result",
          "data": {
            "text/plain": [
              "<matplotlib.axes._subplots.AxesSubplot at 0x7f0d10238150>"
            ]
          },
          "metadata": {},
          "execution_count": 49
        },
        {
          "output_type": "display_data",
          "data": {
            "image/png": "[encoded data removed]",
            "text/plain": [
              "<Figure size 720x504 with 2 Axes>"
            ]
          },
          "metadata": {
            "needs_background": "light"
          }
        }
      ]
    }
  ]
}