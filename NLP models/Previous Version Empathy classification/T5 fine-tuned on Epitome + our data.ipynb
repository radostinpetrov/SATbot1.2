{
  "nbformat": 4,
  "nbformat_minor": 0,
  "metadata": {
    "colab": {
      "name": "Empathy Classifier (finetuned on two datasets, no prep)",
      "provenance": [],
      "collapsed_sections": [],
      "machine_shape": "hm"
    },
    "kernelspec": {
      "name": "python3",
      "display_name": "Python 3"
    },
    "language_info": {
      "name": "python"
    },
    "accelerator": "GPU",
    "widgets": {
      "application/vnd.jupyter.widget-state+json": {
        "9307e135fc1b423ca37d8cc612bb2316": {
          "model_module": "@jupyter-widgets/controls",
          "model_name": "HBoxModel",
          "model_module_version": "1.5.0",
          "state": {
            "_view_name": "HBoxView",
            "_dom_classes": [],
            "_model_name": "HBoxModel",
            "_view_module": "@jupyter-widgets/controls",
            "_model_module_version": "1.5.0",
            "_view_count": null,
            "_view_module_version": "1.5.0",
            "box_style": "",
            "layout": "IPY_MODEL_3c4a116042c345d1bf8c77c6479364b2",
            "_model_module": "@jupyter-widgets/controls",
            "children": [
              "IPY_MODEL_c1b64b45461444219a0e5ed396923a04",
              "IPY_MODEL_b5d8783eaa6740c0839ba25f0af20599",
              "IPY_MODEL_33b81878bbe84c5ea4ec1f19ce7bed20"
            ]
          }
        },
        "3c4a116042c345d1bf8c77c6479364b2": {
          "model_module": "@jupyter-widgets/base",
          "model_name": "LayoutModel",
          "model_module_version": "1.2.0",
          "state": {
            "_view_name": "LayoutView",
            "grid_template_rows": null,
            "right": null,
            "justify_content": null,
            "_view_module": "@jupyter-widgets/base",
            "overflow": null,
            "_model_module_version": "1.2.0",
            "_view_count": null,
            "flex_flow": null,
            "width": null,
            "min_width": null,
            "border": null,
            "align_items": null,
            "bottom": null,
            "_model_module": "@jupyter-widgets/base",
            "top": null,
            "grid_column": null,
            "overflow_y": null,
            "overflow_x": null,
            "grid_auto_flow": null,
            "grid_area": null,
            "grid_template_columns": null,
            "flex": null,
            "_model_name": "LayoutModel",
            "justify_items": null,
            "grid_row": null,
            "max_height": null,
            "align_content": null,
            "visibility": null,
            "align_self": null,
            "height": null,
            "min_height": null,
            "padding": null,
            "grid_auto_rows": null,
            "grid_gap": null,
            "max_width": null,
            "order": null,
            "_view_module_version": "1.2.0",
            "grid_template_areas": null,
            "object_position": null,
            "object_fit": null,
            "grid_auto_columns": null,
            "margin": null,
            "display": null,
            "left": null
          }
        },
        "c1b64b45461444219a0e5ed396923a04": {
          "model_module": "@jupyter-widgets/controls",
          "model_name": "HTMLModel",
          "model_module_version": "1.5.0",
          "state": {
            "_view_name": "HTMLView",
            "style": "IPY_MODEL_c86ac10baa8f4f22bd56fd4514cd2152",
            "_dom_classes": [],
            "description": "",
            "_model_name": "HTMLModel",
            "placeholder": "​",
            "_view_module": "@jupyter-widgets/controls",
            "_model_module_version": "1.5.0",
            "value": "Downloading: 100%",
            "_view_count": null,
            "_view_module_version": "1.5.0",
            "description_tooltip": null,
            "_model_module": "@jupyter-widgets/controls",
            "layout": "IPY_MODEL_d85d8a9f9b264f999eb739e066e5e85d"
          }
        },
        "b5d8783eaa6740c0839ba25f0af20599": {
          "model_module": "@jupyter-widgets/controls",
          "model_name": "FloatProgressModel",
          "model_module_version": "1.5.0",
          "state": {
            "_view_name": "ProgressView",
            "style": "IPY_MODEL_8fc9e24308664408814f301c1744bd8e",
            "_dom_classes": [],
            "description": "",
            "_model_name": "FloatProgressModel",
            "bar_style": "success",
            "max": 791656,
            "_view_module": "@jupyter-widgets/controls",
            "_model_module_version": "1.5.0",
            "value": 791656,
            "_view_count": null,
            "_view_module_version": "1.5.0",
            "orientation": "horizontal",
            "min": 0,
            "description_tooltip": null,
            "_model_module": "@jupyter-widgets/controls",
            "layout": "IPY_MODEL_888decd2503341e99559706a7f3317c0"
          }
        },
        "33b81878bbe84c5ea4ec1f19ce7bed20": {
          "model_module": "@jupyter-widgets/controls",
          "model_name": "HTMLModel",
          "model_module_version": "1.5.0",
          "state": {
            "_view_name": "HTMLView",
            "style": "IPY_MODEL_98aa8cc5712b4e7da0a77473bdcb6b08",
            "_dom_classes": [],
            "description": "",
            "_model_name": "HTMLModel",
            "placeholder": "​",
            "_view_module": "@jupyter-widgets/controls",
            "_model_module_version": "1.5.0",
            "value": " 792k/792k [00:00&lt;00:00, 685kB/s]",
            "_view_count": null,
            "_view_module_version": "1.5.0",
            "description_tooltip": null,
            "_model_module": "@jupyter-widgets/controls",
            "layout": "IPY_MODEL_cb893752a80042b7873dec58457e3618"
          }
        },
        "c86ac10baa8f4f22bd56fd4514cd2152": {
          "model_module": "@jupyter-widgets/controls",
          "model_name": "DescriptionStyleModel",
          "model_module_version": "1.5.0",
          "state": {
            "_view_name": "StyleView",
            "_model_name": "DescriptionStyleModel",
            "description_width": "",
            "_view_module": "@jupyter-widgets/base",
            "_model_module_version": "1.5.0",
            "_view_count": null,
            "_view_module_version": "1.2.0",
            "_model_module": "@jupyter-widgets/controls"
          }
        },
        "d85d8a9f9b264f999eb739e066e5e85d": {
          "model_module": "@jupyter-widgets/base",
          "model_name": "LayoutModel",
          "model_module_version": "1.2.0",
          "state": {
            "_view_name": "LayoutView",
            "grid_template_rows": null,
            "right": null,
            "justify_content": null,
            "_view_module": "@jupyter-widgets/base",
            "overflow": null,
            "_model_module_version": "1.2.0",
            "_view_count": null,
            "flex_flow": null,
            "width": null,
            "min_width": null,
            "border": null,
            "align_items": null,
            "bottom": null,
            "_model_module": "@jupyter-widgets/base",
            "top": null,
            "grid_column": null,
            "overflow_y": null,
            "overflow_x": null,
            "grid_auto_flow": null,
            "grid_area": null,
            "grid_template_columns": null,
            "flex": null,
            "_model_name": "LayoutModel",
            "justify_items": null,
            "grid_row": null,
            "max_height": null,
            "align_content": null,
            "visibility": null,
            "align_self": null,
            "height": null,
            "min_height": null,
            "padding": null,
            "grid_auto_rows": null,
            "grid_gap": null,
            "max_width": null,
            "order": null,
            "_view_module_version": "1.2.0",
            "grid_template_areas": null,
            "object_position": null,
            "object_fit": null,
            "grid_auto_columns": null,
            "margin": null,
            "display": null,
            "left": null
          }
        },
        "8fc9e24308664408814f301c1744bd8e": {
          "model_module": "@jupyter-widgets/controls",
          "model_name": "ProgressStyleModel",
          "model_module_version": "1.5.0",
          "state": {
            "_view_name": "StyleView",
            "_model_name": "ProgressStyleModel",
            "description_width": "",
            "_view_module": "@jupyter-widgets/base",
            "_model_module_version": "1.5.0",
            "_view_count": null,
            "_view_module_version": "1.2.0",
            "bar_color": null,
            "_model_module": "@jupyter-widgets/controls"
          }
        },
        "888decd2503341e99559706a7f3317c0": {
          "model_module": "@jupyter-widgets/base",
          "model_name": "LayoutModel",
          "model_module_version": "1.2.0",
          "state": {
            "_view_name": "LayoutView",
            "grid_template_rows": null,
            "right": null,
            "justify_content": null,
            "_view_module": "@jupyter-widgets/base",
            "overflow": null,
            "_model_module_version": "1.2.0",
            "_view_count": null,
            "flex_flow": null,
            "width": null,
            "min_width": null,
            "border": null,
            "align_items": null,
            "bottom": null,
            "_model_module": "@jupyter-widgets/base",
            "top": null,
            "grid_column": null,
            "overflow_y": null,
            "overflow_x": null,
            "grid_auto_flow": null,
            "grid_area": null,
            "grid_template_columns": null,
            "flex": null,
            "_model_name": "LayoutModel",
            "justify_items": null,
            "grid_row": null,
            "max_height": null,
            "align_content": null,
            "visibility": null,
            "align_self": null,
            "height": null,
            "min_height": null,
            "padding": null,
            "grid_auto_rows": null,
            "grid_gap": null,
            "max_width": null,
            "order": null,
            "_view_module_version": "1.2.0",
            "grid_template_areas": null,
            "object_position": null,
            "object_fit": null,
            "grid_auto_columns": null,
            "margin": null,
            "display": null,
            "left": null
          }
        },
        "98aa8cc5712b4e7da0a77473bdcb6b08": {
          "model_module": "@jupyter-widgets/controls",
          "model_name": "DescriptionStyleModel",
          "model_module_version": "1.5.0",
          "state": {
            "_view_name": "StyleView",
            "_model_name": "DescriptionStyleModel",
            "description_width": "",
            "_view_module": "@jupyter-widgets/base",
            "_model_module_version": "1.5.0",
            "_view_count": null,
            "_view_module_version": "1.2.0",
            "_model_module": "@jupyter-widgets/controls"
          }
        },
        "cb893752a80042b7873dec58457e3618": {
          "model_module": "@jupyter-widgets/base",
          "model_name": "LayoutModel",
          "model_module_version": "1.2.0",
          "state": {
            "_view_name": "LayoutView",
            "grid_template_rows": null,
            "right": null,
            "justify_content": null,
            "_view_module": "@jupyter-widgets/base",
            "overflow": null,
            "_model_module_version": "1.2.0",
            "_view_count": null,
            "flex_flow": null,
            "width": null,
            "min_width": null,
            "border": null,
            "align_items": null,
            "bottom": null,
            "_model_module": "@jupyter-widgets/base",
            "top": null,
            "grid_column": null,
            "overflow_y": null,
            "overflow_x": null,
            "grid_auto_flow": null,
            "grid_area": null,
            "grid_template_columns": null,
            "flex": null,
            "_model_name": "LayoutModel",
            "justify_items": null,
            "grid_row": null,
            "max_height": null,
            "align_content": null,
            "visibility": null,
            "align_self": null,
            "height": null,
            "min_height": null,
            "padding": null,
            "grid_auto_rows": null,
            "grid_gap": null,
            "max_width": null,
            "order": null,
            "_view_module_version": "1.2.0",
            "grid_template_areas": null,
            "object_position": null,
            "object_fit": null,
            "grid_auto_columns": null,
            "margin": null,
            "display": null,
            "left": null
          }
        },
        "579f11cac4e349269570fd6f60e9ccbc": {
          "model_module": "@jupyter-widgets/controls",
          "model_name": "HBoxModel",
          "model_module_version": "1.5.0",
          "state": {
            "_view_name": "HBoxView",
            "_dom_classes": [],
            "_model_name": "HBoxModel",
            "_view_module": "@jupyter-widgets/controls",
            "_model_module_version": "1.5.0",
            "_view_count": null,
            "_view_module_version": "1.5.0",
            "box_style": "",
            "layout": "IPY_MODEL_bd531853b03948c7b91c22f6ea55b101",
            "_model_module": "@jupyter-widgets/controls",
            "children": [
              "IPY_MODEL_8492a2cd1b504191b2cc651fe4dd0ec4",
              "IPY_MODEL_244faeb4437d47d195afece9d5750c9e",
              "IPY_MODEL_a5201d577a74485ba090072de2fa1470"
            ]
          }
        },
        "bd531853b03948c7b91c22f6ea55b101": {
          "model_module": "@jupyter-widgets/base",
          "model_name": "LayoutModel",
          "model_module_version": "1.2.0",
          "state": {
            "_view_name": "LayoutView",
            "grid_template_rows": null,
            "right": null,
            "justify_content": null,
            "_view_module": "@jupyter-widgets/base",
            "overflow": null,
            "_model_module_version": "1.2.0",
            "_view_count": null,
            "flex_flow": null,
            "width": null,
            "min_width": null,
            "border": null,
            "align_items": null,
            "bottom": null,
            "_model_module": "@jupyter-widgets/base",
            "top": null,
            "grid_column": null,
            "overflow_y": null,
            "overflow_x": null,
            "grid_auto_flow": null,
            "grid_area": null,
            "grid_template_columns": null,
            "flex": null,
            "_model_name": "LayoutModel",
            "justify_items": null,
            "grid_row": null,
            "max_height": null,
            "align_content": null,
            "visibility": null,
            "align_self": null,
            "height": null,
            "min_height": null,
            "padding": null,
            "grid_auto_rows": null,
            "grid_gap": null,
            "max_width": null,
            "order": null,
            "_view_module_version": "1.2.0",
            "grid_template_areas": null,
            "object_position": null,
            "object_fit": null,
            "grid_auto_columns": null,
            "margin": null,
            "display": null,
            "left": null
          }
        },
        "8492a2cd1b504191b2cc651fe4dd0ec4": {
          "model_module": "@jupyter-widgets/controls",
          "model_name": "HTMLModel",
          "model_module_version": "1.5.0",
          "state": {
            "_view_name": "HTMLView",
            "style": "IPY_MODEL_965d5c3d01d24a6e8bed4f883d810314",
            "_dom_classes": [],
            "description": "",
            "_model_name": "HTMLModel",
            "placeholder": "​",
            "_view_module": "@jupyter-widgets/controls",
            "_model_module_version": "1.5.0",
            "value": "100%",
            "_view_count": null,
            "_view_module_version": "1.5.0",
            "description_tooltip": null,
            "_model_module": "@jupyter-widgets/controls",
            "layout": "IPY_MODEL_8bfac53b354743c8be580e502988fa37"
          }
        },
        "244faeb4437d47d195afece9d5750c9e": {
          "model_module": "@jupyter-widgets/controls",
          "model_name": "FloatProgressModel",
          "model_module_version": "1.5.0",
          "state": {
            "_view_name": "ProgressView",
            "style": "IPY_MODEL_ca4c1e9ebe6443d8ab522149ca7fe251",
            "_dom_classes": [],
            "description": "",
            "_model_name": "FloatProgressModel",
            "bar_style": "success",
            "max": 20,
            "_view_module": "@jupyter-widgets/controls",
            "_model_module_version": "1.5.0",
            "value": 20,
            "_view_count": null,
            "_view_module_version": "1.5.0",
            "orientation": "horizontal",
            "min": 0,
            "description_tooltip": null,
            "_model_module": "@jupyter-widgets/controls",
            "layout": "IPY_MODEL_eb9c6c22101a4007a6cf1ce18a133321"
          }
        },
        "a5201d577a74485ba090072de2fa1470": {
          "model_module": "@jupyter-widgets/controls",
          "model_name": "HTMLModel",
          "model_module_version": "1.5.0",
          "state": {
            "_view_name": "HTMLView",
            "style": "IPY_MODEL_0b4bfa95c7264a038a5472785ab4c477",
            "_dom_classes": [],
            "description": "",
            "_model_name": "HTMLModel",
            "placeholder": "​",
            "_view_module": "@jupyter-widgets/controls",
            "_model_module_version": "1.5.0",
            "value": " 20/20 [00:13&lt;00:00,  1.93it/s]",
            "_view_count": null,
            "_view_module_version": "1.5.0",
            "description_tooltip": null,
            "_model_module": "@jupyter-widgets/controls",
            "layout": "IPY_MODEL_30dec44cd664495c8540ae79c98d1637"
          }
        },
        "965d5c3d01d24a6e8bed4f883d810314": {
          "model_module": "@jupyter-widgets/controls",
          "model_name": "DescriptionStyleModel",
          "model_module_version": "1.5.0",
          "state": {
            "_view_name": "StyleView",
            "_model_name": "DescriptionStyleModel",
            "description_width": "",
            "_view_module": "@jupyter-widgets/base",
            "_model_module_version": "1.5.0",
            "_view_count": null,
            "_view_module_version": "1.2.0",
            "_model_module": "@jupyter-widgets/controls"
          }
        },
        "8bfac53b354743c8be580e502988fa37": {
          "model_module": "@jupyter-widgets/base",
          "model_name": "LayoutModel",
          "model_module_version": "1.2.0",
          "state": {
            "_view_name": "LayoutView",
            "grid_template_rows": null,
            "right": null,
            "justify_content": null,
            "_view_module": "@jupyter-widgets/base",
            "overflow": null,
            "_model_module_version": "1.2.0",
            "_view_count": null,
            "flex_flow": null,
            "width": null,
            "min_width": null,
            "border": null,
            "align_items": null,
            "bottom": null,
            "_model_module": "@jupyter-widgets/base",
            "top": null,
            "grid_column": null,
            "overflow_y": null,
            "overflow_x": null,
            "grid_auto_flow": null,
            "grid_area": null,
            "grid_template_columns": null,
            "flex": null,
            "_model_name": "LayoutModel",
            "justify_items": null,
            "grid_row": null,
            "max_height": null,
            "align_content": null,
            "visibility": null,
            "align_self": null,
            "height": null,
            "min_height": null,
            "padding": null,
            "grid_auto_rows": null,
            "grid_gap": null,
            "max_width": null,
            "order": null,
            "_view_module_version": "1.2.0",
            "grid_template_areas": null,
            "object_position": null,
            "object_fit": null,
            "grid_auto_columns": null,
            "margin": null,
            "display": null,
            "left": null
          }
        },
        "ca4c1e9ebe6443d8ab522149ca7fe251": {
          "model_module": "@jupyter-widgets/controls",
          "model_name": "ProgressStyleModel",
          "model_module_version": "1.5.0",
          "state": {
            "_view_name": "StyleView",
            "_model_name": "ProgressStyleModel",
            "description_width": "",
            "_view_module": "@jupyter-widgets/base",
            "_model_module_version": "1.5.0",
            "_view_count": null,
            "_view_module_version": "1.2.0",
            "bar_color": null,
            "_model_module": "@jupyter-widgets/controls"
          }
        },
        "eb9c6c22101a4007a6cf1ce18a133321": {
          "model_module": "@jupyter-widgets/base",
          "model_name": "LayoutModel",
          "model_module_version": "1.2.0",
          "state": {
            "_view_name": "LayoutView",
            "grid_template_rows": null,
            "right": null,
            "justify_content": null,
            "_view_module": "@jupyter-widgets/base",
            "overflow": null,
            "_model_module_version": "1.2.0",
            "_view_count": null,
            "flex_flow": null,
            "width": null,
            "min_width": null,
            "border": null,
            "align_items": null,
            "bottom": null,
            "_model_module": "@jupyter-widgets/base",
            "top": null,
            "grid_column": null,
            "overflow_y": null,
            "overflow_x": null,
            "grid_auto_flow": null,
            "grid_area": null,
            "grid_template_columns": null,
            "flex": null,
            "_model_name": "LayoutModel",
            "justify_items": null,
            "grid_row": null,
            "max_height": null,
            "align_content": null,
            "visibility": null,
            "align_self": null,
            "height": null,
            "min_height": null,
            "padding": null,
            "grid_auto_rows": null,
            "grid_gap": null,
            "max_width": null,
            "order": null,
            "_view_module_version": "1.2.0",
            "grid_template_areas": null,
            "object_position": null,
            "object_fit": null,
            "grid_auto_columns": null,
            "margin": null,
            "display": null,
            "left": null
          }
        },
        "0b4bfa95c7264a038a5472785ab4c477": {
          "model_module": "@jupyter-widgets/controls",
          "model_name": "DescriptionStyleModel",
          "model_module_version": "1.5.0",
          "state": {
            "_view_name": "StyleView",
            "_model_name": "DescriptionStyleModel",
            "description_width": "",
            "_view_module": "@jupyter-widgets/base",
            "_model_module_version": "1.5.0",
            "_view_count": null,
            "_view_module_version": "1.2.0",
            "_model_module": "@jupyter-widgets/controls"
          }
        },
        "30dec44cd664495c8540ae79c98d1637": {
          "model_module": "@jupyter-widgets/base",
          "model_name": "LayoutModel",
          "model_module_version": "1.2.0",
          "state": {
            "_view_name": "LayoutView",
            "grid_template_rows": null,
            "right": null,
            "justify_content": null,
            "_view_module": "@jupyter-widgets/base",
            "overflow": null,
            "_model_module_version": "1.2.0",
            "_view_count": null,
            "flex_flow": null,
            "width": null,
            "min_width": null,
            "border": null,
            "align_items": null,
            "bottom": null,
            "_model_module": "@jupyter-widgets/base",
            "top": null,
            "grid_column": null,
            "overflow_y": null,
            "overflow_x": null,
            "grid_auto_flow": null,
            "grid_area": null,
            "grid_template_columns": null,
            "flex": null,
            "_model_name": "LayoutModel",
            "justify_items": null,
            "grid_row": null,
            "max_height": null,
            "align_content": null,
            "visibility": null,
            "align_self": null,
            "height": null,
            "min_height": null,
            "padding": null,
            "grid_auto_rows": null,
            "grid_gap": null,
            "max_width": null,
            "order": null,
            "_view_module_version": "1.2.0",
            "grid_template_areas": null,
            "object_position": null,
            "object_fit": null,
            "grid_auto_columns": null,
            "margin": null,
            "display": null,
            "left": null
          }
        },
        "14f72fc626bf4d78b044355bb2bbe3b2": {
          "model_module": "@jupyter-widgets/controls",
          "model_name": "HBoxModel",
          "model_module_version": "1.5.0",
          "state": {
            "_view_name": "HBoxView",
            "_dom_classes": [],
            "_model_name": "HBoxModel",
            "_view_module": "@jupyter-widgets/controls",
            "_model_module_version": "1.5.0",
            "_view_count": null,
            "_view_module_version": "1.5.0",
            "box_style": "",
            "layout": "IPY_MODEL_47862fe38ce24ea2a0d6e7a638ebbee5",
            "_model_module": "@jupyter-widgets/controls",
            "children": [
              "IPY_MODEL_f4001f18cce542deae5f97917446da5f",
              "IPY_MODEL_4f54c2efb7714fadaa7e552fe6d548cb",
              "IPY_MODEL_090acf10b0ce4920a717ba2f4f508df7"
            ]
          }
        },
        "47862fe38ce24ea2a0d6e7a638ebbee5": {
          "model_module": "@jupyter-widgets/base",
          "model_name": "LayoutModel",
          "model_module_version": "1.2.0",
          "state": {
            "_view_name": "LayoutView",
            "grid_template_rows": null,
            "right": null,
            "justify_content": null,
            "_view_module": "@jupyter-widgets/base",
            "overflow": null,
            "_model_module_version": "1.2.0",
            "_view_count": null,
            "flex_flow": null,
            "width": null,
            "min_width": null,
            "border": null,
            "align_items": null,
            "bottom": null,
            "_model_module": "@jupyter-widgets/base",
            "top": null,
            "grid_column": null,
            "overflow_y": null,
            "overflow_x": null,
            "grid_auto_flow": null,
            "grid_area": null,
            "grid_template_columns": null,
            "flex": null,
            "_model_name": "LayoutModel",
            "justify_items": null,
            "grid_row": null,
            "max_height": null,
            "align_content": null,
            "visibility": null,
            "align_self": null,
            "height": null,
            "min_height": null,
            "padding": null,
            "grid_auto_rows": null,
            "grid_gap": null,
            "max_width": null,
            "order": null,
            "_view_module_version": "1.2.0",
            "grid_template_areas": null,
            "object_position": null,
            "object_fit": null,
            "grid_auto_columns": null,
            "margin": null,
            "display": null,
            "left": null
          }
        },
        "f4001f18cce542deae5f97917446da5f": {
          "model_module": "@jupyter-widgets/controls",
          "model_name": "HTMLModel",
          "model_module_version": "1.5.0",
          "state": {
            "_view_name": "HTMLView",
            "style": "IPY_MODEL_93d723d5bc324ab2a99fd38533e27421",
            "_dom_classes": [],
            "description": "",
            "_model_name": "HTMLModel",
            "placeholder": "​",
            "_view_module": "@jupyter-widgets/controls",
            "_model_module_version": "1.5.0",
            "value": "100%",
            "_view_count": null,
            "_view_module_version": "1.5.0",
            "description_tooltip": null,
            "_model_module": "@jupyter-widgets/controls",
            "layout": "IPY_MODEL_7fd2c06f03fd4757965c646f4a6f621e"
          }
        },
        "4f54c2efb7714fadaa7e552fe6d548cb": {
          "model_module": "@jupyter-widgets/controls",
          "model_name": "FloatProgressModel",
          "model_module_version": "1.5.0",
          "state": {
            "_view_name": "ProgressView",
            "style": "IPY_MODEL_23aa7eaad33147c7860c34d96149c2d9",
            "_dom_classes": [],
            "description": "",
            "_model_name": "FloatProgressModel",
            "bar_style": "success",
            "max": 4,
            "_view_module": "@jupyter-widgets/controls",
            "_model_module_version": "1.5.0",
            "value": 4,
            "_view_count": null,
            "_view_module_version": "1.5.0",
            "orientation": "horizontal",
            "min": 0,
            "description_tooltip": null,
            "_model_module": "@jupyter-widgets/controls",
            "layout": "IPY_MODEL_705f67b282d74043aa8a42412b47737f"
          }
        },
        "090acf10b0ce4920a717ba2f4f508df7": {
          "model_module": "@jupyter-widgets/controls",
          "model_name": "HTMLModel",
          "model_module_version": "1.5.0",
          "state": {
            "_view_name": "HTMLView",
            "style": "IPY_MODEL_3cbff28bef1141718605b5ec89c13b2a",
            "_dom_classes": [],
            "description": "",
            "_model_name": "HTMLModel",
            "placeholder": "​",
            "_view_module": "@jupyter-widgets/controls",
            "_model_module_version": "1.5.0",
            "value": " 4/4 [00:02&lt;00:00,  1.70it/s]",
            "_view_count": null,
            "_view_module_version": "1.5.0",
            "description_tooltip": null,
            "_model_module": "@jupyter-widgets/controls",
            "layout": "IPY_MODEL_cc982795beda4ec3bb22c1a5cad841dd"
          }
        },
        "93d723d5bc324ab2a99fd38533e27421": {
          "model_module": "@jupyter-widgets/controls",
          "model_name": "DescriptionStyleModel",
          "model_module_version": "1.5.0",
          "state": {
            "_view_name": "StyleView",
            "_model_name": "DescriptionStyleModel",
            "description_width": "",
            "_view_module": "@jupyter-widgets/base",
            "_model_module_version": "1.5.0",
            "_view_count": null,
            "_view_module_version": "1.2.0",
            "_model_module": "@jupyter-widgets/controls"
          }
        },
        "7fd2c06f03fd4757965c646f4a6f621e": {
          "model_module": "@jupyter-widgets/base",
          "model_name": "LayoutModel",
          "model_module_version": "1.2.0",
          "state": {
            "_view_name": "LayoutView",
            "grid_template_rows": null,
            "right": null,
            "justify_content": null,
            "_view_module": "@jupyter-widgets/base",
            "overflow": null,
            "_model_module_version": "1.2.0",
            "_view_count": null,
            "flex_flow": null,
            "width": null,
            "min_width": null,
            "border": null,
            "align_items": null,
            "bottom": null,
            "_model_module": "@jupyter-widgets/base",
            "top": null,
            "grid_column": null,
            "overflow_y": null,
            "overflow_x": null,
            "grid_auto_flow": null,
            "grid_area": null,
            "grid_template_columns": null,
            "flex": null,
            "_model_name": "LayoutModel",
            "justify_items": null,
            "grid_row": null,
            "max_height": null,
            "align_content": null,
            "visibility": null,
            "align_self": null,
            "height": null,
            "min_height": null,
            "padding": null,
            "grid_auto_rows": null,
            "grid_gap": null,
            "max_width": null,
            "order": null,
            "_view_module_version": "1.2.0",
            "grid_template_areas": null,
            "object_position": null,
            "object_fit": null,
            "grid_auto_columns": null,
            "margin": null,
            "display": null,
            "left": null
          }
        },
        "23aa7eaad33147c7860c34d96149c2d9": {
          "model_module": "@jupyter-widgets/controls",
          "model_name": "ProgressStyleModel",
          "model_module_version": "1.5.0",
          "state": {
            "_view_name": "StyleView",
            "_model_name": "ProgressStyleModel",
            "description_width": "",
            "_view_module": "@jupyter-widgets/base",
            "_model_module_version": "1.5.0",
            "_view_count": null,
            "_view_module_version": "1.2.0",
            "bar_color": null,
            "_model_module": "@jupyter-widgets/controls"
          }
        },
        "705f67b282d74043aa8a42412b47737f": {
          "model_module": "@jupyter-widgets/base",
          "model_name": "LayoutModel",
          "model_module_version": "1.2.0",
          "state": {
            "_view_name": "LayoutView",
            "grid_template_rows": null,
            "right": null,
            "justify_content": null,
            "_view_module": "@jupyter-widgets/base",
            "overflow": null,
            "_model_module_version": "1.2.0",
            "_view_count": null,
            "flex_flow": null,
            "width": null,
            "min_width": null,
            "border": null,
            "align_items": null,
            "bottom": null,
            "_model_module": "@jupyter-widgets/base",
            "top": null,
            "grid_column": null,
            "overflow_y": null,
            "overflow_x": null,
            "grid_auto_flow": null,
            "grid_area": null,
            "grid_template_columns": null,
            "flex": null,
            "_model_name": "LayoutModel",
            "justify_items": null,
            "grid_row": null,
            "max_height": null,
            "align_content": null,
            "visibility": null,
            "align_self": null,
            "height": null,
            "min_height": null,
            "padding": null,
            "grid_auto_rows": null,
            "grid_gap": null,
            "max_width": null,
            "order": null,
            "_view_module_version": "1.2.0",
            "grid_template_areas": null,
            "object_position": null,
            "object_fit": null,
            "grid_auto_columns": null,
            "margin": null,
            "display": null,
            "left": null
          }
        },
        "3cbff28bef1141718605b5ec89c13b2a": {
          "model_module": "@jupyter-widgets/controls",
          "model_name": "DescriptionStyleModel",
          "model_module_version": "1.5.0",
          "state": {
            "_view_name": "StyleView",
            "_model_name": "DescriptionStyleModel",
            "description_width": "",
            "_view_module": "@jupyter-widgets/base",
            "_model_module_version": "1.5.0",
            "_view_count": null,
            "_view_module_version": "1.2.0",
            "_model_module": "@jupyter-widgets/controls"
          }
        },
        "cc982795beda4ec3bb22c1a5cad841dd": {
          "model_module": "@jupyter-widgets/base",
          "model_name": "LayoutModel",
          "model_module_version": "1.2.0",
          "state": {
            "_view_name": "LayoutView",
            "grid_template_rows": null,
            "right": null,
            "justify_content": null,
            "_view_module": "@jupyter-widgets/base",
            "overflow": null,
            "_model_module_version": "1.2.0",
            "_view_count": null,
            "flex_flow": null,
            "width": null,
            "min_width": null,
            "border": null,
            "align_items": null,
            "bottom": null,
            "_model_module": "@jupyter-widgets/base",
            "top": null,
            "grid_column": null,
            "overflow_y": null,
            "overflow_x": null,
            "grid_auto_flow": null,
            "grid_area": null,
            "grid_template_columns": null,
            "flex": null,
            "_model_name": "LayoutModel",
            "justify_items": null,
            "grid_row": null,
            "max_height": null,
            "align_content": null,
            "visibility": null,
            "align_self": null,
            "height": null,
            "min_height": null,
            "padding": null,
            "grid_auto_rows": null,
            "grid_gap": null,
            "max_width": null,
            "order": null,
            "_view_module_version": "1.2.0",
            "grid_template_areas": null,
            "object_position": null,
            "object_fit": null,
            "grid_auto_columns": null,
            "margin": null,
            "display": null,
            "left": null
          }
        }
      }
    }
  },
  "cells": [
    {
      "cell_type": "code",
      "metadata": {
        "colab": {
          "base_uri": "https://localhost:8080/"
        },
        "id": "vQVPHaNWjREG",
        "outputId": "fd4a5d4b-fe98-4c04-cd89-4e6cfa8ecacc"
      },
      "source": [
        "from google.colab import drive\n",
        "drive.mount('/content/drive')"
      ],
      "execution_count": null,
      "outputs": [
        {
          "output_type": "stream",
          "text": [
            "Mounted at /content/drive\n"
          ],
          "name": "stdout"
        }
      ]
    },
    {
      "cell_type": "markdown",
      "metadata": {
        "id": "Reja57cil-eU"
      },
      "source": [
        "##Dataset, data analysis and manipulation\n"
      ]
    },
    {
      "cell_type": "code",
      "metadata": {
        "id": "BqHTYIsETI9V"
      },
      "source": [
        "import pandas as pd\n",
        "import numpy as np\n",
        "import matplotlib.pyplot as plt"
      ],
      "execution_count": null,
      "outputs": []
    },
    {
      "cell_type": "markdown",
      "metadata": {
        "id": "4VjS1gMfnsWV"
      },
      "source": [
        "###EPITOME 'emotional reactions'"
      ]
    },
    {
      "cell_type": "code",
      "metadata": {
        "id": "kjlT62lSHC2e"
      },
      "source": [
        "#The dataset used for the first finetuning step in this notebook was authored by Sharma et al. Full citation below.\n",
        "_CITATION = \"\"\"\\\n",
        "@inproceedings{sharma2020empathy,\n",
        "    title={A Computational Approach to Understanding Empathy Expressed in Text-Based Mental Health Support},\n",
        "    author={Sharma, Ashish and Miner, Adam S and Atkins, David C and Althoff, Tim},\n",
        "    year={2020},\n",
        "    booktitle={EMNLP}}\n",
        "\"\"\""
      ],
      "execution_count": null,
      "outputs": []
    },
    {
      "cell_type": "code",
      "metadata": {
        "id": "n_ncNST3TYpW"
      },
      "source": [
        "#First, we want to finetune the model on the EPITOME dataset (Sharma et al., 2020). This dataset contains\n",
        "#mental-health-related response posts from Reddit scored from 0 to 2 for three different types of empathy.\n",
        "#Here we only use the 'emotional reactions' type, as it is the only type that does not rely heavily on \n",
        "#the context, and the most similar to the responses in our own dataset\n",
        "\n",
        "data = pd.read_csv('drive/MyDrive/emotional-reactions-reddit.csv') #put data in Drive root folder or change path"
      ],
      "execution_count": null,
      "outputs": []
    },
    {
      "cell_type": "code",
      "metadata": {
        "id": "FeQXvlRsm8m1"
      },
      "source": [
        "#We will not make use of other context (e.g. seeker_post) to classify the response posts, since we do not\n",
        "#have that kind of context in our dataset. So we can drop the unnecessary columns \n",
        "data.drop(['sp_id', 'rp_id', 'seeker_post', 'rationales'], axis=1, inplace=True)\n",
        "\n",
        "#and replace integers values with more meaningful string-type labels\n",
        "data = data.replace({0: 'no', 1: 'weak', 2: 'strong'})\n",
        "\n",
        "#empathy labels\n",
        "label2int = {\n",
        "  \"no\": 0,\n",
        "  \"weak\": 1,\n",
        "  \"strong\": 2\n",
        "}"
      ],
      "execution_count": null,
      "outputs": []
    },
    {
      "cell_type": "code",
      "metadata": {
        "colab": {
          "base_uri": "https://localhost:8080/"
        },
        "id": "cuuuCmHqnpON",
        "outputId": "97eed7e6-ec0e-4775-98b4-53e16d5e5421"
      },
      "source": [
        "#This dataset has 3084 samples\n",
        "len(data)"
      ],
      "execution_count": null,
      "outputs": [
        {
          "output_type": "execute_result",
          "data": {
            "text/plain": [
              "3084"
            ]
          },
          "metadata": {},
          "execution_count": 9
        }
      ]
    },
    {
      "cell_type": "code",
      "metadata": {
        "colab": {
          "base_uri": "https://localhost:8080/",
          "height": 173
        },
        "id": "A7KOxmIjoG9n",
        "outputId": "84f242e7-a4b3-465b-ac04-ea6ea07494b2"
      },
      "source": [
        "#but the labels are far from balanced. The large majority of response_posts has no empathy\n",
        "data.groupby('level').count()"
      ],
      "execution_count": null,
      "outputs": [
        {
          "output_type": "execute_result",
          "data": {
            "text/html": [
              "<div>\n",
              "<style scoped>\n",
              "    .dataframe tbody tr th:only-of-type {\n",
              "        vertical-align: middle;\n",
              "    }\n",
              "\n",
              "    .dataframe tbody tr th {\n",
              "        vertical-align: top;\n",
              "    }\n",
              "\n",
              "    .dataframe thead th {\n",
              "        text-align: right;\n",
              "    }\n",
              "</style>\n",
              "<table border=\"1\" class=\"dataframe\">\n",
              "  <thead>\n",
              "    <tr style=\"text-align: right;\">\n",
              "      <th></th>\n",
              "      <th>response_post</th>\n",
              "    </tr>\n",
              "    <tr>\n",
              "      <th>level</th>\n",
              "      <th></th>\n",
              "    </tr>\n",
              "  </thead>\n",
              "  <tbody>\n",
              "    <tr>\n",
              "      <th>no</th>\n",
              "      <td>2037</td>\n",
              "    </tr>\n",
              "    <tr>\n",
              "      <th>strong</th>\n",
              "      <td>152</td>\n",
              "    </tr>\n",
              "    <tr>\n",
              "      <th>weak</th>\n",
              "      <td>895</td>\n",
              "    </tr>\n",
              "  </tbody>\n",
              "</table>\n",
              "</div>"
            ],
            "text/plain": [
              "        response_post\n",
              "level                \n",
              "no               2037\n",
              "strong            152\n",
              "weak              895"
            ]
          },
          "metadata": {},
          "execution_count": 10
        }
      ]
    },
    {
      "cell_type": "code",
      "metadata": {
        "id": "uZB8YvQkoX5G"
      },
      "source": [
        "#We rebalance the classes. first we downsample the 'no' class and upsample the others\n",
        "df_majority  = data[data.level=='no']\n",
        "df_minority1 = data[data.level=='strong']\n",
        "df_minority2 = data[data.level=='weak']\n",
        "\n",
        "#downsample majority class and upsample minority classes\n",
        "df_majority = df_majority.sample(int(len(data)/3), random_state=0)\n",
        "df_minority1 = df_minority1.sample(int(len(data)/3), random_state=0, replace=True)\n",
        "df_minority2 = df_minority2.sample(int(len(data)/3), random_state=0, replace=True)\n",
        "\n",
        "#concat the majority and minority dataframes\n",
        "df_new = pd.concat([df_majority, df_minority1, df_minority2])\n",
        "\n",
        "#shuffle the dataset\n",
        "data = df_new.sample(frac=1, random_state=0).reset_index(drop=True)"
      ],
      "execution_count": null,
      "outputs": []
    },
    {
      "cell_type": "code",
      "metadata": {
        "id": "yjsveKHmpu6B"
      },
      "source": [
        "#We generate the text files for your train, val, and test datasets. We use the same split\n",
        "#as Sharma et al. to better compare results. That is 75:5:20 for train, val, test.\n",
        "\n",
        "from sklearn.model_selection import train_test_split\n",
        "\n",
        "#Uncomment line below to create directory in Drive to run the rest of the code\n",
        "#!mkdir 'drive/MyDrive/empathy_classifier_data'\n",
        "\n",
        "train_path = \"drive/MyDrive/empathy_classifier_data/train.txt\"\n",
        "test_path = \"drive/MyDrive/empathy_classifier_data/test.txt\"\n",
        "val_path = \"drive/MyDrive/empathy_classifier_data/val.txt\"\n",
        "\n",
        "#Creating training and validation sets using an 75-25 split\n",
        "input_train, input_val, target_train, target_val = train_test_split(data.response_post.to_numpy(), \n",
        "                                                                    data.level.to_numpy(), \n",
        "                                                                    test_size=0.25)\n",
        "\n",
        "#Split the validataion further to obtain a holdout dataset - split 20:80\n",
        "input_val, input_test, target_val, target_test = train_test_split(input_val, target_val, test_size=0.8)\n",
        "\n",
        "#Create a dataframe for each dataset\n",
        "train_dataset = pd.DataFrame(data={\"text\": input_train, \"class\": target_train})\n",
        "val_dataset = pd.DataFrame(data={\"text\": input_val, \"class\": target_val})\n",
        "test_dataset = pd.DataFrame(data={\"text\": input_test, \"class\": target_test})\n",
        "final_dataset = {\"train\": train_dataset, \"val\": val_dataset , \"test\": test_dataset }\n",
        "\n",
        "#Write dataframes to file\n",
        "train_dataset.to_csv(train_path, sep=\";\",header=False, index=False)\n",
        "val_dataset.to_csv(val_path, sep=\";\",header=False, index=False)\n",
        "test_dataset.to_csv(test_path, sep=\";\",header=False, index=False)"
      ],
      "execution_count": null,
      "outputs": []
    },
    {
      "cell_type": "markdown",
      "metadata": {
        "id": "mjDa8nHNYTQN"
      },
      "source": [
        "#Finetune a pretrained T5 transformer for the empathy classification task"
      ]
    },
    {
      "cell_type": "code",
      "metadata": {
        "id": "_4nE5R3iYSZ6"
      },
      "source": [
        "%%capture\n",
        "!pip install transformers==2.9.0 \n",
        "!pip install pytorch_lightning==0.7.5\n",
        "!pip install sentencepiece"
      ],
      "execution_count": null,
      "outputs": []
    },
    {
      "cell_type": "code",
      "metadata": {
        "colab": {
          "base_uri": "https://localhost:8080/"
        },
        "id": "mwPxLDUiYk2V",
        "outputId": "1ed2e56c-7ee4-4cb4-c13d-02774ed96134"
      },
      "source": [
        "import argparse\n",
        "import glob\n",
        "import os\n",
        "import json\n",
        "import time\n",
        "import logging\n",
        "import random\n",
        "import re\n",
        "from itertools import chain\n",
        "from string import punctuation\n",
        "\n",
        "import nltk\n",
        "nltk.download('punkt')\n",
        "from nltk.tokenize import sent_tokenize\n",
        "\n",
        "import pandas as pd\n",
        "import numpy as np\n",
        "import torch\n",
        "from torch.utils.data import Dataset, DataLoader\n",
        "import pytorch_lightning as pl\n",
        "\n",
        "import gc\n",
        "\n",
        "from transformers import (\n",
        "    AdamW,\n",
        "    T5ForConditionalGeneration,\n",
        "    T5Tokenizer,\n",
        "    get_linear_schedule_with_warmup\n",
        ")"
      ],
      "execution_count": null,
      "outputs": [
        {
          "output_type": "stream",
          "text": [
            "[nltk_data] Downloading package punkt to /root/nltk_data...\n",
            "[nltk_data]   Package punkt is already up-to-date!\n"
          ],
          "name": "stdout"
        }
      ]
    },
    {
      "cell_type": "code",
      "metadata": {
        "id": "CPwpgLthZPZ1"
      },
      "source": [
        "def set_seed(seed):\n",
        "  random.seed(seed)\n",
        "  np.random.seed(seed)\n",
        "  torch.manual_seed(seed)\n",
        "  if torch.cuda.is_available():\n",
        "    torch.cuda.manual_seed_all(seed)\n",
        "\n",
        "set_seed(42)"
      ],
      "execution_count": null,
      "outputs": []
    },
    {
      "cell_type": "code",
      "metadata": {
        "id": "mbxLyP7FZXCM"
      },
      "source": [
        "class T5FineTuner(pl.LightningModule):\n",
        "  def __init__(self, hparams):\n",
        "    super(T5FineTuner, self).__init__()\n",
        "    self.hparams = hparams\n",
        "    \n",
        "    self.model = T5ForConditionalGeneration.from_pretrained(hparams.model_name_or_path)\n",
        "    self.tokenizer = T5Tokenizer.from_pretrained(hparams.tokenizer_name_or_path)\n",
        "  \n",
        "  def is_logger(self):\n",
        "    return self.trainer.proc_rank <= 0\n",
        "  \n",
        "  def forward(\n",
        "      self, input_ids, attention_mask=None, decoder_input_ids=None, decoder_attention_mask=None, lm_labels=None\n",
        "  ):\n",
        "    return self.model(\n",
        "        input_ids,\n",
        "        attention_mask=attention_mask,\n",
        "        decoder_input_ids=decoder_input_ids,\n",
        "        decoder_attention_mask=decoder_attention_mask,\n",
        "        lm_labels=lm_labels,\n",
        "    )\n",
        "\n",
        "  def _step(self, batch):\n",
        "    lm_labels = batch[\"target_ids\"]\n",
        "    lm_labels[lm_labels[:, :] == self.tokenizer.pad_token_id] = -100\n",
        "\n",
        "    outputs = self(\n",
        "        input_ids=batch[\"source_ids\"],\n",
        "        attention_mask=batch[\"source_mask\"],\n",
        "        lm_labels=lm_labels,\n",
        "        decoder_attention_mask=batch['target_mask']\n",
        "    )\n",
        "\n",
        "    loss = outputs[0]\n",
        "\n",
        "    return loss\n",
        "\n",
        "  def training_step(self, batch, batch_idx):\n",
        "    loss = self._step(batch)\n",
        "\n",
        "    tensorboard_logs = {\"train_loss\": loss}\n",
        "    return {\"loss\": loss, \"log\": tensorboard_logs}\n",
        "  \n",
        "  def training_epoch_end(self, outputs):\n",
        "    avg_train_loss = torch.stack([x[\"loss\"] for x in outputs]).mean()\n",
        "    tensorboard_logs = {\"avg_train_loss\": avg_train_loss}\n",
        "    return {\"avg_train_loss\": avg_train_loss, \"log\": tensorboard_logs, 'progress_bar': tensorboard_logs}\n",
        "\n",
        "  def validation_step(self, batch, batch_idx):\n",
        "    loss = self._step(batch)\n",
        "    return {\"val_loss\": loss}\n",
        "  \n",
        "  def validation_epoch_end(self, outputs):\n",
        "    avg_loss = torch.stack([x[\"val_loss\"] for x in outputs]).mean()\n",
        "    tensorboard_logs = {\"val_loss\": avg_loss}\n",
        "    return {\"avg_val_loss\": avg_loss, \"log\": tensorboard_logs, 'progress_bar': tensorboard_logs}\n",
        "\n",
        "  def configure_optimizers(self):\n",
        "    \"Prepare optimizer and schedule (linear warmup and decay)\"\n",
        "\n",
        "    model = self.model\n",
        "    no_decay = [\"bias\", \"LayerNorm.weight\"]\n",
        "    optimizer_grouped_parameters = [\n",
        "        {\n",
        "            \"params\": [p for n, p in model.named_parameters() if not any(nd in n for nd in no_decay)],\n",
        "            \"weight_decay\": self.hparams.weight_decay,\n",
        "        },\n",
        "        {\n",
        "            \"params\": [p for n, p in model.named_parameters() if any(nd in n for nd in no_decay)],\n",
        "            \"weight_decay\": 0.0,\n",
        "        },\n",
        "    ]\n",
        "    optimizer = AdamW(optimizer_grouped_parameters, lr=self.hparams.learning_rate, eps=self.hparams.adam_epsilon)\n",
        "    self.opt = optimizer\n",
        "    return [optimizer]\n",
        "  \n",
        "  def optimizer_step(self, epoch, batch_idx, optimizer, optimizer_idx, second_order_closure=None):\n",
        "    if self.trainer.use_tpu:\n",
        "      xm.optimizer_step(optimizer)\n",
        "    else:\n",
        "      optimizer.step()\n",
        "    optimizer.zero_grad()\n",
        "    self.lr_scheduler.step()\n",
        "  \n",
        "  def get_tqdm_dict(self):\n",
        "    tqdm_dict = {\"loss\": \"{:.3f}\".format(self.trainer.avg_loss), \"lr\": self.lr_scheduler.get_last_lr()[-1]}\n",
        "\n",
        "    return tqdm_dict\n",
        "\n",
        "  def train_dataloader(self):\n",
        "    train_dataset = get_dataset(tokenizer=self.tokenizer, type_path=\"train\", args=self.hparams)\n",
        "    dataloader = DataLoader(train_dataset, batch_size=self.hparams.train_batch_size, drop_last=True, shuffle=True, num_workers=4)\n",
        "    t_total = (\n",
        "        (len(dataloader.dataset) // (self.hparams.train_batch_size * max(1, self.hparams.n_gpu)))\n",
        "        // self.hparams.gradient_accumulation_steps\n",
        "        * float(self.hparams.num_train_epochs)\n",
        "    )\n",
        "    scheduler = get_linear_schedule_with_warmup(\n",
        "        self.opt, num_warmup_steps=self.hparams.warmup_steps, num_training_steps=t_total\n",
        "    )\n",
        "    self.lr_scheduler = scheduler\n",
        "    return dataloader\n",
        "\n",
        "  def val_dataloader(self):\n",
        "    val_dataset = get_dataset(tokenizer=self.tokenizer, type_path=\"val\", args=self.hparams)\n",
        "    return DataLoader(val_dataset, batch_size=self.hparams.eval_batch_size, num_workers=4)"
      ],
      "execution_count": null,
      "outputs": []
    },
    {
      "cell_type": "code",
      "metadata": {
        "id": "Xh7aHARRZmIA"
      },
      "source": [
        "logger = logging.getLogger(__name__)\n",
        "\n",
        "class LoggingCallback(pl.Callback):\n",
        "  def on_validation_end(self, trainer, pl_module):\n",
        "    logger.info(\"***** Validation results *****\")\n",
        "    if pl_module.is_logger():\n",
        "      metrics = trainer.callback_metrics\n",
        "      # Log results\n",
        "      for key in sorted(metrics):\n",
        "        if key not in [\"log\", \"progress_bar\"]:\n",
        "          logger.info(\"{} = {}\\n\".format(key, str(metrics[key])))\n",
        "\n",
        "  def on_test_end(self, trainer, pl_module):\n",
        "    logger.info(\"***** Test results *****\")\n",
        "\n",
        "    if pl_module.is_logger():\n",
        "      metrics = trainer.callback_metrics\n",
        "\n",
        "      # Log and save results to file\n",
        "      output_test_results_file = os.path.join(pl_module.hparams.output_dir, \"test_results.txt\")\n",
        "      with open(output_test_results_file, \"w\") as writer:\n",
        "        for key in sorted(metrics):\n",
        "          if key not in [\"log\", \"progress_bar\"]:\n",
        "            logger.info(\"{} = {}\\n\".format(key, str(metrics[key])))\n",
        "            writer.write(\"{} = {}\\n\".format(key, str(metrics[key])))"
      ],
      "execution_count": null,
      "outputs": []
    },
    {
      "cell_type": "code",
      "metadata": {
        "id": "xRC724TtZq6O"
      },
      "source": [
        "args_dict = dict(\n",
        "    data_dir=\"\", #path for data files\n",
        "    output_dir=\"\", #path to save the checkpoints\n",
        "    model_name_or_path='t5-base',\n",
        "    tokenizer_name_or_path='t5-base',\n",
        "    max_seq_length=512,\n",
        "    learning_rate=1e-3,\n",
        "    weight_decay=0.0,\n",
        "    adam_epsilon=1e-3, \n",
        "    warmup_steps=0,\n",
        "    train_batch_size=8,\n",
        "    eval_batch_size=8,\n",
        "    num_train_epochs=6,\n",
        "    gradient_accumulation_steps=2,\n",
        "    n_gpu=1,\n",
        "    early_stop_callback=False,\n",
        "    fp_16=False, \n",
        "    opt_level='O1', \n",
        "    max_grad_norm=1.0, \n",
        "    seed=42,\n",
        ")"
      ],
      "execution_count": null,
      "outputs": []
    },
    {
      "cell_type": "code",
      "metadata": {
        "colab": {
          "base_uri": "https://localhost:8080/",
          "height": 171,
          "referenced_widgets": [
            "9307e135fc1b423ca37d8cc612bb2316",
            "3c4a116042c345d1bf8c77c6479364b2",
            "c1b64b45461444219a0e5ed396923a04",
            "b5d8783eaa6740c0839ba25f0af20599",
            "33b81878bbe84c5ea4ec1f19ce7bed20",
            "c86ac10baa8f4f22bd56fd4514cd2152",
            "d85d8a9f9b264f999eb739e066e5e85d",
            "8fc9e24308664408814f301c1744bd8e",
            "888decd2503341e99559706a7f3317c0",
            "98aa8cc5712b4e7da0a77473bdcb6b08",
            "cb893752a80042b7873dec58457e3618"
          ]
        },
        "id": "n-qppTPUZxtk",
        "outputId": "544baf94-d955-45b1-c955-be49df2d8d64"
      },
      "source": [
        "#Load the tokenizer for the T5-base model\n",
        "tokenizer = T5Tokenizer.from_pretrained('t5-base')"
      ],
      "execution_count": null,
      "outputs": [
        {
          "output_type": "stream",
          "text": [
            "INFO:filelock:Lock 139676564243472 acquired on /root/.cache/torch/transformers/68f1b8dbca4350743bb54b8c4169fd38cbabaad564f85a9239337a8d0342af9f.9995af32582a1a7062cb3173c118cb7b4636fa03feb967340f20fc37406f021f.lock\n",
            "INFO:transformers.file_utils:https://s3.amazonaws.com/models.huggingface.co/bert/t5-spiece.model not found in cache or force_download set to True, downloading to /root/.cache/torch/transformers/tmpe3r3801j\n"
          ],
          "name": "stderr"
        },
        {
          "output_type": "display_data",
          "data": {
            "application/vnd.jupyter.widget-view+json": {
              "model_id": "9307e135fc1b423ca37d8cc612bb2316",
              "version_minor": 0,
              "version_major": 2
            },
            "text/plain": [
              "Downloading:   0%|          | 0.00/792k [00:00<?, ?B/s]"
            ]
          },
          "metadata": {}
        },
        {
          "output_type": "stream",
          "text": [
            "INFO:transformers.file_utils:storing https://s3.amazonaws.com/models.huggingface.co/bert/t5-spiece.model in cache at /root/.cache/torch/transformers/68f1b8dbca4350743bb54b8c4169fd38cbabaad564f85a9239337a8d0342af9f.9995af32582a1a7062cb3173c118cb7b4636fa03feb967340f20fc37406f021f\n",
            "INFO:transformers.file_utils:creating metadata file for /root/.cache/torch/transformers/68f1b8dbca4350743bb54b8c4169fd38cbabaad564f85a9239337a8d0342af9f.9995af32582a1a7062cb3173c118cb7b4636fa03feb967340f20fc37406f021f\n",
            "INFO:filelock:Lock 139676564243472 released on /root/.cache/torch/transformers/68f1b8dbca4350743bb54b8c4169fd38cbabaad564f85a9239337a8d0342af9f.9995af32582a1a7062cb3173c118cb7b4636fa03feb967340f20fc37406f021f.lock\n",
            "INFO:transformers.tokenization_utils:loading file https://s3.amazonaws.com/models.huggingface.co/bert/t5-spiece.model from cache at /root/.cache/torch/transformers/68f1b8dbca4350743bb54b8c4169fd38cbabaad564f85a9239337a8d0342af9f.9995af32582a1a7062cb3173c118cb7b4636fa03feb967340f20fc37406f021f\n"
          ],
          "name": "stderr"
        }
      ]
    },
    {
      "cell_type": "code",
      "metadata": {
        "colab": {
          "base_uri": "https://localhost:8080/"
        },
        "id": "pKOMYXEmPXsk",
        "outputId": "912f5b4d-2d12-421b-c839-efa81cbf6726"
      },
      "source": [
        "#Try out the tokenizer\n",
        "text = \"How are you feeling today?\"\n",
        "enc = tokenizer.encode_plus(text)\n",
        "print(enc)"
      ],
      "execution_count": null,
      "outputs": [
        {
          "output_type": "stream",
          "text": [
            "{'input_ids': [571, 33, 25, 1829, 469, 58], 'token_type_ids': [0, 0, 0, 0, 0, 0], 'attention_mask': [1, 1, 1, 1, 1, 1]}\n"
          ],
          "name": "stdout"
        }
      ]
    },
    {
      "cell_type": "code",
      "metadata": {
        "colab": {
          "base_uri": "https://localhost:8080/"
        },
        "id": "HQ1prjCpm2nj",
        "outputId": "75eb2627-e364-4a8a-dfed-d5ea57db79c2"
      },
      "source": [
        "#See how the labels are encoded\n",
        "labels = [\"no\", \"weak\", \"strong\"]\n",
        "for lab in labels:\n",
        "  print(tokenizer.encode(lab))"
      ],
      "execution_count": null,
      "outputs": [
        {
          "output_type": "stream",
          "text": [
            "[150]\n",
            "[5676]\n",
            "[1101]\n"
          ],
          "name": "stdout"
        }
      ]
    },
    {
      "cell_type": "code",
      "metadata": {
        "id": "F8yVebeaeaCC"
      },
      "source": [
        "class EmpathyDataset(Dataset):\n",
        "  def __init__(self, tokenizer, data_dir, type_path,  max_len=512):\n",
        "    self.path = os.path.join(data_dir, type_path + '.txt')\n",
        "\n",
        "    self.data_column = \"text\"\n",
        "    self.class_column = \"score\"\n",
        "    self.data = pd.read_csv(self.path, sep=\";\", header=None, names=[self.data_column, self.class_column],\n",
        "                            engine=\"python\")\n",
        "    \n",
        "    self.max_len = max_len\n",
        "    self.tokenizer = tokenizer\n",
        "    self.inputs = []\n",
        "    self.targets = []\n",
        "\n",
        "    self._build()\n",
        "  \n",
        "  def __len__(self):\n",
        "    return len(self.inputs)\n",
        "  \n",
        "  def __getitem__(self, index):\n",
        "    source_ids = self.inputs[index][\"input_ids\"].squeeze()\n",
        "    target_ids = self.targets[index][\"input_ids\"].squeeze()\n",
        "\n",
        "    src_mask    = self.inputs[index][\"attention_mask\"].squeeze()  # might need to squeeze\n",
        "    target_mask = self.targets[index][\"attention_mask\"].squeeze()  # might need to squeeze\n",
        "\n",
        "    return {\"source_ids\": source_ids, \"source_mask\": src_mask, \"target_ids\": target_ids, \"target_mask\": target_mask}\n",
        "  \n",
        "  def _build(self):\n",
        "    for idx in range(len(self.data)):\n",
        "      input_, target = self.data.loc[idx, self.data_column], self.data.loc[idx, self.class_column]      \n",
        "      \n",
        "      input_ = input_ + ' </s>'\n",
        "      target = str(target) + \" </s>\"\n",
        "\n",
        "       # tokenize inputs\n",
        "      tokenized_inputs = self.tokenizer.batch_encode_plus(\n",
        "          [input_], max_length=self.max_len, pad_to_max_length=True, return_tensors=\"pt\"\n",
        "      )\n",
        "       # tokenize targets\n",
        "      tokenized_targets = self.tokenizer.batch_encode_plus(\n",
        "          [target], max_length=2, pad_to_max_length=True, return_tensors=\"pt\"\n",
        "      )\n",
        "\n",
        "      self.inputs.append(tokenized_inputs)\n",
        "      self.targets.append(tokenized_targets)"
      ],
      "execution_count": null,
      "outputs": []
    },
    {
      "cell_type": "code",
      "metadata": {
        "colab": {
          "base_uri": "https://localhost:8080/"
        },
        "id": "7PsD6gMBfAnJ",
        "outputId": "3b6ccf7c-24e4-48c8-cde2-fdd56947c558"
      },
      "source": [
        "#Sanity check that the size is what we expect\n",
        "dataset = EmpathyDataset(tokenizer, 'drive/MyDrive/empathy_classifier_data/', 'test', 512)\n",
        "len(dataset)"
      ],
      "execution_count": null,
      "outputs": [
        {
          "output_type": "execute_result",
          "data": {
            "text/plain": [
              "617"
            ]
          },
          "metadata": {},
          "execution_count": 23
        }
      ]
    },
    {
      "cell_type": "code",
      "metadata": {
        "colab": {
          "base_uri": "https://localhost:8080/"
        },
        "id": "mu9YrO1ijAWY",
        "outputId": "571fc97c-23a5-4f6d-9ba4-81de93a9bf1e"
      },
      "source": [
        "#Check one sample\n",
        "data = dataset[42]\n",
        "print(tokenizer.decode(data['source_ids']))\n",
        "print(tokenizer.decode(data['target_ids']))"
      ],
      "execution_count": null,
      "outputs": [
        {
          "output_type": "stream",
          "text": [
            "That's hard. Especially if you're the type of person to post in this sub. Loving yourself is really difficult. But loving others is easier. And I do love you. When you love others, I find, its easier to love yourself. Even just saying the words and seeing it echoed back makes me feel good. I hope I helped.\n",
            "strong\n"
          ],
          "name": "stdout"
        }
      ]
    },
    {
      "cell_type": "markdown",
      "metadata": {
        "id": "oXrdTKxqjPGw"
      },
      "source": [
        "##Train"
      ]
    },
    {
      "cell_type": "code",
      "metadata": {
        "id": "LtuG3yacjM70"
      },
      "source": [
        "#Uncomment line below to create folder in Drive\n",
        "#!mkdir -p 'drive/MyDrive/t5_empathy'"
      ],
      "execution_count": null,
      "outputs": []
    },
    {
      "cell_type": "code",
      "metadata": {
        "colab": {
          "base_uri": "https://localhost:8080/"
        },
        "id": "c2bWsbvdjXxt",
        "outputId": "52b747cc-84a8-46e8-af7d-5a9631f03281"
      },
      "source": [
        "args_dict.update({'data_dir': 'drive/MyDrive/empathy_classifier_data/', 'output_dir': 'drive/MyDrive/t5_empathy', 'num_train_epochs':6})\n",
        "args = argparse.Namespace(**args_dict)\n",
        "print(args_dict)"
      ],
      "execution_count": null,
      "outputs": [
        {
          "output_type": "stream",
          "text": [
            "{'data_dir': 'drive/MyDrive/empathy_classifier_data/', 'output_dir': 'drive/MyDrive/t5_empathy', 'model_name_or_path': 't5-base', 'tokenizer_name_or_path': 't5-base', 'max_seq_length': 512, 'learning_rate': 0.001, 'weight_decay': 0.0, 'adam_epsilon': 0.001, 'warmup_steps': 0, 'train_batch_size': 1, 'eval_batch_size': 1, 'num_train_epochs': 6, 'gradient_accumulation_steps': 16, 'n_gpu': 1, 'early_stop_callback': False, 'fp_16': False, 'opt_level': 'O1', 'max_grad_norm': 1.0, 'seed': 42}\n"
          ],
          "name": "stdout"
        }
      ]
    },
    {
      "cell_type": "code",
      "metadata": {
        "id": "ylf3q1hfjhHk"
      },
      "source": [
        "checkpoint_callback = pl.callbacks.ModelCheckpoint(\n",
        "    filepath=args.output_dir, prefix=\"checkpoint\", monitor=\"val_loss\", mode=\"min\", save_top_k=5\n",
        ")\n",
        "\n",
        "train_params = dict(\n",
        "    accumulate_grad_batches=args.gradient_accumulation_steps,\n",
        "    gpus=args.n_gpu,\n",
        "    max_epochs=args.num_train_epochs,\n",
        "    early_stop_callback=False,\n",
        "    precision= 16 if args.fp_16 else 32,\n",
        "    amp_level=args.opt_level,\n",
        "    gradient_clip_val=args.max_grad_norm,\n",
        "    checkpoint_callback=checkpoint_callback,\n",
        "    callbacks=[LoggingCallback()],\n",
        ")"
      ],
      "execution_count": null,
      "outputs": []
    },
    {
      "cell_type": "code",
      "metadata": {
        "id": "KrZbBUnsjlw-"
      },
      "source": [
        "def get_dataset(tokenizer, type_path, args):\n",
        "  return EmpathyDataset(tokenizer=tokenizer, data_dir=args.data_dir, type_path=type_path,  max_len=args.max_seq_length)"
      ],
      "execution_count": null,
      "outputs": []
    },
    {
      "cell_type": "code",
      "metadata": {
        "id": "mLdb071BJ3ZK"
      },
      "source": [
        "#clear cache before starting\n",
        "torch.cuda.empty_cache()"
      ],
      "execution_count": null,
      "outputs": []
    },
    {
      "cell_type": "code",
      "metadata": {
        "id": "X7l0LqK5jpM6"
      },
      "source": [
        "#create new instance of T5 finetuner\n",
        "model = T5FineTuner(args)"
      ],
      "execution_count": null,
      "outputs": []
    },
    {
      "cell_type": "code",
      "metadata": {
        "colab": {
          "base_uri": "https://localhost:8080/"
        },
        "id": "vqV5BP7qjruX",
        "outputId": "698e4182-78f3-4bcb-c29e-e1d1b215bae4"
      },
      "source": [
        "trainer = pl.Trainer(**train_params)"
      ],
      "execution_count": null,
      "outputs": [
        {
          "output_type": "stream",
          "text": [
            "INFO:lightning:GPU available: True, used: True\n",
            "INFO:lightning:CUDA_VISIBLE_DEVICES: [0]\n"
          ],
          "name": "stderr"
        }
      ]
    },
    {
      "cell_type": "code",
      "metadata": {
        "id": "56lZgIx3aL9o"
      },
      "source": [
        "#rubbish collection\n",
        "gc.collect()\n",
        "torch.cuda.empty_cache()"
      ],
      "execution_count": null,
      "outputs": []
    },
    {
      "cell_type": "code",
      "metadata": {
        "id": "AqIJHJsZjv60"
      },
      "source": [
        "#train model\n",
        "trainer.fit(model)"
      ],
      "execution_count": null,
      "outputs": []
    },
    {
      "cell_type": "code",
      "metadata": {
        "id": "N2iAyD6WkJ63"
      },
      "source": [
        "#save model (uncomment to save)\n",
        "'''\n",
        "torch.save(model.state_dict(), 'drive/MyDrive/t5_empathy/T5empathy_finetuned.pt')\n",
        "'''"
      ],
      "execution_count": null,
      "outputs": []
    },
    {
      "cell_type": "code",
      "metadata": {
        "id": "hW1ecAccREEy"
      },
      "source": [
        "device = torch.device('cuda:0')"
      ],
      "execution_count": null,
      "outputs": []
    },
    {
      "cell_type": "code",
      "metadata": {
        "id": "am01wBw1kUVA"
      },
      "source": [
        "#load model (uncomment to load)\n",
        "'''\n",
        "model = T5FineTuner(args)\n",
        "model.load_state_dict(torch.load('drive/MyDrive/t5_empathy/T5empathy_finetuned.pt'))\n",
        "model.to(device)\n",
        "'''"
      ],
      "execution_count": null,
      "outputs": []
    },
    {
      "cell_type": "markdown",
      "metadata": {
        "id": "QjCM2XAvkhfZ"
      },
      "source": [
        "##Evaluate on the test set"
      ]
    },
    {
      "cell_type": "code",
      "metadata": {
        "id": "XNBp2N4dkidS"
      },
      "source": [
        "import textwrap\n",
        "from tqdm.auto import tqdm\n",
        "from sklearn import metrics"
      ],
      "execution_count": null,
      "outputs": []
    },
    {
      "cell_type": "code",
      "metadata": {
        "id": "2kKrPpVxkmj3"
      },
      "source": [
        "dataset = EmpathyDataset(tokenizer, 'drive/MyDrive/empathy_classifier_data', 'test', 512)\n",
        "loader = DataLoader(dataset, batch_size=32, shuffle=True)"
      ],
      "execution_count": null,
      "outputs": []
    },
    {
      "cell_type": "code",
      "metadata": {
        "id": "OukdbZmOlyCY"
      },
      "source": [
        "it = iter(loader)"
      ],
      "execution_count": null,
      "outputs": []
    },
    {
      "cell_type": "code",
      "metadata": {
        "id": "1quot8gGl0se",
        "colab": {
          "base_uri": "https://localhost:8080/"
        },
        "outputId": "b1083ffd-778c-421b-e31d-777da3506846"
      },
      "source": [
        "batch = next(it)\n",
        "batch[\"source_ids\"].shape"
      ],
      "execution_count": null,
      "outputs": [
        {
          "output_type": "execute_result",
          "data": {
            "text/plain": [
              "torch.Size([32, 512])"
            ]
          },
          "metadata": {},
          "execution_count": 46
        }
      ]
    },
    {
      "cell_type": "code",
      "metadata": {
        "id": "SM4zMhV6l2h2"
      },
      "source": [
        "outs = model.model.generate(input_ids=batch['source_ids'].cuda(), \n",
        "                              attention_mask=batch['source_mask'].cuda(), \n",
        "                              max_length=2)\n",
        "\n",
        "dec = [tokenizer.decode(ids) for ids in outs]\n",
        "\n",
        "texts = [tokenizer.decode(ids) for ids in batch['source_ids']]\n",
        "targets = [tokenizer.decode(ids) for ids in batch['target_ids']]"
      ],
      "execution_count": null,
      "outputs": []
    },
    {
      "cell_type": "code",
      "metadata": {
        "id": "XBffBxnPl8ko",
        "colab": {
          "base_uri": "https://localhost:8080/"
        },
        "outputId": "5ba5897e-d726-4b6c-9e53-42cbaa58498d"
      },
      "source": [
        "#print out some samples with prediction and target\n",
        "for i in range(32):\n",
        "    c = texts[i]\n",
        "    lines = textwrap.wrap(\"text:\\n%s\\n\" % c, width=100)\n",
        "    print(\"\\n\".join(lines))\n",
        "    print(\"\\nActual label: %s\" % targets[i])\n",
        "    print(\"predicted label: %s\" % dec[i])\n",
        "    print(\"=====================================================================\\n\")"
      ],
      "execution_count": null,
      "outputs": [
        {
          "output_type": "stream",
          "text": [
            "text: I'm sorry. You have no one to talk to?\n",
            "\n",
            "Actual label: strong\n",
            "predicted label: strong\n",
            "=====================================================================\n",
            "\n",
            "text: I feel you. Have you thought about speaking to a therapist or call a depression hotline? I'm\n",
            "not sure where you are living, but those calls are usually free and the people on the other end are\n",
            "pretty great at listening and coming up with helpful strategies. Hang in there.\n",
            "\n",
            "Actual label: weak\n",
            "predicted label: weak\n",
            "=====================================================================\n",
            "\n",
            "text: Don't worry, we are mortal for a reason.\n",
            "\n",
            "Actual label: weak\n",
            "predicted label: weak\n",
            "=====================================================================\n",
            "\n",
            "text: Chill man high school isn't that bad all you have to do is just be chill and if you don't want\n",
            "to talk to anyone that's fine but eventually someone will want to talk to you that's just how it is\n",
            ":)\n",
            "\n",
            "Actual label: strong\n",
            "predicted label: strong\n",
            "=====================================================================\n",
            "\n",
            "text: Can you talk about whats going on in your head? Maybe if you get it out, it will be a little\n",
            "more sorted? I'm sorry it's so overwhelming right now. Someone loves you, they just don't know how\n",
            "to show it the right way, right now.\n",
            "\n",
            "Actual label: strong\n",
            "predicted label: strong\n",
            "=====================================================================\n",
            "\n",
            "text: I'm sorry. I've been in and out of a relationship for years now. She's loving and considerate\n",
            "and great in so many ways.. but there's no commitment. Actually the space between us has grown over\n",
            "the years. I guess part of it is that I'm a bit of a basket case and it can be emotionally taxing. I\n",
            "don't even want to put her through all of that for the rest of her life. But at the end of the day I\n",
            "just want to go home and share my life with her.. and she's not there. She's done so much for me but\n",
            "it makes me feel so unwanted that this is the end of the line. Like I'm just a burden and despite\n",
            "all the love she has to offer, I'm just too screwed up for it to work. I feel so lonely and so\n",
            "stupid for everything I've done to turn her away.\n",
            "\n",
            "Actual label: strong\n",
            "predicted label: strong\n",
            "=====================================================================\n",
            "\n",
            "text: Main focus should be on yourself and your own personal interests. Be solid on a self-\n",
            "development mindset. Be more self-aware of yourself and your goals.\n",
            "\n",
            "Actual label: no\n",
            "predicted label: no\n",
            "=====================================================================\n",
            "\n",
            "text: I literally took a year off last year because I just couldn't cope at all. I'll be going back\n",
            "in a fortnight and I already know that I won't be able to get out of bed again. I really wonder\n",
            "what's the point sometimes.\n",
            "\n",
            "Actual label: no\n",
            "predicted label: no\n",
            "=====================================================================\n",
            "\n",
            "text: Yea, things go more wrong when happy. Kind of. Really I just get more nervous because I\n",
            "suddenly have that happiness to lose. When Im depressed it is what it is, but when like carrying a\n",
            "bag of money through a bad neighbourhood at let me lose lol. I be happy if not risking something.\n",
            "The risk and fear of losing the happiness, is part of how I feel good. Like, I feel proud that\n",
            "willing to take that risk. If that makes sense? Be careful with music, powerful. I have stuff I\n",
            "listen to because so good at effecting how I feel. Also, your brain releases a lot of chemicals when\n",
            "happy for the first time in a while, if ever had an extreme sugar rush, or done cocaine lol, it can\n",
            "be overwhelming. normal though.\n",
            "\n",
            "Actual label: no\n",
            "predicted label: no\n",
            "=====================================================================\n",
            "\n",
            "text: For what worth it probably mean much coming from a complete stranger but glad it failed, or\n",
            "the world would have just lost 1 more good person and we are low on them as is You can pm me anytime\n",
            "if you wanna talk\n",
            "\n",
            "Actual label: strong\n",
            "predicted label: strong\n",
            "=====================================================================\n",
            "\n",
            "text: GO TO THE DOCTOR AND TELL HIM EXACTLY WHAT YOU SAID. This is not just life that's what I\n",
            "believed forever. You'll be so happy you saw a doctor. Seriously call right now. When I get happy\n",
            "people notice and when I'm not happy everyone thinks I'm a dick. Obviously non of us actually have\n",
            "free will\n",
            "\n",
            "Actual label: no\n",
            "predicted label: no\n",
            "=====================================================================\n",
            "\n",
            "text: Celebrating the small things is important! Keep setting small goals!\n",
            "\n",
            "Actual label: weak\n",
            "predicted label: weak\n",
            "=====================================================================\n",
            "\n",
            "text: Have you looked into getting help?\n",
            "\n",
            "Actual label: no\n",
            "predicted label: no\n",
            "=====================================================================\n",
            "\n",
            "text: Check in with us! I hope we shed some light for you in there. Hugs.\n",
            "\n",
            "Actual label: strong\n",
            "predicted label: strong\n",
            "=====================================================================\n",
            "\n",
            "text: yes! so sorry that's happening to you, but it feels good to relate - I see a lot of posts\n",
            "about having great dreams. I have at least one bad dream almost every night - and the feeling\n",
            "*always* bleeds into my day, especially if it was confusing or made me question reality. I have\n",
            "dreams all the time about my little sisters getting hurt, and it makes me worry for them. just today\n",
            "I had some kind of sleep paralysis (I don't know if that's the right word, I looked it up but it\n",
            "didn't seem to fit) and honestly I'm scared to fall asleep tonight because I don't want it to happen\n",
            "again. it's happened several times and it terrifies me. you're not alone, friend.\n",
            "\n",
            "Actual label: strong\n",
            "predicted label: strong\n",
            "=====================================================================\n",
            "\n",
            "text: School is probably about the most stressful thing in my life right now. I can't put myself to\n",
            "actually work hard at school because I just can't get myself to care enough. My family expects so\n",
            "much out of me and I constantly let them down.\n",
            "\n",
            "Actual label: no\n",
            "predicted label: no\n",
            "=====================================================================\n",
            "\n",
            "text: Very sorry to hear it. She came back the first time?\n",
            "\n",
            "Actual label: strong\n",
            "predicted label: strong\n",
            "=====================================================================\n",
            "\n",
            "text: I'm so sorry to hear about your situation--that's a really difficult thing to have to endure,\n",
            "especially with your family's lack of understanding. I don't think you should give up the\n",
            "possibility of finding relief for your pain--even if there is not a reliable treatment now, pain\n",
            "relief is a major area of medical science research. (Is medical marijuana legal where you live, or\n",
            "if not is it a possibility to move to where it is?) You might find support and recommendations at\n",
            "r/sciatica Hang in there. I would strongly recommend trying to talk to a therapist if that's an\n",
            "option. Otherwise, it seems to me the other most important thing you can do is to try to find work\n",
            "or an activity, paid or unpaid, that is meaningful to you (if movement is an issue, look up online\n",
            "opportunities) which will help you get your mind off of your pain.\n",
            "\n",
            "Actual label: strong\n",
            "predicted label: strong\n",
            "=====================================================================\n",
            "\n",
            "text: I'm around if you need someone to chat with. I'm sorry you're feeling sad. Sometimes it's such\n",
            "a painful and unbearable feeling.\n",
            "\n",
            "Actual label: strong\n",
            "predicted label: strong\n",
            "=====================================================================\n",
            "\n",
            "text: Because sometimes it just takes time. Serotonin and dopamine take their time to adjust. Also,\n",
            "though the gym is great, it will deplete you so you might be suffering from that. Get a lot of\n",
            "protein, magnesium and zinc and repeat tomorrow. And congrats! You did great today.\n",
            "\n",
            "Actual label: strong\n",
            "predicted label: strong\n",
            "=====================================================================\n",
            "\n",
            "text: I feel you, honestly beginning to wonder if college is really worth it.\n",
            "\n",
            "Actual label: weak\n",
            "predicted label: weak\n",
            "=====================================================================\n",
            "\n",
            "text: There are many services that local and state governments provide to help people such as\n",
            "yourself find work. The cool thing is they are totally free and they can provide a support system\n",
            "and will work with you to find a job that works for you! I would suggest looking online for these\n",
            "services and sending your information to them. Stay strong and I love you!!\n",
            "\n",
            "Actual label: strong\n",
            "predicted label: strong\n",
            "=====================================================================\n",
            "\n",
            "text: Sometimes you really need to be reminded of that other side and that you will in fact return\n",
            "to it. Don't make any big decisions when in the heat of the moment. Focus on other things (TV shows,\n",
            "artistic endeavours, school, etc) and return once you've cooled off. Good on you for reaching out\n",
            "for help, my friend. Despite these people not knowing you, we're all in this together. Keep your\n",
            "head up\n",
            "\n",
            "Actual label: weak\n",
            "predicted label: weak\n",
            "=====================================================================\n",
            "\n",
            "text: I'll be thinking this all night tonight.\n",
            "\n",
            "Actual label: no\n",
            "predicted label: no\n",
            "=====================================================================\n",
            "\n",
            "text: And this is why I am sleeping like 12 hours a day now. In my dreams, everything is great. Then\n",
            "I wake up and it is like F*ck me, not\n",
            "\n",
            "Actual label: no\n",
            "predicted label: no\n",
            "=====================================================================\n",
            "\n",
            "text: That feeling when your teeth are rotting away and you're too scared to go to the dentist. :(\n",
            "\n",
            "Actual label: no\n",
            "predicted label: weak\n",
            "=====================================================================\n",
            "\n",
            "text: The world is a vampire, sent to drain Secret destroyers, hold you up to the flames And what do\n",
            "I get, for my pain? Betrayed desires, and a piece of the game.\n",
            "\n",
            "Actual label: no\n",
            "predicted label: no\n",
            "=====================================================================\n",
            "\n",
            "text: omg lol I 100% blame my parents. After taking an AP Psychology course at my school, it kind of\n",
            "shifted my own perspective on my depression. I know I can't claim to be an expert after reading just\n",
            "one textbook, but even an idiot can realize that your behavior and who you are is just totally as a\n",
            "result of your parents. The genetic aspects aren't their fault of course, but they are perfect human\n",
            "specimens, so you can imagine what 17 years of always being wrong has done to my self esteem and\n",
            "thought process. Strangely, being cognizant of that fact doesn't change it much. Of course, I've\n",
            "directly told my parents I blame them for who I am, and as perfect specimens, they told me that I\n",
            "can't keep blaming them for everything. There's truth to that of course, but it's rather incredible\n",
            "that they can find the gall to abdicate themselves of all guilt and responsibility. I'd better just\n",
            "get on my hands and knees and obey their every whim, since they're the ones who work and pay for my\n",
            "existence, regardless of whether or not I can actually do jack shit about that (child labor laws,\n",
            "yo). Lol sorry your post is just so relatable I had to rant.\n",
            "\n",
            "Actual label: strong\n",
            "predicted label: strong\n",
            "=====================================================================\n",
            "\n",
            "text: Your friends probably know what going through and can help you. discourage help that you know\n",
            "you can get if you need to talk to someone then tell them. I know it can get hard and I hope your\n",
            "Day the worst.\n",
            "\n",
            "Actual label: no\n",
            "predicted label: weak\n",
            "=====================================================================\n",
            "\n",
            "text: tried it personally. One friend told me whenever he does shrooms he depressed for at least a\n",
            "month afterwards. But bad trips are also a risk.\n",
            "\n",
            "Actual label: no\n",
            "predicted label: no\n",
            "=====================================================================\n",
            "\n",
            "text: Ah I'm sorry :( Panic attack are awful but you certainly shouldn't feel embarrassed!\n",
            "\n",
            "Actual label: strong\n",
            "predicted label: strong\n",
            "=====================================================================\n",
            "\n",
            "text: like being stuck in a black hole. At times you just close your eyes and fall. Other times you\n",
            "open your eyes. Your eyes adjust to the darkness you realize your in a room and the door is only 3ft\n",
            "away it seems impossible to reach so you close your eyes and keep falling\n",
            "\n",
            "Actual label: no\n",
            "predicted label: no\n",
            "=====================================================================\n",
            "\n"
          ],
          "name": "stdout"
        }
      ]
    },
    {
      "cell_type": "markdown",
      "metadata": {
        "id": "ofeXxOxsmdg7"
      },
      "source": [
        "###Test metrics"
      ]
    },
    {
      "cell_type": "code",
      "metadata": {
        "id": "on2nAYmKmeql",
        "colab": {
          "base_uri": "https://localhost:8080/",
          "height": 49,
          "referenced_widgets": [
            "579f11cac4e349269570fd6f60e9ccbc",
            "bd531853b03948c7b91c22f6ea55b101",
            "8492a2cd1b504191b2cc651fe4dd0ec4",
            "244faeb4437d47d195afece9d5750c9e",
            "a5201d577a74485ba090072de2fa1470",
            "965d5c3d01d24a6e8bed4f883d810314",
            "8bfac53b354743c8be580e502988fa37",
            "ca4c1e9ebe6443d8ab522149ca7fe251",
            "eb9c6c22101a4007a6cf1ce18a133321",
            "0b4bfa95c7264a038a5472785ab4c477",
            "30dec44cd664495c8540ae79c98d1637"
          ]
        },
        "outputId": "3edea012-76c5-49d5-e39b-bfb32f0fc511"
      },
      "source": [
        "#Run full test set evaluation\n",
        "dataset = EmpathyDataset(tokenizer, 'drive/MyDrive/empathy_classifier_data', 'test', 512)\n",
        "loader = DataLoader(dataset, batch_size=32, num_workers=4)\n",
        "model.model.eval()\n",
        "outputs = []\n",
        "targets = []\n",
        "for batch in tqdm(loader):\n",
        "  outs = model.model.generate(input_ids=batch['source_ids'].cuda(), \n",
        "                              attention_mask=batch['source_mask'].cuda(), \n",
        "                              max_length=2)\n",
        "\n",
        "  dec = [tokenizer.decode(ids) for ids in outs]\n",
        "  target = [tokenizer.decode(ids) for ids in batch[\"target_ids\"]]\n",
        "  \n",
        "  outputs.extend(dec)\n",
        "  targets.extend(target)"
      ],
      "execution_count": null,
      "outputs": [
        {
          "output_type": "display_data",
          "data": {
            "application/vnd.jupyter.widget-view+json": {
              "model_id": "579f11cac4e349269570fd6f60e9ccbc",
              "version_minor": 0,
              "version_major": 2
            },
            "text/plain": [
              "  0%|          | 0/20 [00:00<?, ?it/s]"
            ]
          },
          "metadata": {}
        }
      ]
    },
    {
      "cell_type": "code",
      "metadata": {
        "id": "DZUgBAX7uJOK"
      },
      "source": [
        "for i, out in enumerate(outputs):\n",
        "  if out not in labels:\n",
        "    print(i, 'detected invalid prediction')\n",
        "    #added to deal with invalid predictions arising from txt file:\n",
        "    del outputs[i]\n",
        "    del targets[i]"
      ],
      "execution_count": null,
      "outputs": []
    },
    {
      "cell_type": "code",
      "metadata": {
        "colab": {
          "base_uri": "https://localhost:8080/"
        },
        "id": "rFZUsiRHuQhm",
        "outputId": "d785a775-ee85-456c-9f38-788640f03767"
      },
      "source": [
        "print(metrics.classification_report(targets, outputs, digits=4))"
      ],
      "execution_count": null,
      "outputs": [
        {
          "output_type": "stream",
          "text": [
            "              precision    recall  f1-score   support\n",
            "\n",
            "          no     0.9323    0.7617    0.8384       235\n",
            "      strong     0.9700    1.0000    0.9848       194\n",
            "        weak     0.7600    0.9096    0.8281       188\n",
            "\n",
            "    accuracy                         0.8817       617\n",
            "   macro avg     0.8874    0.8904    0.8838       617\n",
            "weighted avg     0.8917    0.8817    0.8813       617\n",
            "\n"
          ],
          "name": "stdout"
        }
      ]
    },
    {
      "cell_type": "markdown",
      "metadata": {
        "id": "ub7CWOqervI_"
      },
      "source": [
        "###Confusion matrix"
      ]
    },
    {
      "cell_type": "code",
      "metadata": {
        "id": "wivCCmkluWVR"
      },
      "source": [
        "import seaborn as sn\n",
        "import pandas as pd\n",
        "import matplotlib.pyplot as plt"
      ],
      "execution_count": null,
      "outputs": []
    },
    {
      "cell_type": "code",
      "metadata": {
        "id": "h5_-LN_duYHc"
      },
      "source": [
        "cm = metrics.confusion_matrix(targets, outputs)"
      ],
      "execution_count": null,
      "outputs": []
    },
    {
      "cell_type": "code",
      "metadata": {
        "id": "Gjv53Wkgr4P3",
        "colab": {
          "base_uri": "https://localhost:8080/",
          "height": 445
        },
        "outputId": "f328ed5f-ef9c-43c8-e0db-24aa499e9a0d"
      },
      "source": [
        "df_cm = pd.DataFrame(cm, index = [\"no\", \"strong\", \"weak\"], columns = [\"no\", \"strong\", \"weak\"])\n",
        "plt.figure(figsize = (10,7))\n",
        "sn.heatmap(df_cm, annot=True, cmap='Greens', fmt='g')"
      ],
      "execution_count": null,
      "outputs": [
        {
          "output_type": "execute_result",
          "data": {
            "text/plain": [
              "<matplotlib.axes._subplots.AxesSubplot at 0x7f08f004cb90>"
            ]
          },
          "metadata": {},
          "execution_count": 55
        },
        {
          "output_type": "display_data",
          "data": {
            "image/png": "[encoded data removed]",
            "text/plain": [
              "<Figure size 720x504 with 2 Axes>"
            ]
          },
          "metadata": {
            "needs_background": "light"
          }
        }
      ]
    },
    {
      "cell_type": "markdown",
      "metadata": {
        "id": "sBGuYB6nJH4i"
      },
      "source": [
        "#Further finetune the model on the 1100 labelled samples from our dataset"
      ]
    },
    {
      "cell_type": "code",
      "metadata": {
        "id": "MwV1axp5Jvrr"
      },
      "source": [
        "#retrieve paths of splits as defined in the baseline notebook\n",
        "\n",
        "train_path = \"drive/MyDrive/empathy_classifier_data/my_train.txt\"\n",
        "test_path = \"drive/MyDrive/empathy_classifier_data/my_test.txt\"\n",
        "val_path = \"drive/MyDrive/empathy_classifier_data/my_val.txt\""
      ],
      "execution_count": null,
      "outputs": []
    },
    {
      "cell_type": "code",
      "metadata": {
        "id": "Ph-3a6sCZher"
      },
      "source": [
        "#redefine model class with correct paths\n",
        "class T5FineTuner(pl.LightningModule):\n",
        "  def __init__(self, hparams):\n",
        "    super(T5FineTuner, self).__init__()\n",
        "    self.hparams = hparams\n",
        "    \n",
        "    self.model = T5ForConditionalGeneration.from_pretrained(hparams.model_name_or_path)\n",
        "    self.tokenizer = T5Tokenizer.from_pretrained(hparams.tokenizer_name_or_path)\n",
        "  \n",
        "  def is_logger(self):\n",
        "    return self.trainer.proc_rank <= 0\n",
        "  \n",
        "  def forward(\n",
        "      self, input_ids, attention_mask=None, decoder_input_ids=None, decoder_attention_mask=None, lm_labels=None\n",
        "  ):\n",
        "    return self.model(\n",
        "        input_ids,\n",
        "        attention_mask=attention_mask,\n",
        "        decoder_input_ids=decoder_input_ids,\n",
        "        decoder_attention_mask=decoder_attention_mask,\n",
        "        lm_labels=lm_labels,\n",
        "    )\n",
        "\n",
        "  def _step(self, batch):\n",
        "    lm_labels = batch[\"target_ids\"]\n",
        "    lm_labels[lm_labels[:, :] == self.tokenizer.pad_token_id] = -100\n",
        "\n",
        "    outputs = self(\n",
        "        input_ids=batch[\"source_ids\"],\n",
        "        attention_mask=batch[\"source_mask\"],\n",
        "        lm_labels=lm_labels,\n",
        "        decoder_attention_mask=batch['target_mask']\n",
        "    )\n",
        "\n",
        "    loss = outputs[0]\n",
        "\n",
        "    return loss\n",
        "\n",
        "  def training_step(self, batch, batch_idx):\n",
        "    loss = self._step(batch)\n",
        "\n",
        "    tensorboard_logs = {\"train_loss\": loss}\n",
        "    return {\"loss\": loss, \"log\": tensorboard_logs}\n",
        "  \n",
        "  def training_epoch_end(self, outputs):\n",
        "    avg_train_loss = torch.stack([x[\"loss\"] for x in outputs]).mean()\n",
        "    tensorboard_logs = {\"avg_train_loss\": avg_train_loss}\n",
        "    return {\"avg_train_loss\": avg_train_loss, \"log\": tensorboard_logs, 'progress_bar': tensorboard_logs}\n",
        "\n",
        "  def validation_step(self, batch, batch_idx):\n",
        "    loss = self._step(batch)\n",
        "    return {\"val_loss\": loss}\n",
        "  \n",
        "  def validation_epoch_end(self, outputs):\n",
        "    avg_loss = torch.stack([x[\"val_loss\"] for x in outputs]).mean()\n",
        "    tensorboard_logs = {\"val_loss\": avg_loss}\n",
        "    return {\"avg_val_loss\": avg_loss, \"log\": tensorboard_logs, 'progress_bar': tensorboard_logs}\n",
        "\n",
        "  def configure_optimizers(self):\n",
        "    \"Prepare optimizer and schedule (linear warmup and decay)\"\n",
        "\n",
        "    model = self.model\n",
        "    no_decay = [\"bias\", \"LayerNorm.weight\"]\n",
        "    optimizer_grouped_parameters = [\n",
        "        {\n",
        "            \"params\": [p for n, p in model.named_parameters() if not any(nd in n for nd in no_decay)],\n",
        "            \"weight_decay\": self.hparams.weight_decay,\n",
        "        },\n",
        "        {\n",
        "            \"params\": [p for n, p in model.named_parameters() if any(nd in n for nd in no_decay)],\n",
        "            \"weight_decay\": 0.0,\n",
        "        },\n",
        "    ]\n",
        "    optimizer = AdamW(optimizer_grouped_parameters, lr=self.hparams.learning_rate, eps=self.hparams.adam_epsilon)\n",
        "    self.opt = optimizer\n",
        "    return [optimizer]\n",
        "  \n",
        "  def optimizer_step(self, epoch, batch_idx, optimizer, optimizer_idx, second_order_closure=None):\n",
        "    if self.trainer.use_tpu:\n",
        "      xm.optimizer_step(optimizer)\n",
        "    else:\n",
        "      optimizer.step()\n",
        "    optimizer.zero_grad()\n",
        "    self.lr_scheduler.step()\n",
        "  \n",
        "  def get_tqdm_dict(self):\n",
        "    tqdm_dict = {\"loss\": \"{:.3f}\".format(self.trainer.avg_loss), \"lr\": self.lr_scheduler.get_last_lr()[-1]}\n",
        "\n",
        "    return tqdm_dict\n",
        "\n",
        "  def train_dataloader(self):\n",
        "    train_dataset = get_dataset(tokenizer=self.tokenizer, type_path=\"my_train\", args=self.hparams)\n",
        "    dataloader = DataLoader(train_dataset, batch_size=self.hparams.train_batch_size, drop_last=True, shuffle=True, num_workers=4)\n",
        "    t_total = (\n",
        "        (len(dataloader.dataset) // (self.hparams.train_batch_size * max(1, self.hparams.n_gpu)))\n",
        "        // self.hparams.gradient_accumulation_steps\n",
        "        * float(self.hparams.num_train_epochs)\n",
        "    )\n",
        "    scheduler = get_linear_schedule_with_warmup(\n",
        "        self.opt, num_warmup_steps=self.hparams.warmup_steps, num_training_steps=t_total\n",
        "    )\n",
        "    self.lr_scheduler = scheduler\n",
        "    return dataloader\n",
        "\n",
        "  def val_dataloader(self):\n",
        "    val_dataset = get_dataset(tokenizer=self.tokenizer, type_path=\"my_val\", args=self.hparams)\n",
        "    return DataLoader(val_dataset, batch_size=self.hparams.eval_batch_size, num_workers=4)"
      ],
      "execution_count": null,
      "outputs": []
    },
    {
      "cell_type": "markdown",
      "metadata": {
        "id": "Yju-0IQnpC8R"
      },
      "source": [
        "##Train the T5 model"
      ]
    },
    {
      "cell_type": "code",
      "metadata": {
        "colab": {
          "base_uri": "https://localhost:8080/"
        },
        "id": "9TToMqHlo7bA",
        "outputId": "e9e51cf5-e62a-49d3-ad42-309976dacef4"
      },
      "source": [
        "#load the tokenizer for this model\n",
        "tokenizer = T5Tokenizer.from_pretrained('t5-base')"
      ],
      "execution_count": null,
      "outputs": [
        {
          "output_type": "stream",
          "text": [
            "INFO:transformers.tokenization_utils:loading file https://s3.amazonaws.com/models.huggingface.co/bert/t5-spiece.model from cache at /root/.cache/torch/transformers/68f1b8dbca4350743bb54b8c4169fd38cbabaad564f85a9239337a8d0342af9f.9995af32582a1a7062cb3173c118cb7b4636fa03feb967340f20fc37406f021f\n"
          ],
          "name": "stderr"
        }
      ]
    },
    {
      "cell_type": "code",
      "metadata": {
        "id": "JTs5-TrVsVyz"
      },
      "source": [
        "dataset = EmpathyDataset(tokenizer, 'drive/MyDrive/empathy_classifier_data/', 'my_val', 512)"
      ],
      "execution_count": null,
      "outputs": []
    },
    {
      "cell_type": "code",
      "metadata": {
        "id": "n12PBnSzschr",
        "colab": {
          "base_uri": "https://localhost:8080/"
        },
        "outputId": "072bc9b9-7f79-4553-932d-fec19e9c2b06"
      },
      "source": [
        "#show a sample\n",
        "data = dataset[31]\n",
        "print(tokenizer.decode(data['source_ids']))\n",
        "print(tokenizer.decode(data['target_ids']))"
      ],
      "execution_count": null,
      "outputs": [
        {
          "output_type": "stream",
          "text": [
            "Did something in particular happen that led to this?\n",
            "no\n"
          ],
          "name": "stdout"
        }
      ]
    },
    {
      "cell_type": "code",
      "metadata": {
        "id": "19txdH5cpqPa"
      },
      "source": [
        "#clear cache before starting\n",
        "torch.cuda.empty_cache()"
      ],
      "execution_count": null,
      "outputs": []
    },
    {
      "cell_type": "code",
      "metadata": {
        "id": "uAY8A7Jgo7_Z"
      },
      "source": [
        "args_dict = dict(\n",
        "    data_dir=\"\", # path for data files\n",
        "    output_dir=\"\", # path to save the checkpoints\n",
        "    model_name_or_path='t5-base',\n",
        "    tokenizer_name_or_path='t5-base',\n",
        "    max_seq_length=512,\n",
        "    learning_rate=1e-4,\n",
        "    weight_decay=0.0,\n",
        "    adam_epsilon=1e-8,\n",
        "    warmup_steps=0,\n",
        "    train_batch_size=1,\n",
        "    eval_batch_size=1,\n",
        "    num_train_epochs=12,\n",
        "    gradient_accumulation_steps=16,\n",
        "    n_gpu=1,\n",
        "    early_stop_callback=False,\n",
        "    fp_16=False, \n",
        "    opt_level='O1', \n",
        "    max_grad_norm=1.0,\n",
        "    seed=42,\n",
        ")"
      ],
      "execution_count": null,
      "outputs": []
    },
    {
      "cell_type": "code",
      "metadata": {
        "id": "2jg1VUA5p0dT",
        "colab": {
          "base_uri": "https://localhost:8080/"
        },
        "outputId": "1d753d61-2b3b-4d63-d74a-e02d3f1ecc2a"
      },
      "source": [
        "args_dict.update({'data_dir': 'drive/MyDrive/empathy_classifier_data/', 'output_dir': 'drive/MyDrive/t5_empathy', 'num_train_epochs':12})\n",
        "args = argparse.Namespace(**args_dict)\n",
        "print(args_dict)"
      ],
      "execution_count": null,
      "outputs": [
        {
          "output_type": "stream",
          "text": [
            "{'data_dir': 'drive/MyDrive/empathy_classifier_data/', 'output_dir': 'drive/MyDrive/t5_empathy', 'model_name_or_path': 't5-base', 'tokenizer_name_or_path': 't5-base', 'max_seq_length': 512, 'learning_rate': 0.0001, 'weight_decay': 0.0, 'adam_epsilon': 1e-08, 'warmup_steps': 0, 'train_batch_size': 1, 'eval_batch_size': 1, 'num_train_epochs': 12, 'gradient_accumulation_steps': 16, 'n_gpu': 1, 'early_stop_callback': False, 'fp_16': False, 'opt_level': 'O1', 'max_grad_norm': 1.0, 'seed': 42}\n"
          ],
          "name": "stdout"
        }
      ]
    },
    {
      "cell_type": "code",
      "metadata": {
        "id": "uWvn-NqKp3y0",
        "colab": {
          "base_uri": "https://localhost:8080/"
        },
        "outputId": "478e2c1c-4b09-4e47-b4df-9ed53fec7997"
      },
      "source": [
        "checkpoint_callback = pl.callbacks.ModelCheckpoint(\n",
        "    filepath=args.output_dir, prefix=\"checkpoint\", monitor=\"val_loss\", mode=\"min\", save_top_k=5\n",
        ")\n",
        "\n",
        "train_params = dict(\n",
        "    accumulate_grad_batches=args.gradient_accumulation_steps,\n",
        "    gpus=args.n_gpu,\n",
        "    max_epochs=args.num_train_epochs,\n",
        "    early_stop_callback=False,\n",
        "    precision= 16 if args.fp_16 else 32,\n",
        "    amp_level=args.opt_level,\n",
        "    gradient_clip_val=args.max_grad_norm,\n",
        "    checkpoint_callback=checkpoint_callback,\n",
        "    callbacks=[LoggingCallback()],\n",
        ")"
      ],
      "execution_count": null,
      "outputs": [
        {
          "output_type": "stream",
          "text": [
            "/usr/local/lib/python3.7/dist-packages/pytorch_lightning/utilities/distributed.py:23: UserWarning: Checkpoint directory drive/MyDrive/t5_empathy exists and is not empty with save_top_k != 0.All files in this directory will be deleted when a checkpoint is saved!\n",
            "  warnings.warn(*args, **kwargs)\n"
          ],
          "name": "stderr"
        }
      ]
    },
    {
      "cell_type": "code",
      "metadata": {
        "id": "UeNdS3WZp6p1"
      },
      "source": [
        "def get_dataset(tokenizer, type_path, args):\n",
        "  return EmpathyDataset(tokenizer=tokenizer, data_dir=args.data_dir, type_path=type_path,  max_len=args.max_seq_length)"
      ],
      "execution_count": null,
      "outputs": []
    },
    {
      "cell_type": "code",
      "metadata": {
        "id": "p84WWt8Yp-wh"
      },
      "source": [
        "#load the weights of the model previously finetuned on the emotional reactions dataset\n",
        "device = torch.device('cuda:0')\n",
        "model = T5FineTuner(args)\n",
        "model.load_state_dict(torch.load('drive/MyDrive/t5_empathy/T5empathy_finetuned.pt'))\n",
        "model.to(device)"
      ],
      "execution_count": null,
      "outputs": []
    },
    {
      "cell_type": "code",
      "metadata": {
        "id": "3nJ6uxC5qpPg",
        "colab": {
          "base_uri": "https://localhost:8080/"
        },
        "outputId": "f49a13ed-e158-4ef7-d0ad-445dd89d4467"
      },
      "source": [
        "trainer = pl.Trainer(**train_params)"
      ],
      "execution_count": null,
      "outputs": [
        {
          "output_type": "stream",
          "text": [
            "INFO:lightning:GPU available: True, used: True\n",
            "INFO:lightning:CUDA_VISIBLE_DEVICES: [0]\n"
          ],
          "name": "stderr"
        }
      ]
    },
    {
      "cell_type": "code",
      "metadata": {
        "id": "P5Lv4kiFirA8"
      },
      "source": [
        "#rubbish collection\n",
        "gc.collect()\n",
        "torch.cuda.empty_cache()"
      ],
      "execution_count": null,
      "outputs": []
    },
    {
      "cell_type": "code",
      "metadata": {
        "id": "VMW0Pk_irCib"
      },
      "source": [
        "#train loop\n",
        "trainer.fit(model)"
      ],
      "execution_count": null,
      "outputs": []
    },
    {
      "cell_type": "code",
      "metadata": {
        "id": "SOLjlWcRrH7K"
      },
      "source": [
        "#save model (uncomment to save)\n",
        "'''\n",
        "torch.save(model.state_dict(), 'drive/MyDrive/t5_empathy/T5_empathy_twicefinetuned.pt')\n",
        "'''"
      ],
      "execution_count": null,
      "outputs": []
    },
    {
      "cell_type": "code",
      "metadata": {
        "id": "OW3MBN1hFlnr"
      },
      "source": [
        "device = torch.device('cuda:0')"
      ],
      "execution_count": null,
      "outputs": []
    },
    {
      "cell_type": "code",
      "metadata": {
        "id": "N3AkmS7_rKjd"
      },
      "source": [
        "#load model (uncomment to load)\n",
        "'''\n",
        "model = T5FineTuner(args)\n",
        "model.load_state_dict(torch.load('drive/MyDrive/t5_empathy/T5_empathy_twicefinetuned.pt'))\n",
        "model.to(device)\n",
        "'''"
      ],
      "execution_count": null,
      "outputs": []
    },
    {
      "cell_type": "markdown",
      "metadata": {
        "id": "ta-dCRdKo0jn"
      },
      "source": [
        "##Test set evaluation"
      ]
    },
    {
      "cell_type": "code",
      "metadata": {
        "id": "iXUfYg73r0vt"
      },
      "source": [
        "import textwrap\n",
        "from tqdm.auto import tqdm\n",
        "from sklearn import metrics"
      ],
      "execution_count": null,
      "outputs": []
    },
    {
      "cell_type": "code",
      "metadata": {
        "id": "eOG7cSPVr4kK"
      },
      "source": [
        "dataset = EmpathyDataset(tokenizer, 'drive/MyDrive/empathy_classifier_data', 'my_test', 512)\n",
        "loader = DataLoader(dataset, batch_size=32, shuffle=True)"
      ],
      "execution_count": null,
      "outputs": []
    },
    {
      "cell_type": "code",
      "metadata": {
        "id": "oXH2MFnCvGtJ"
      },
      "source": [
        "it = iter(loader)"
      ],
      "execution_count": null,
      "outputs": []
    },
    {
      "cell_type": "code",
      "metadata": {
        "id": "b0LY4ua1vKHf",
        "colab": {
          "base_uri": "https://localhost:8080/"
        },
        "outputId": "4272cbb1-558e-459c-9510-d8d286f311a4"
      },
      "source": [
        "batch = next(it)\n",
        "batch[\"source_ids\"].shape"
      ],
      "execution_count": null,
      "outputs": [
        {
          "output_type": "execute_result",
          "data": {
            "text/plain": [
              "torch.Size([32, 512])"
            ]
          },
          "metadata": {},
          "execution_count": 95
        }
      ]
    },
    {
      "cell_type": "code",
      "metadata": {
        "id": "8QCcyElfvTyZ"
      },
      "source": [
        "outs = model.model.generate(input_ids=batch['source_ids'].cuda(), \n",
        "                              attention_mask=batch['source_mask'].cuda(), \n",
        "                              max_length=2)\n",
        "\n",
        "dec = [tokenizer.decode(ids) for ids in outs]\n",
        "\n",
        "texts = [tokenizer.decode(ids) for ids in batch['source_ids']]\n",
        "targets = [tokenizer.decode(ids) for ids in batch['target_ids']]"
      ],
      "execution_count": null,
      "outputs": []
    },
    {
      "cell_type": "code",
      "metadata": {
        "id": "cd86TUoavXLk",
        "colab": {
          "base_uri": "https://localhost:8080/"
        },
        "outputId": "10585d57-0807-450c-c081-ccf20401a330"
      },
      "source": [
        "#print some predictions\n",
        "for i in range(32):\n",
        "    c = texts[i]\n",
        "    lines = textwrap.wrap(\"text:\\n%s\\n\" % c, width=100)\n",
        "    print(\"\\n\".join(lines))\n",
        "    print(\"\\nActual label: %s\" % targets[i])\n",
        "    print(\"predicted label: %s\" % dec[i])\n",
        "    print(\"=====================================================================\\n\")"
      ],
      "execution_count": null,
      "outputs": [
        {
          "output_type": "stream",
          "text": [
            "text: Is there anything going on in your personal life that could be upsetting, have you fallen out\n",
            "with anyone close to you?\n",
            "\n",
            "Actual label: weak\n",
            "predicted label: weak\n",
            "=====================================================================\n",
            "\n",
            "text: I have some recommendations for you. Please take a look and choose any protocol that you'd\n",
            "like to try.\n",
            "\n",
            "Actual label: no\n",
            "predicted label: weak\n",
            "=====================================================================\n",
            "\n",
            "text: Are you in the middle of some trauma of a personal nature, like difficulties with family\n",
            "members or friends?\n",
            "\n",
            "Actual label: weak\n",
            "predicted label: no\n",
            "=====================================================================\n",
            "\n",
            "text: In all honesty, do you think that you are always available to consider alternatives to your\n",
            "point of view?\n",
            "\n",
            "Actual label: weak\n",
            "predicted label: weak\n",
            "=====================================================================\n",
            "\n",
            "text: When things go wrong, do you always think that you are to blame?\n",
            "\n",
            "Actual label: no\n",
            "predicted label: no\n",
            "=====================================================================\n",
            "\n",
            "text: Did you try to complete Protocol 6 and it resulted in reawakening some bad feelings due to\n",
            "things that happened in the past?\n",
            "\n",
            "Actual label: weak\n",
            "predicted label: weak\n",
            "=====================================================================\n",
            "\n",
            "text: Ah, I see. Is this something that's happened recently or a while ago?\n",
            "\n",
            "Actual label: weak\n",
            "predicted label: weak\n",
            "=====================================================================\n",
            "\n",
            "text: I understand that feelings of anxiety can be terrible. Is there something in particular that\n",
            "is making you feel this way?\n",
            "\n",
            "Actual label: strong\n",
            "predicted label: strong\n",
            "=====================================================================\n",
            "\n",
            "text: I understand. I believe you are feeling  ⁇, would you say that is correct?\n",
            "\n",
            "Actual label: no\n",
            "predicted label: weak\n",
            "=====================================================================\n",
            "\n",
            "text: I'm really pleased we managed to have this time together, I hope it helped you. You can come\n",
            "back whenever you feel like talking some more.\n",
            "\n",
            "Actual label: strong\n",
            "predicted label: strong\n",
            "=====================================================================\n",
            "\n",
            "text: Thank you, let's reflect on this feeling of yours a bit longer. Would you say you are a victim\n",
            "and are you blaming someone for how negative you feel?\n",
            "\n",
            "Actual label: strong\n",
            "predicted label: strong\n",
            "=====================================================================\n",
            "\n",
            "text: Thanks, I appreciate your cooperation. See you again soon!\n",
            "\n",
            "Actual label: strong\n",
            "predicted label: weak\n",
            "=====================================================================\n",
            "\n",
            "text: Thinking about it, would you say that you tend to always blame yourself when problems occur?\n",
            "\n",
            "Actual label: weak\n",
            "predicted label: weak\n",
            "=====================================================================\n",
            "\n",
            "text: If I may, do you think that perhaps you are trying to be someone else's saviour?\n",
            "\n",
            "Actual label: weak\n",
            "predicted label: weak\n",
            "=====================================================================\n",
            "\n",
            "text: May I ask if you always believe you are the main cause of your problems?\n",
            "\n",
            "Actual label: weak\n",
            "predicted label: weak\n",
            "=====================================================================\n",
            "\n",
            "text: Thank you for your answer, I am always here to understand and help you, never to judge. Is it\n",
            "possible that you are trying to take charge of someone else's life?\n",
            "\n",
            "Actual label: strong\n",
            "predicted label: strong\n",
            "=====================================================================\n",
            "\n",
            "text: It seems that you're feeling  ⁇  today, is that an accurate enough description of what you're\n",
            "feeling?\n",
            "\n",
            "Actual label: weak\n",
            "predicted label: weak\n",
            "=====================================================================\n",
            "\n",
            "text: Would you say you feel like the blame always belongs with you when something goes wrong?\n",
            "\n",
            "Actual label: weak\n",
            "predicted label: weak\n",
            "=====================================================================\n",
            "\n",
            "text: I'm sorry about that. Was this caused by a specific event/s?\n",
            "\n",
            "Actual label: weak\n",
            "predicted label: weak\n",
            "=====================================================================\n",
            "\n",
            "text: Do you feel like someone needs your help?\n",
            "\n",
            "Actual label: no\n",
            "predicted label: no\n",
            "=====================================================================\n",
            "\n",
            "text: How about we try a different one?\n",
            "\n",
            "Actual label: no\n",
            "predicted label: no\n",
            "=====================================================================\n",
            "\n",
            "text: When things go wrong for you, do you always put the blame on yourself, or do you always accuse\n",
            "yourself of a mistake?\n",
            "\n",
            "Actual label: weak\n",
            "predicted label: weak\n",
            "=====================================================================\n",
            "\n",
            "text: Do you ever find yourself blaming or controlling others around you?\n",
            "\n",
            "Actual label: weak\n",
            "predicted label: no\n",
            "=====================================================================\n",
            "\n",
            "text: Thank you for your time. I'm sure we'll cross paths again!\n",
            "\n",
            "Actual label: weak\n",
            "predicted label: weak\n",
            "=====================================================================\n",
            "\n",
            "text: Thank you. From what you have told me I understand that you are feeling  ⁇, do you think this\n",
            "more or less describes the way you're feeling?\n",
            "\n",
            "Actual label: strong\n",
            "predicted label: strong\n",
            "=====================================================================\n",
            "\n",
            "text: Would you feel really uncomfortable reliving this past negative event?\n",
            "\n",
            "Actual label: weak\n",
            "predicted label: weak\n",
            "=====================================================================\n",
            "\n",
            "text: Do you often feel that it is your job to save others, or that other people expect you to be\n",
            "that way?\n",
            "\n",
            "Actual label: weak\n",
            "predicted label: weak\n",
            "=====================================================================\n",
            "\n",
            "text: Was it a recent or distant event?\n",
            "\n",
            "Actual label: no\n",
            "predicted label: no\n",
            "=====================================================================\n",
            "\n",
            "text: Do you remember if you have strongly felt or expressed any of the following emotions recently\n",
            "toward someone:\n",
            "\n",
            "Actual label: no\n",
            "predicted label: no\n",
            "=====================================================================\n",
            "\n",
            "text: Please tell me, are you always putting the blame on yourself when things go wrong?\n",
            "\n",
            "Actual label: weak\n",
            "predicted label: weak\n",
            "=====================================================================\n",
            "\n",
            "text: Do you feel you're a victim?\n",
            "\n",
            "Actual label: no\n",
            "predicted label: no\n",
            "=====================================================================\n",
            "\n",
            "text: Can you let me know if you were recently working on Protocol 11 and it brought back some bad\n",
            "feelings from the past?\n",
            "\n",
            "Actual label: weak\n",
            "predicted label: weak\n",
            "=====================================================================\n",
            "\n"
          ],
          "name": "stdout"
        }
      ]
    },
    {
      "cell_type": "code",
      "metadata": {
        "id": "_Jci7f3gKOD3",
        "colab": {
          "base_uri": "https://localhost:8080/",
          "height": 49,
          "referenced_widgets": [
            "14f72fc626bf4d78b044355bb2bbe3b2",
            "47862fe38ce24ea2a0d6e7a638ebbee5",
            "f4001f18cce542deae5f97917446da5f",
            "4f54c2efb7714fadaa7e552fe6d548cb",
            "090acf10b0ce4920a717ba2f4f508df7",
            "93d723d5bc324ab2a99fd38533e27421",
            "7fd2c06f03fd4757965c646f4a6f621e",
            "23aa7eaad33147c7860c34d96149c2d9",
            "705f67b282d74043aa8a42412b47737f",
            "3cbff28bef1141718605b5ec89c13b2a",
            "cc982795beda4ec3bb22c1a5cad841dd"
          ]
        },
        "outputId": "85e8bda5-4f87-488c-b7a7-2b97b549f4aa"
      },
      "source": [
        "dataset = EmpathyDataset(tokenizer, 'drive/MyDrive/empathy_classifier_data/', 'my_test', 512)\n",
        "loader = DataLoader(dataset, batch_size=32, num_workers=4)\n",
        "model.model.eval()\n",
        "outputs = []\n",
        "targets = []\n",
        "for batch in tqdm(loader):\n",
        "  outs = model.model.generate(input_ids=batch['source_ids'].cuda(), \n",
        "                              attention_mask=batch['source_mask'].cuda(), \n",
        "                              max_length=2)\n",
        "\n",
        "  dec = [tokenizer.decode(ids) for ids in outs]\n",
        "  target = [tokenizer.decode(ids) for ids in batch[\"target_ids\"]]\n",
        "  \n",
        "  outputs.extend(dec)\n",
        "  targets.extend(target)"
      ],
      "execution_count": null,
      "outputs": [
        {
          "output_type": "display_data",
          "data": {
            "application/vnd.jupyter.widget-view+json": {
              "model_id": "14f72fc626bf4d78b044355bb2bbe3b2",
              "version_minor": 0,
              "version_major": 2
            },
            "text/plain": [
              "  0%|          | 0/4 [00:00<?, ?it/s]"
            ]
          },
          "metadata": {}
        }
      ]
    },
    {
      "cell_type": "code",
      "metadata": {
        "id": "WfsmFcc6MSPR"
      },
      "source": [
        "for i, out in enumerate(outputs):\n",
        "  if out not in labels:\n",
        "    print(i, 'detected invalid prediction')\n",
        "    del outputs[i]\n",
        "    del targets[i]"
      ],
      "execution_count": null,
      "outputs": []
    },
    {
      "cell_type": "code",
      "metadata": {
        "id": "vZEBunOJMWfO",
        "colab": {
          "base_uri": "https://localhost:8080/"
        },
        "outputId": "634a9805-9a9d-4af1-ff26-52b8abbf16b1"
      },
      "source": [
        "#metrics\n",
        "print(metrics.classification_report(targets, outputs, digits=4))"
      ],
      "execution_count": null,
      "outputs": [
        {
          "output_type": "stream",
          "text": [
            "              precision    recall  f1-score   support\n",
            "\n",
            "          no     0.8919    0.8250    0.8571        40\n",
            "      strong     0.7436    0.8286    0.7838        35\n",
            "        weak     0.6286    0.6111    0.6197        36\n",
            "\n",
            "    accuracy                         0.7568       111\n",
            "   macro avg     0.7547    0.7549    0.7535       111\n",
            "weighted avg     0.7597    0.7568    0.7570       111\n",
            "\n"
          ],
          "name": "stdout"
        }
      ]
    },
    {
      "cell_type": "markdown",
      "metadata": {
        "id": "Jv8yPUAbCkVe"
      },
      "source": [
        "####Confusion matrix"
      ]
    },
    {
      "cell_type": "code",
      "metadata": {
        "id": "z8-_OJESMZt6"
      },
      "source": [
        "import seaborn as sn\n",
        "import pandas as pd\n",
        "import matplotlib.pyplot as plt"
      ],
      "execution_count": null,
      "outputs": []
    },
    {
      "cell_type": "code",
      "metadata": {
        "id": "c7zGD1brMc5S"
      },
      "source": [
        "cm = metrics.confusion_matrix(targets, outputs)"
      ],
      "execution_count": null,
      "outputs": []
    },
    {
      "cell_type": "code",
      "metadata": {
        "id": "3OhYybzfDuhk",
        "colab": {
          "base_uri": "https://localhost:8080/",
          "height": 445
        },
        "outputId": "098e8820-418a-4f92-8166-461d668b28e7"
      },
      "source": [
        "df_cm = pd.DataFrame(cm, index = [\"no\", \"strong\", \"weak\"], columns = [\"no\", \"strong\", \"weak\"])\n",
        "plt.figure(figsize = (10,7))\n",
        "sn.heatmap(df_cm, annot=True, cmap='Greens', fmt='g')"
      ],
      "execution_count": null,
      "outputs": [
        {
          "output_type": "execute_result",
          "data": {
            "text/plain": [
              "<matplotlib.axes._subplots.AxesSubplot at 0x7f087a0be750>"
            ]
          },
          "metadata": {},
          "execution_count": 103
        },
        {
          "output_type": "display_data",
          "data": {
            "image/png": "[encoded data removed]",
            "text/plain": [
              "<Figure size 720x504 with 2 Axes>"
            ]
          },
          "metadata": {
            "needs_background": "light"
          }
        }
      ]
    },
    {
      "cell_type": "markdown",
      "metadata": {
        "id": "Lr1BPSMcr_lO"
      },
      "source": [
        "#Generate single empathy score prediction for a given string"
      ]
    },
    {
      "cell_type": "code",
      "metadata": {
        "id": "CAJi1B99sDPm"
      },
      "source": [
        "#define get_empathy_score function to generate individual prediction\n",
        "\n",
        "def empathy_score(text):\n",
        "  input_ids = tokenizer.encode(text + '</s>', return_tensors='pt').cuda()\n",
        "\n",
        "  output = model.model.generate(input_ids=input_ids, max_length=2).cuda()\n",
        "\n",
        "  dec = [tokenizer.decode(ids) for ids in output]\n",
        "  label = dec[0]\n",
        "\n",
        "  if label == 'no':\n",
        "    score = 0\n",
        "  elif label == 'weak':\n",
        "    score = 1\n",
        "  else:\n",
        "    score = 2\n",
        "    \n",
        "  return score"
      ],
      "execution_count": null,
      "outputs": []
    },
    {
      "cell_type": "code",
      "metadata": {
        "id": "5CdkXfpxg_v-",
        "colab": {
          "base_uri": "https://localhost:8080/"
        },
        "outputId": "0a02d378-5a68-491b-a131-8bcf9dc8aaec"
      },
      "source": [
        "text=\"Thank you. Do you feel like you can listen to others to help you get through things?\" #change here as necessary\n",
        "empathy_score(text)"
      ],
      "execution_count": null,
      "outputs": [
        {
          "output_type": "execute_result",
          "data": {
            "text/plain": [
              "1"
            ]
          },
          "metadata": {
            "tags": []
          },
          "execution_count": 84
        }
      ]
    }
  ]
}